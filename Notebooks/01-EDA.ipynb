{
 "cells": [
  {
   "cell_type": "markdown",
   "metadata": {},
   "source": [
    "# NBA Project EDA\n",
    "Notebook 1"
   ]
  },
  {
   "cell_type": "markdown",
   "metadata": {},
   "source": [
    "## Purpose\n",
    "\n",
    "The goal for this notebook is to conduct an exploratory data analysis (EDA) on datasets related to NBA games and players.<br>\n",
    "The primary objectives include:\n",
    "\n",
    "1. Setting Up the Environment: \n",
    "- Initializing the necessary libraries and configuring the workspace for data exploration.\n",
    "2.\tExploring the Database: \n",
    "- Diving into multiple tables within an NBA-related SQLite database, such as Game Table, Game Summary Table, Player Table, and others. \n",
    "- The aim is to understand the structure and contents of these tables, uncover patterns, and identify key statistics that can provide insights into NBA games and player performance.\n",
    "3.\tLoading and Transforming Data: \n",
    "- Importing specific datasets from the SQLite database and performing various transformations such as type conversions, data imputation, and cleaning. \n",
    "- Feature engineering steps are also applied to enhance the dataset by creating new features like game duration, location info, and attendance metrics.\n",
    "4.\tMerging Data: \n",
    "- Combining various datasets to create a comprehensive dataset that can be used for further analysis or predictive modeling. \n",
    "- Additional feature engineering is conducted during this phase to incorporate features like the distance between teams, previous season stats, and more.\n",
    "5.\tExporting Data: \n",
    "- After all transformations and merging processes are completed, the resulting datasets are exported for potential use in further analysis or modeling."
   ]
  },
  {
   "cell_type": "markdown",
   "metadata": {},
   "source": [
    "## Table of Contents\n",
    "  - [Setup](#setup)\n",
    "  - [Exploring Database](#exploring-database)\n",
    "    - [Game Table](#game-table)\n",
    "    - [Game Summary Table](#game-summary-table)\n",
    "    - [Other Stats Table](#other-stats-table)\n",
    "    - [Officials Table](#officials-table)\n",
    "    - [Inactive Players Table](#inactive-players-table)\n",
    "    - [Game Info Table](#game-info-table)\n",
    "    - [Line Score Table](#line-score-table)\n",
    "    - [Play by Play Table](#play-by-play-table)\n",
    "    - [Player Table](#player-table)\n",
    "    - [Team Table](#team-table)\n",
    "    - [Common Player Info Table](#common-player-info-table)\n",
    "    - [Team Details Table](#team-details-table)\n",
    "    - [Team History Table](#team-history-table)\n",
    "    - [Draft Combine Stats Table](#draft-combine-stats-table)\n",
    "    - [Draft History Table](#draft-history-table)\n",
    "    - [Team Info Common Table](#team-info-common-table)\n",
    "  - [Loading Select SQLite Data](#loading-select-sqlite-data)\n",
    "  - [Transforming Data](#transforming-data)\n",
    "    - [Type Conversions](#type-conversions)\n",
    "    - [Imputing Data](#imputing-data)\n",
    "    - [Cleaning Data](#cleaning-data)\n",
    "    - [Feature Engineering](#feature-engineering)\n",
    "    - [Exporting Transformed Data (Optional)](#exporting-transformed-data-optional)\n",
    "  - [Merging Data](#merging-data)\n",
    "    - [Additional Feature Engineering](#additional-feature-engineering)\n",
    "  - [Exporting All Data](#exporting-all-data)\n",
    "  - [Close Database Connection](#close-database-connection)"
   ]
  },
  {
   "cell_type": "markdown",
   "metadata": {},
   "source": [
    "## Setup"
   ]
  },
  {
   "cell_type": "code",
   "execution_count": 5,
   "metadata": {},
   "outputs": [],
   "source": [
    "# Package Imports\n",
    "import sqlite3\n",
    "import pandas as pd\n",
    "\n",
    "import time\n",
    "from geopy.geocoders import Nominatim\n",
    "from geopy.distance import distance"
   ]
  },
  {
   "cell_type": "code",
   "execution_count": 3,
   "metadata": {},
   "outputs": [],
   "source": [
    "# Pandas Options\n",
    "pd.set_option('display.max_columns', 100)\n",
    "pd.set_option('display.max_rows', 50)\n",
    "pd.set_option('display.max_colwidth', 100)\n",
    "pd.set_option('display.width', 1000)"
   ]
  },
  {
   "cell_type": "markdown",
   "metadata": {},
   "source": [
    "SQLite dataset can be downloaded from Kaggle [here](https://www.kaggle.com/datasets/wyattowalsh/basketball) and save it to \"data\" folder in present directory"
   ]
  },
  {
   "cell_type": "code",
   "execution_count": 3,
   "metadata": {},
   "outputs": [],
   "source": [
    "# Defining database location \n",
    "db_path = \"data/nba.sqlite\" "
   ]
  },
  {
   "cell_type": "code",
   "execution_count": 1,
   "metadata": {},
   "outputs": [],
   "source": [
    "# Global connection object to connect to SQLite data bases\n",
    "conn = None\n",
    "\n",
    "def init_connection(db_path):\n",
    "    global conn\n",
    "    if conn is None:\n",
    "        conn = sqlite3.connect(db_path)\n",
    "        print(\"Database connection opened.\")\n",
    "    else:\n",
    "        print(\"Database connection is already open.\")\n",
    "\n",
    "def close_connection():\n",
    "    global conn\n",
    "    if conn:\n",
    "        conn.close()\n",
    "        conn = None\n",
    "        print(\"Database connection closed.\")"
   ]
  },
  {
   "cell_type": "code",
   "execution_count": 6,
   "metadata": {},
   "outputs": [
    {
     "name": "stdout",
     "output_type": "stream",
     "text": [
      "Database connection opened.\n"
     ]
    }
   ],
   "source": [
    "# Initialize the connection with SQLite Database\n",
    "init_connection(db_path)"
   ]
  },
  {
   "cell_type": "markdown",
   "metadata": {},
   "source": [
    "Convenience Functions"
   ]
  },
  {
   "cell_type": "code",
   "execution_count": 113,
   "metadata": {},
   "outputs": [],
   "source": [
    "def get_table_shape(table_name):\n",
    "    \"\"\"\n",
    "    Returns the shape (number of rows and columns) of a specified table in the SQLite database.\n",
    "\n",
    "    Args:\n",
    "    table_name (str): Name of the table to get the shape of.\n",
    "\n",
    "    Returns:\n",
    "    tuple: A tuple containing the number of rows and columns in the table.\n",
    "    \"\"\"\n",
    "    cursor = conn.cursor()\n",
    "    \n",
    "    # SQL query to count the number of rows in the table\n",
    "    row_count_query = f'SELECT COUNT(*) FROM {table_name}'\n",
    "    cursor.execute(row_count_query)\n",
    "    row_count = cursor.fetchone()[0]\n",
    "    \n",
    "    # Get the column names for the table to determine the number of columns\n",
    "    columns = get_column_names(cursor, table_name)\n",
    "    col_count = len(columns)\n",
    "    \n",
    "    return (row_count, col_count)  # Return the number of rows and columns as a tuple\n",
    "\n",
    "def list_tables():\n",
    "    \"\"\"\n",
    "    Lists all tables in the SQLite database.\n",
    "\n",
    "    Returns:\n",
    "    list: List of table names.\n",
    "    \"\"\"\n",
    "    cursor = conn.cursor()  # Create a cursor object\n",
    "    tables = get_table_names(cursor)  # Get all table names\n",
    "    return tables  # Return the list of table names\n",
    "\n",
    "def list_columns(table_name):\n",
    "    \"\"\"\n",
    "    Lists all columns in the SQLite database.\n",
    "\n",
    "    Args:\n",
    "    table_name (str): Name of the table.\n",
    "\n",
    "    Returns:\n",
    "    list: List of column names.\n",
    "    \"\"\"\n",
    "    cursor = conn.cursor()  # Create a cursor object\n",
    "    columns = get_column_names(cursor, table_name)  # Get all column names\n",
    "    return columns  # Return the list of column names\n",
    "\n",
    "def get_table_names(cursor):\n",
    "    \"\"\"\n",
    "    Retrieves all table names in the SQLite database.\n",
    "\n",
    "    Args:\n",
    "    cursor (sqlite3.Cursor): SQLite cursor object.\n",
    "\n",
    "    Returns:\n",
    "    list: List of table names.\n",
    "    \"\"\"\n",
    "    cursor.execute(\"SELECT name FROM sqlite_master WHERE type='table';\")  # Execute SQL query to get all table names\n",
    "    return [row[0] for row in cursor.fetchall()]  # Fetch and return the table names as a list\n",
    "\n",
    "def get_column_names(cursor, table_name):\n",
    "    \"\"\"\n",
    "    Retrieves all column names for a given table in the SQLite database.\n",
    "\n",
    "    Args:\n",
    "    cursor (sqlite3.Cursor): SQLite cursor object.\n",
    "    table_name (str): Name of the table.\n",
    "\n",
    "    Returns:\n",
    "    list: List of column names.\n",
    "    \"\"\"\n",
    "    cursor.execute(f\"PRAGMA table_info({table_name});\")  # Execute SQL query to get column info for the table\n",
    "    return [row[1] for row in cursor.fetchall()]  # Fetch and return the column names as a list\n",
    "\n",
    "#------------------Functions to check for Nulls and Duplicates------------------------#\n",
    "def check_null_values(table_name):\n",
    "    \"\"\"\n",
    "    Checks for null values in a specified table and returns the result as a pandas DataFrame.\n",
    "\n",
    "    Args:\n",
    "    table_name (str): Name of the table to check for null values.\n",
    "\n",
    "    Returns:\n",
    "    pd.DataFrame: DataFrame containing the count of null values for each column with non-zero null counts.\n",
    "    \"\"\"\n",
    "    cursor = conn.cursor()\n",
    "    \n",
    "    # Get column names for the table\n",
    "    columns = get_column_names(cursor, table_name)\n",
    "    \n",
    "    # SQL query to count null values for each column\n",
    "    columns_null_count = ', '.join([f'SUM(CASE WHEN {col} IS NULL THEN 1 ELSE 0 END) AS null_{col}' for col in columns])\n",
    "    null_check_query = f'''\n",
    "    SELECT \n",
    "        {columns_null_count}\n",
    "    FROM {table_name}\n",
    "    '''\n",
    "    \n",
    "    # Execute the query\n",
    "    cursor.execute(null_check_query)\n",
    "    result = cursor.fetchall() # Fetch the result\n",
    "    \n",
    "    # Convert the result to a pandas DataFrame\n",
    "    df = pd.DataFrame(result, columns=[f'{col}' for col in columns])\n",
    "    \n",
    "    # Filter out columns with zero null values\n",
    "    df = df.loc[:, (df != 0).any(axis=0)]\n",
    "    \n",
    "    return df  # Return the DataFrame with only non-zero null counts\n",
    "\n",
    "def count_duplicate_entries(table_name):\n",
    "    \"\"\"\n",
    "    Returns the count of duplicate entries in a specified table.\n",
    "\n",
    "    Args:\n",
    "    table_name (str): Name of the table to check for duplicate entries.\n",
    "\n",
    "    Returns:\n",
    "    int: Count of duplicate entries in the table.\n",
    "    \"\"\"\n",
    "    cursor = conn.cursor()\n",
    "    \n",
    "    # Get column names for the table\n",
    "    columns = get_column_names(cursor, table_name)\n",
    "    \n",
    "    # SQL query to count duplicate entries\n",
    "    columns_str = ', '.join(columns)\n",
    "    count_duplicates_query = f'''\n",
    "    SELECT COUNT(*)\n",
    "    FROM (\n",
    "        SELECT {columns_str}\n",
    "        FROM {table_name}\n",
    "        GROUP BY {columns_str}\n",
    "        HAVING COUNT(*) > 1\n",
    "    ) AS duplicates\n",
    "    '''\n",
    "    \n",
    "    # Execute the query and fetch the count of duplicate entries\n",
    "    cursor.execute(count_duplicates_query)\n",
    "    result = cursor.fetchone()\n",
    "    \n",
    "    return result[0]  # Return the count of duplicate entries\n",
    "\n",
    "def get_duplicate_rows(table_name):\n",
    "    \"\"\"\n",
    "    Identifies duplicate rows in a specified table and returns them as a pandas DataFrame.\n",
    "\n",
    "    Args:\n",
    "    table_name (str): Name of the table to check for duplicate rows.\n",
    "\n",
    "    Returns:\n",
    "    pd.DataFrame: DataFrame containing the duplicate rows.\n",
    "    \"\"\"\n",
    "    cursor = conn.cursor()\n",
    "    \n",
    "    # Get column names for the table\n",
    "    columns = get_column_names(cursor, table_name)\n",
    "    \n",
    "    # SQL query to identify duplicate rows\n",
    "    columns_str = ', '.join(columns)\n",
    "    duplicate_rows_query = f'''\n",
    "    SELECT {columns_str}\n",
    "    FROM {table_name}\n",
    "    GROUP BY {columns_str}\n",
    "    HAVING COUNT(*) > 1\n",
    "    '''\n",
    "    \n",
    "    # Execute the query and fetch the duplicate rows\n",
    "    cursor.execute(duplicate_rows_query)\n",
    "    result = cursor.fetchall()\n",
    "    \n",
    "    # Convert the result to a pandas DataFrame\n",
    "    df = pd.DataFrame(result, columns=columns)\n",
    "    \n",
    "    return df  # Return the DataFrame containing duplicate rows\n",
    "\n",
    "#------------------- Data Dates -------------------------#\n",
    "def get_date_range(table_name: str, column_name: str):\n",
    "    \"\"\"\n",
    "    Retrieves the date range (minimum and maximum date) from a specified date column in a given table.\n",
    "\n",
    "    Parameters:\n",
    "    table_name (str): The name of the table from which to retrieve the date range.\n",
    "    column_name (str): The name of the column containing date values.\n",
    "\n",
    "    Returns:\n",
    "    tuple: A tuple containing two date objects:\n",
    "        - The first element is the earliest date (minimum value) in the specified column.\n",
    "        - The second element is the latest date (maximum value) in the specified column.\n",
    "\n",
    "    Example:\n",
    "    --------\n",
    "    >>> date_range = get_date_range('sqlite_table', 'date_column')\n",
    "    >>> print(date_range)\n",
    "    (datetime.datetime(2020, 1, 1, 0, 0), datetime.datetime(2024, 8, 25, 0, 0))\n",
    "\n",
    "    Notes:\n",
    "    ------\n",
    "    - The function assumes that the date values in the specified column are stored as text in the format '%Y-%m-%d %H:%M:%S'.\n",
    "    \"\"\"\n",
    "    # Create a cursor object\n",
    "    cursor = conn.cursor()\n",
    "    \n",
    "    # Create the SQL query to find the min and max dates\n",
    "    query = f\"\"\"\n",
    "    SELECT MIN({column_name}) as min_date, MAX({column_name}) as max_date\n",
    "    FROM {table_name}\n",
    "    \"\"\"\n",
    "    \n",
    "    # Execute the query\n",
    "    cursor.execute(query)\n",
    "    \n",
    "    # Fetch the result\n",
    "    result = cursor.fetchone()\n",
    "    \n",
    "    # Convert the min and max dates to datetime objects\n",
    "    min_date = result[0]\n",
    "    max_date = result[1]\n",
    "    \n",
    "    # Close the cursor\n",
    "    cursor.close()\n",
    "    \n",
    "    return (min_date, max_date)"
   ]
  },
  {
   "cell_type": "markdown",
   "metadata": {},
   "source": [
    "Data Transformation Functions"
   ]
  },
  {
   "cell_type": "code",
   "execution_count": 9,
   "metadata": {},
   "outputs": [],
   "source": [
    "# Function to get latitude and longitude with a pause\n",
    "def get_coordinates(city):\n",
    "    try:\n",
    "        location = geolocator.geocode(city)\n",
    "        time.sleep(2)  # Pause for 2 second between requests\n",
    "        if location:\n",
    "            return location.latitude, location.longitude\n",
    "        else:\n",
    "            return None, None\n",
    "    except Exception as e:\n",
    "        try: # Try a second time if first try fails to connect\n",
    "            time.sleep(10)  # Pause for 10 second between requests\n",
    "            location = geolocator.geocode(city)\n",
    "            return location.latitude, location.longitude\n",
    "        except Exception as e:\n",
    "            return None, None\n",
    "    \n",
    "# Function to calculate distance between two coordinates\n",
    "def calculate_distance(row):\n",
    "    home_coords = (row['latitude_home_team'], row['longitude_home_team'])\n",
    "    away_coords = (row['latitude_away_team'], row['longitude_away_team'])\n",
    "    return distance(home_coords, away_coords).miles\n",
    "\n",
    "# Function to categorize game duration\n",
    "def game_duration(min):\n",
    "    if min == 0:\n",
    "        return 'Regulation'\n",
    "    elif min < 240:\n",
    "        return \"Ended Early\"\n",
    "    elif min == 240:\n",
    "        return \"Regulation\"\n",
    "    elif min == 265:\n",
    "        return \"Overtime\"\n",
    "    elif min > 265:\n",
    "        return \"Extra Overtime\"\n",
    "    else:\n",
    "        return \"Unknown\""
   ]
  },
  {
   "cell_type": "markdown",
   "metadata": {},
   "source": [
    "## Exploring Database "
   ]
  },
  {
   "cell_type": "code",
   "execution_count": 10,
   "metadata": {},
   "outputs": [
    {
     "data": {
      "text/html": [
       "<div>\n",
       "<style scoped>\n",
       "    .dataframe tbody tr th:only-of-type {\n",
       "        vertical-align: middle;\n",
       "    }\n",
       "\n",
       "    .dataframe tbody tr th {\n",
       "        vertical-align: top;\n",
       "    }\n",
       "\n",
       "    .dataframe thead th {\n",
       "        text-align: right;\n",
       "    }\n",
       "</style>\n",
       "<table border=\"1\" class=\"dataframe\">\n",
       "  <thead>\n",
       "    <tr style=\"text-align: right;\">\n",
       "      <th></th>\n",
       "      <th>person_id</th>\n",
       "      <th>first_name</th>\n",
       "      <th>last_name</th>\n",
       "      <th>display_first_last</th>\n",
       "      <th>display_last_comma_first</th>\n",
       "      <th>display_fi_last</th>\n",
       "      <th>player_slug</th>\n",
       "      <th>birthdate</th>\n",
       "      <th>school</th>\n",
       "      <th>country</th>\n",
       "      <th>last_affiliation</th>\n",
       "      <th>height</th>\n",
       "      <th>weight</th>\n",
       "      <th>season_exp</th>\n",
       "      <th>jersey</th>\n",
       "      <th>position</th>\n",
       "      <th>rosterstatus</th>\n",
       "      <th>games_played_current_season_flag</th>\n",
       "      <th>team_id</th>\n",
       "      <th>team_name</th>\n",
       "      <th>team_abbreviation</th>\n",
       "      <th>team_code</th>\n",
       "      <th>team_city</th>\n",
       "      <th>playercode</th>\n",
       "      <th>from_year</th>\n",
       "      <th>to_year</th>\n",
       "      <th>dleague_flag</th>\n",
       "      <th>nba_flag</th>\n",
       "      <th>games_played_flag</th>\n",
       "      <th>draft_year</th>\n",
       "      <th>draft_round</th>\n",
       "      <th>draft_number</th>\n",
       "      <th>greatest_75_flag</th>\n",
       "    </tr>\n",
       "  </thead>\n",
       "  <tbody>\n",
       "    <tr>\n",
       "      <th>0</th>\n",
       "      <td>76001</td>\n",
       "      <td>Alaa</td>\n",
       "      <td>Abdelnaby</td>\n",
       "      <td>Alaa Abdelnaby</td>\n",
       "      <td>Abdelnaby, Alaa</td>\n",
       "      <td>A. Abdelnaby</td>\n",
       "      <td>alaa-abdelnaby</td>\n",
       "      <td>1968-06-24 00:00:00</td>\n",
       "      <td>Duke</td>\n",
       "      <td>USA</td>\n",
       "      <td>Duke/USA</td>\n",
       "      <td>6-10</td>\n",
       "      <td>240</td>\n",
       "      <td>5.0</td>\n",
       "      <td>30</td>\n",
       "      <td>Forward</td>\n",
       "      <td>Inactive</td>\n",
       "      <td>N</td>\n",
       "      <td>1610612757</td>\n",
       "      <td>Trail Blazers</td>\n",
       "      <td>POR</td>\n",
       "      <td>blazers</td>\n",
       "      <td>Portland</td>\n",
       "      <td>HISTADD_alaa_abdelnaby</td>\n",
       "      <td>1990.0</td>\n",
       "      <td>1994.0</td>\n",
       "      <td>N</td>\n",
       "      <td>Y</td>\n",
       "      <td>Y</td>\n",
       "      <td>1990</td>\n",
       "      <td>1</td>\n",
       "      <td>25</td>\n",
       "      <td>N</td>\n",
       "    </tr>\n",
       "    <tr>\n",
       "      <th>1</th>\n",
       "      <td>76002</td>\n",
       "      <td>Zaid</td>\n",
       "      <td>Abdul-Aziz</td>\n",
       "      <td>Zaid Abdul-Aziz</td>\n",
       "      <td>Abdul-Aziz, Zaid</td>\n",
       "      <td>Z. Abdul-Aziz</td>\n",
       "      <td>zaid-abdul-aziz</td>\n",
       "      <td>1946-04-07 00:00:00</td>\n",
       "      <td>Iowa State</td>\n",
       "      <td>USA</td>\n",
       "      <td>Iowa State/USA</td>\n",
       "      <td>6-9</td>\n",
       "      <td>235</td>\n",
       "      <td>10.0</td>\n",
       "      <td>54</td>\n",
       "      <td>Center</td>\n",
       "      <td>Inactive</td>\n",
       "      <td>N</td>\n",
       "      <td>1610612745</td>\n",
       "      <td>Rockets</td>\n",
       "      <td>HOU</td>\n",
       "      <td>rockets</td>\n",
       "      <td>Houston</td>\n",
       "      <td>HISTADD_zaid_abdul-aziz</td>\n",
       "      <td>1968.0</td>\n",
       "      <td>1977.0</td>\n",
       "      <td>N</td>\n",
       "      <td>Y</td>\n",
       "      <td>Y</td>\n",
       "      <td>1968</td>\n",
       "      <td>1</td>\n",
       "      <td>5</td>\n",
       "      <td>N</td>\n",
       "    </tr>\n",
       "    <tr>\n",
       "      <th>2</th>\n",
       "      <td>76003</td>\n",
       "      <td>Kareem</td>\n",
       "      <td>Abdul-Jabbar</td>\n",
       "      <td>Kareem Abdul-Jabbar</td>\n",
       "      <td>Abdul-Jabbar, Kareem</td>\n",
       "      <td>K. Abdul-Jabbar</td>\n",
       "      <td>kareem-abdul-jabbar</td>\n",
       "      <td>1947-04-16 00:00:00</td>\n",
       "      <td>UCLA</td>\n",
       "      <td>USA</td>\n",
       "      <td>UCLA/USA</td>\n",
       "      <td>7-2</td>\n",
       "      <td>225</td>\n",
       "      <td>20.0</td>\n",
       "      <td>33</td>\n",
       "      <td>Center</td>\n",
       "      <td>Inactive</td>\n",
       "      <td>N</td>\n",
       "      <td>1610612747</td>\n",
       "      <td>Lakers</td>\n",
       "      <td>LAL</td>\n",
       "      <td>lakers</td>\n",
       "      <td>Los Angeles</td>\n",
       "      <td>HISTADD_kareem_abdul-jabbar</td>\n",
       "      <td>1969.0</td>\n",
       "      <td>1988.0</td>\n",
       "      <td>N</td>\n",
       "      <td>Y</td>\n",
       "      <td>Y</td>\n",
       "      <td>1969</td>\n",
       "      <td>1</td>\n",
       "      <td>1</td>\n",
       "      <td>Y</td>\n",
       "    </tr>\n",
       "    <tr>\n",
       "      <th>3</th>\n",
       "      <td>949</td>\n",
       "      <td>Shareef</td>\n",
       "      <td>Abdur-Rahim</td>\n",
       "      <td>Shareef Abdur-Rahim</td>\n",
       "      <td>Abdur-Rahim, Shareef</td>\n",
       "      <td>S. Abdur-Rahim</td>\n",
       "      <td>shareef-abdur-rahim</td>\n",
       "      <td>1976-12-11 00:00:00</td>\n",
       "      <td>California</td>\n",
       "      <td>USA</td>\n",
       "      <td>California/USA</td>\n",
       "      <td>6-9</td>\n",
       "      <td>245</td>\n",
       "      <td>13.0</td>\n",
       "      <td>3</td>\n",
       "      <td>Forward</td>\n",
       "      <td>Inactive</td>\n",
       "      <td>N</td>\n",
       "      <td>1610612763</td>\n",
       "      <td>Grizzlies</td>\n",
       "      <td>VAN</td>\n",
       "      <td>grizzlies</td>\n",
       "      <td>Vancouver</td>\n",
       "      <td>shareef_abdur-rahim</td>\n",
       "      <td>1996.0</td>\n",
       "      <td>2007.0</td>\n",
       "      <td>N</td>\n",
       "      <td>Y</td>\n",
       "      <td>Y</td>\n",
       "      <td>1996</td>\n",
       "      <td>1</td>\n",
       "      <td>3</td>\n",
       "      <td>N</td>\n",
       "    </tr>\n",
       "    <tr>\n",
       "      <th>4</th>\n",
       "      <td>76006</td>\n",
       "      <td>Forest</td>\n",
       "      <td>Able</td>\n",
       "      <td>Forest Able</td>\n",
       "      <td>Able, Forest</td>\n",
       "      <td>F. Able</td>\n",
       "      <td>forest-able</td>\n",
       "      <td>1932-07-27 00:00:00</td>\n",
       "      <td>Western Kentucky</td>\n",
       "      <td>USA</td>\n",
       "      <td>Western Kentucky/USA</td>\n",
       "      <td>6-3</td>\n",
       "      <td>180</td>\n",
       "      <td>1.0</td>\n",
       "      <td>6</td>\n",
       "      <td>Guard</td>\n",
       "      <td>Inactive</td>\n",
       "      <td>N</td>\n",
       "      <td>1610612755</td>\n",
       "      <td>Nationals</td>\n",
       "      <td>PHI</td>\n",
       "      <td>sixers</td>\n",
       "      <td>Syracuse</td>\n",
       "      <td>HISTADD_frosty_able</td>\n",
       "      <td>1956.0</td>\n",
       "      <td>1956.0</td>\n",
       "      <td>N</td>\n",
       "      <td>Y</td>\n",
       "      <td>Y</td>\n",
       "      <td>1956</td>\n",
       "      <td>None</td>\n",
       "      <td>None</td>\n",
       "      <td>N</td>\n",
       "    </tr>\n",
       "  </tbody>\n",
       "</table>\n",
       "</div>"
      ],
      "text/plain": [
       "  person_id first_name     last_name   display_first_last display_last_comma_first  display_fi_last          player_slug            birthdate            school country      last_affiliation height weight  season_exp jersey position rosterstatus games_played_current_season_flag     team_id      team_name team_abbreviation  team_code    team_city                   playercode  from_year  to_year dleague_flag nba_flag games_played_flag draft_year draft_round draft_number greatest_75_flag\n",
       "0     76001       Alaa     Abdelnaby       Alaa Abdelnaby          Abdelnaby, Alaa     A. Abdelnaby       alaa-abdelnaby  1968-06-24 00:00:00              Duke     USA              Duke/USA   6-10    240         5.0     30  Forward     Inactive                                N  1610612757  Trail Blazers               POR    blazers     Portland       HISTADD_alaa_abdelnaby     1990.0   1994.0            N        Y                 Y       1990           1           25                N\n",
       "1     76002       Zaid    Abdul-Aziz      Zaid Abdul-Aziz         Abdul-Aziz, Zaid    Z. Abdul-Aziz      zaid-abdul-aziz  1946-04-07 00:00:00        Iowa State     USA        Iowa State/USA    6-9    235        10.0     54   Center     Inactive                                N  1610612745        Rockets               HOU    rockets      Houston      HISTADD_zaid_abdul-aziz     1968.0   1977.0            N        Y                 Y       1968           1            5                N\n",
       "2     76003     Kareem  Abdul-Jabbar  Kareem Abdul-Jabbar     Abdul-Jabbar, Kareem  K. Abdul-Jabbar  kareem-abdul-jabbar  1947-04-16 00:00:00              UCLA     USA              UCLA/USA    7-2    225        20.0     33   Center     Inactive                                N  1610612747         Lakers               LAL     lakers  Los Angeles  HISTADD_kareem_abdul-jabbar     1969.0   1988.0            N        Y                 Y       1969           1            1                Y\n",
       "3       949    Shareef   Abdur-Rahim  Shareef Abdur-Rahim     Abdur-Rahim, Shareef   S. Abdur-Rahim  shareef-abdur-rahim  1976-12-11 00:00:00        California     USA        California/USA    6-9    245        13.0      3  Forward     Inactive                                N  1610612763      Grizzlies               VAN  grizzlies    Vancouver          shareef_abdur-rahim     1996.0   2007.0            N        Y                 Y       1996           1            3                N\n",
       "4     76006     Forest          Able          Forest Able             Able, Forest          F. Able          forest-able  1932-07-27 00:00:00  Western Kentucky     USA  Western Kentucky/USA    6-3    180         1.0      6    Guard     Inactive                                N  1610612755      Nationals               PHI     sixers     Syracuse          HISTADD_frosty_able     1956.0   1956.0            N        Y                 Y       1956        None         None                N"
      ]
     },
     "execution_count": 10,
     "metadata": {},
     "output_type": "execute_result"
    }
   ],
   "source": [
    "# Verify Database Connection \n",
    "sql_query = '''\n",
    "SELECT * \n",
    "FROM common_player_info \n",
    "LIMIT 10;\n",
    "'''\n",
    "# Read sqlite query results into a pandas DataFrame\n",
    "df = pd.read_sql_query(sql_query, conn)\n",
    "# Verify that result of SQL query is stored in the dataframe\n",
    "df.head()"
   ]
  },
  {
   "cell_type": "code",
   "execution_count": 11,
   "metadata": {},
   "outputs": [
    {
     "name": "stdout",
     "output_type": "stream",
     "text": [
      "Tables in the database:\n",
      "['game', 'game_summary', 'other_stats', 'officials', 'inactive_players', 'game_info', 'line_score', 'play_by_play', 'player', 'team', 'common_player_info', 'team_details', 'team_history', 'draft_combine_stats', 'draft_history', 'team_info_common']\n"
     ]
    }
   ],
   "source": [
    "# List all tables using list_tables function\n",
    "tables = list_tables()\n",
    "print(\"Tables in the database:\")\n",
    "print(tables)"
   ]
  },
  {
   "cell_type": "markdown",
   "metadata": {},
   "source": [
    "Will be exploring each table one by one"
   ]
  },
  {
   "cell_type": "markdown",
   "metadata": {},
   "source": [
    "### Game Table"
   ]
  },
  {
   "cell_type": "code",
   "execution_count": 117,
   "metadata": {},
   "outputs": [],
   "source": [
    "# Defining table name\n",
    "table = 'game' # Update for desired table"
   ]
  },
  {
   "cell_type": "code",
   "execution_count": 13,
   "metadata": {},
   "outputs": [
    {
     "name": "stdout",
     "output_type": "stream",
     "text": [
      "The table 'game' has 65698 rows and 55 columns.\n"
     ]
    }
   ],
   "source": [
    "# Print data table shape\n",
    "shape = get_table_shape(table)\n",
    "print(f\"The table '{table}' has {shape[0]} rows and {shape[1]} columns.\")"
   ]
  },
  {
   "cell_type": "code",
   "execution_count": 14,
   "metadata": {},
   "outputs": [
    {
     "name": "stdout",
     "output_type": "stream",
     "text": [
      "Columns in game table\n",
      "['season_id', 'team_id_home', 'team_abbreviation_home', 'team_name_home', 'game_id', 'game_date', 'matchup_home', 'wl_home', 'min', 'fgm_home', 'fga_home', 'fg_pct_home', 'fg3m_home', 'fg3a_home', 'fg3_pct_home', 'ftm_home', 'fta_home', 'ft_pct_home', 'oreb_home', 'dreb_home', 'reb_home', 'ast_home', 'stl_home', 'blk_home', 'tov_home', 'pf_home', 'pts_home', 'plus_minus_home', 'video_available_home', 'team_id_away', 'team_abbreviation_away', 'team_name_away', 'matchup_away', 'wl_away', 'fgm_away', 'fga_away', 'fg_pct_away', 'fg3m_away', 'fg3a_away', 'fg3_pct_away', 'ftm_away', 'fta_away', 'ft_pct_away', 'oreb_away', 'dreb_away', 'reb_away', 'ast_away', 'stl_away', 'blk_away', 'tov_away', 'pf_away', 'pts_away', 'plus_minus_away', 'video_available_away', 'season_type']\n"
     ]
    }
   ],
   "source": [
    "# List all columns in table using list_columns function\n",
    "columns = list_columns(table)\n",
    "print(f'Columns in {table} table')\n",
    "print(columns)"
   ]
  },
  {
   "cell_type": "code",
   "execution_count": 15,
   "metadata": {},
   "outputs": [
    {
     "data": {
      "text/html": [
       "<div>\n",
       "<style scoped>\n",
       "    .dataframe tbody tr th:only-of-type {\n",
       "        vertical-align: middle;\n",
       "    }\n",
       "\n",
       "    .dataframe tbody tr th {\n",
       "        vertical-align: top;\n",
       "    }\n",
       "\n",
       "    .dataframe thead th {\n",
       "        text-align: right;\n",
       "    }\n",
       "</style>\n",
       "<table border=\"1\" class=\"dataframe\">\n",
       "  <thead>\n",
       "    <tr style=\"text-align: right;\">\n",
       "      <th></th>\n",
       "      <th>wl_home</th>\n",
       "      <th>fgm_home</th>\n",
       "      <th>fga_home</th>\n",
       "      <th>fg_pct_home</th>\n",
       "      <th>fg3m_home</th>\n",
       "      <th>fg3a_home</th>\n",
       "      <th>fg3_pct_home</th>\n",
       "      <th>ftm_home</th>\n",
       "      <th>fta_home</th>\n",
       "      <th>ft_pct_home</th>\n",
       "      <th>oreb_home</th>\n",
       "      <th>dreb_home</th>\n",
       "      <th>reb_home</th>\n",
       "      <th>ast_home</th>\n",
       "      <th>stl_home</th>\n",
       "      <th>blk_home</th>\n",
       "      <th>tov_home</th>\n",
       "      <th>pf_home</th>\n",
       "      <th>wl_away</th>\n",
       "      <th>fgm_away</th>\n",
       "      <th>fga_away</th>\n",
       "      <th>fg_pct_away</th>\n",
       "      <th>fg3m_away</th>\n",
       "      <th>fg3a_away</th>\n",
       "      <th>fg3_pct_away</th>\n",
       "      <th>ftm_away</th>\n",
       "      <th>fta_away</th>\n",
       "      <th>ft_pct_away</th>\n",
       "      <th>oreb_away</th>\n",
       "      <th>dreb_away</th>\n",
       "      <th>reb_away</th>\n",
       "      <th>ast_away</th>\n",
       "      <th>stl_away</th>\n",
       "      <th>blk_away</th>\n",
       "      <th>tov_away</th>\n",
       "      <th>pf_away</th>\n",
       "    </tr>\n",
       "  </thead>\n",
       "  <tbody>\n",
       "    <tr>\n",
       "      <th>0</th>\n",
       "      <td>2</td>\n",
       "      <td>13</td>\n",
       "      <td>15447</td>\n",
       "      <td>15490</td>\n",
       "      <td>13218</td>\n",
       "      <td>18683</td>\n",
       "      <td>19074</td>\n",
       "      <td>16</td>\n",
       "      <td>3004</td>\n",
       "      <td>3009</td>\n",
       "      <td>18936</td>\n",
       "      <td>18999</td>\n",
       "      <td>15729</td>\n",
       "      <td>15805</td>\n",
       "      <td>18849</td>\n",
       "      <td>18626</td>\n",
       "      <td>18684</td>\n",
       "      <td>2856</td>\n",
       "      <td>2</td>\n",
       "      <td>13</td>\n",
       "      <td>15447</td>\n",
       "      <td>15489</td>\n",
       "      <td>13218</td>\n",
       "      <td>18683</td>\n",
       "      <td>18962</td>\n",
       "      <td>13</td>\n",
       "      <td>3004</td>\n",
       "      <td>3006</td>\n",
       "      <td>18936</td>\n",
       "      <td>18998</td>\n",
       "      <td>15725</td>\n",
       "      <td>15801</td>\n",
       "      <td>18849</td>\n",
       "      <td>18625</td>\n",
       "      <td>18685</td>\n",
       "      <td>2851</td>\n",
       "    </tr>\n",
       "  </tbody>\n",
       "</table>\n",
       "</div>"
      ],
      "text/plain": [
       "   wl_home  fgm_home  fga_home  fg_pct_home  fg3m_home  fg3a_home  fg3_pct_home  ftm_home  fta_home  ft_pct_home  oreb_home  dreb_home  reb_home  ast_home  stl_home  blk_home  tov_home  pf_home  wl_away  fgm_away  fga_away  fg_pct_away  fg3m_away  fg3a_away  fg3_pct_away  ftm_away  fta_away  ft_pct_away  oreb_away  dreb_away  reb_away  ast_away  stl_away  blk_away  tov_away  pf_away\n",
       "0        2        13     15447        15490      13218      18683         19074        16      3004         3009      18936      18999     15729     15805     18849     18626     18684     2856        2        13     15447        15489      13218      18683         18962        13      3004         3006      18936      18998     15725     15801     18849     18625     18685     2851"
      ]
     },
     "execution_count": 15,
     "metadata": {},
     "output_type": "execute_result"
    }
   ],
   "source": [
    "# Data frame that shows only columns with null values and their count\n",
    "check_null_values(table)"
   ]
  },
  {
   "cell_type": "code",
   "execution_count": 16,
   "metadata": {},
   "outputs": [
    {
     "data": {
      "text/plain": [
       "0"
      ]
     },
     "execution_count": 16,
     "metadata": {},
     "output_type": "execute_result"
    }
   ],
   "source": [
    "# Count duplicate rows in table\n",
    "count_duplicate_entries(table)"
   ]
  },
  {
   "cell_type": "code",
   "execution_count": 122,
   "metadata": {},
   "outputs": [
    {
     "name": "stdout",
     "output_type": "stream",
     "text": [
      "Oldest date of recorded games:  1946-11-01 00:00:00\n",
      "Most recent date of recorded games:  2023-06-12 00:00:00\n"
     ]
    }
   ],
   "source": [
    "# Print date range for this table using get_date_range function\n",
    "date_column = 'game_date'\n",
    "date_range = get_date_range(table, date_column)\n",
    "print('Oldest date of recorded games: ', date_range[0])\n",
    "print('Most recent date of recorded games: ', date_range[1])"
   ]
  },
  {
   "cell_type": "markdown",
   "metadata": {},
   "source": [
    "Data Notes:\n",
    "- Unique Season Ids are assigned to group annual pre-season, regular-season, playoff, and all-star games. \n",
    "- Shorted 2011 Pre-Season and Regular Season due to [lockout](https://en.wikipedia.org/wiki/2011–12_NBA_season)\n",
    "- Missing 2012 Regular season games"
   ]
  },
  {
   "cell_type": "markdown",
   "metadata": {},
   "source": [
    "### Game Summary Table"
   ]
  },
  {
   "cell_type": "code",
   "execution_count": 126,
   "metadata": {},
   "outputs": [],
   "source": [
    "# Defining table name\n",
    "table = 'game_summary' # Update for desired table"
   ]
  },
  {
   "cell_type": "code",
   "execution_count": 18,
   "metadata": {},
   "outputs": [
    {
     "name": "stdout",
     "output_type": "stream",
     "text": [
      "The table 'game_summary' has 58110 rows and 14 columns.\n"
     ]
    }
   ],
   "source": [
    "# Print data table shape\n",
    "shape = get_table_shape(table)\n",
    "print(f\"The table '{table}' has {shape[0]} rows and {shape[1]} columns.\")"
   ]
  },
  {
   "cell_type": "code",
   "execution_count": 19,
   "metadata": {},
   "outputs": [
    {
     "name": "stdout",
     "output_type": "stream",
     "text": [
      "Columns in game_summary table\n",
      "['game_date_est', 'game_sequence', 'game_id', 'game_status_id', 'game_status_text', 'gamecode', 'home_team_id', 'visitor_team_id', 'season', 'live_period', 'live_pc_time', 'natl_tv_broadcaster_abbreviation', 'live_period_time_bcast', 'wh_status']\n"
     ]
    }
   ],
   "source": [
    "# List all columns in table using list_columns function\n",
    "columns = list_columns( table)\n",
    "print(f'Columns in {table} table')\n",
    "print(columns)"
   ]
  },
  {
   "cell_type": "code",
   "execution_count": 20,
   "metadata": {},
   "outputs": [
    {
     "data": {
      "text/html": [
       "<div>\n",
       "<style scoped>\n",
       "    .dataframe tbody tr th:only-of-type {\n",
       "        vertical-align: middle;\n",
       "    }\n",
       "\n",
       "    .dataframe tbody tr th {\n",
       "        vertical-align: top;\n",
       "    }\n",
       "\n",
       "    .dataframe thead th {\n",
       "        text-align: right;\n",
       "    }\n",
       "</style>\n",
       "<table border=\"1\" class=\"dataframe\">\n",
       "  <thead>\n",
       "    <tr style=\"text-align: right;\">\n",
       "      <th></th>\n",
       "      <th>game_sequence</th>\n",
       "      <th>live_pc_time</th>\n",
       "      <th>natl_tv_broadcaster_abbreviation</th>\n",
       "    </tr>\n",
       "  </thead>\n",
       "  <tbody>\n",
       "    <tr>\n",
       "      <th>0</th>\n",
       "      <td>25532</td>\n",
       "      <td>25986</td>\n",
       "      <td>51907</td>\n",
       "    </tr>\n",
       "  </tbody>\n",
       "</table>\n",
       "</div>"
      ],
      "text/plain": [
       "   game_sequence  live_pc_time  natl_tv_broadcaster_abbreviation\n",
       "0          25532         25986                             51907"
      ]
     },
     "execution_count": 20,
     "metadata": {},
     "output_type": "execute_result"
    }
   ],
   "source": [
    "# Data frame that shows only columns with null values and their count\n",
    "check_null_values(table)"
   ]
  },
  {
   "cell_type": "code",
   "execution_count": 21,
   "metadata": {},
   "outputs": [
    {
     "data": {
      "text/plain": [
       "40"
      ]
     },
     "execution_count": 21,
     "metadata": {},
     "output_type": "execute_result"
    }
   ],
   "source": [
    "# Count duplicate rows in table\n",
    "count_duplicate_entries(table)"
   ]
  },
  {
   "cell_type": "code",
   "execution_count": 22,
   "metadata": {},
   "outputs": [],
   "source": [
    "# Run to view duplicate entries\n",
    "#get_duplicate_rows(table)"
   ]
  },
  {
   "cell_type": "code",
   "execution_count": 127,
   "metadata": {},
   "outputs": [
    {
     "name": "stdout",
     "output_type": "stream",
     "text": [
      "Oldest date of recorded games:  1946-11-01 00:00:00\n",
      "Most recent date of recorded games:  2023-06-12 00:00:00\n"
     ]
    }
   ],
   "source": [
    "# Print date range for this table using get_date_range function\n",
    "date_column = 'game_date_est'\n",
    "date_range = get_date_range(table, date_column)\n",
    "print('Oldest date of recorded games: ', date_range[0])\n",
    "print('Most recent date of recorded games: ', date_range[1])"
   ]
  },
  {
   "cell_type": "markdown",
   "metadata": {},
   "source": [
    "### Other Stats Table"
   ]
  },
  {
   "cell_type": "code",
   "execution_count": 23,
   "metadata": {},
   "outputs": [],
   "source": [
    "# Defining table name\n",
    "table = 'other_stats' # Update for desired table"
   ]
  },
  {
   "cell_type": "code",
   "execution_count": 24,
   "metadata": {},
   "outputs": [
    {
     "name": "stdout",
     "output_type": "stream",
     "text": [
      "The table 'other_stats' has 28271 rows and 26 columns.\n"
     ]
    }
   ],
   "source": [
    "# Print data table shape\n",
    "shape = get_table_shape(table)\n",
    "print(f\"The table '{table}' has {shape[0]} rows and {shape[1]} columns.\")"
   ]
  },
  {
   "cell_type": "code",
   "execution_count": 25,
   "metadata": {},
   "outputs": [
    {
     "name": "stdout",
     "output_type": "stream",
     "text": [
      "Columns in other_stats table\n",
      "['game_id', 'league_id', 'team_id_home', 'team_abbreviation_home', 'team_city_home', 'pts_paint_home', 'pts_2nd_chance_home', 'pts_fb_home', 'largest_lead_home', 'lead_changes', 'times_tied', 'team_turnovers_home', 'total_turnovers_home', 'team_rebounds_home', 'pts_off_to_home', 'team_id_away', 'team_abbreviation_away', 'team_city_away', 'pts_paint_away', 'pts_2nd_chance_away', 'pts_fb_away', 'largest_lead_away', 'team_turnovers_away', 'total_turnovers_away', 'team_rebounds_away', 'pts_off_to_away']\n"
     ]
    }
   ],
   "source": [
    "# List all columns in table using list_columns function\n",
    "columns = list_columns(table)\n",
    "print(f'Columns in {table} table')\n",
    "print(columns)"
   ]
  },
  {
   "cell_type": "code",
   "execution_count": 26,
   "metadata": {},
   "outputs": [
    {
     "data": {
      "text/html": [
       "<div>\n",
       "<style scoped>\n",
       "    .dataframe tbody tr th:only-of-type {\n",
       "        vertical-align: middle;\n",
       "    }\n",
       "\n",
       "    .dataframe tbody tr th {\n",
       "        vertical-align: top;\n",
       "    }\n",
       "\n",
       "    .dataframe thead th {\n",
       "        text-align: right;\n",
       "    }\n",
       "</style>\n",
       "<table border=\"1\" class=\"dataframe\">\n",
       "  <thead>\n",
       "    <tr style=\"text-align: right;\">\n",
       "      <th></th>\n",
       "      <th>team_turnovers_home</th>\n",
       "      <th>total_turnovers_home</th>\n",
       "      <th>team_rebounds_home</th>\n",
       "      <th>pts_off_to_home</th>\n",
       "      <th>team_turnovers_away</th>\n",
       "      <th>total_turnovers_away</th>\n",
       "      <th>team_rebounds_away</th>\n",
       "      <th>pts_off_to_away</th>\n",
       "    </tr>\n",
       "  </thead>\n",
       "  <tbody>\n",
       "    <tr>\n",
       "      <th>0</th>\n",
       "      <td>2</td>\n",
       "      <td>316</td>\n",
       "      <td>1998</td>\n",
       "      <td>2123</td>\n",
       "      <td>2</td>\n",
       "      <td>316</td>\n",
       "      <td>1998</td>\n",
       "      <td>2123</td>\n",
       "    </tr>\n",
       "  </tbody>\n",
       "</table>\n",
       "</div>"
      ],
      "text/plain": [
       "   team_turnovers_home  total_turnovers_home  team_rebounds_home  pts_off_to_home  team_turnovers_away  total_turnovers_away  team_rebounds_away  pts_off_to_away\n",
       "0                    2                   316                1998             2123                    2                   316                1998             2123"
      ]
     },
     "execution_count": 26,
     "metadata": {},
     "output_type": "execute_result"
    }
   ],
   "source": [
    "# Data frame that shows only columns with null values and their count\n",
    "check_null_values(table)"
   ]
  },
  {
   "cell_type": "code",
   "execution_count": 27,
   "metadata": {},
   "outputs": [
    {
     "data": {
      "text/plain": [
       "10"
      ]
     },
     "execution_count": 27,
     "metadata": {},
     "output_type": "execute_result"
    }
   ],
   "source": [
    "# Count duplicate rows in table\n",
    "count_duplicate_entries(table)"
   ]
  },
  {
   "cell_type": "code",
   "execution_count": 28,
   "metadata": {},
   "outputs": [],
   "source": [
    "# Run to view duplicate entries\n",
    "#get_duplicate_rows(table)"
   ]
  },
  {
   "cell_type": "markdown",
   "metadata": {},
   "source": [
    "### Officials Table"
   ]
  },
  {
   "cell_type": "code",
   "execution_count": 29,
   "metadata": {},
   "outputs": [],
   "source": [
    "# Defining table name\n",
    "table = 'officials' # Update for desired table"
   ]
  },
  {
   "cell_type": "code",
   "execution_count": 30,
   "metadata": {},
   "outputs": [
    {
     "name": "stdout",
     "output_type": "stream",
     "text": [
      "The table 'officials' has 70971 rows and 5 columns.\n"
     ]
    }
   ],
   "source": [
    "# Print data table shape\n",
    "shape = get_table_shape(table)\n",
    "print(f\"The table '{table}' has {shape[0]} rows and {shape[1]} columns.\")"
   ]
  },
  {
   "cell_type": "code",
   "execution_count": 31,
   "metadata": {},
   "outputs": [
    {
     "name": "stdout",
     "output_type": "stream",
     "text": [
      "Columns in officials table\n",
      "['game_id', 'official_id', 'first_name', 'last_name', 'jersey_num']\n"
     ]
    }
   ],
   "source": [
    "# List all columns in table using list_columns function\n",
    "columns = list_columns(table)\n",
    "print(f'Columns in {table} table')\n",
    "print(columns)"
   ]
  },
  {
   "cell_type": "code",
   "execution_count": 32,
   "metadata": {},
   "outputs": [
    {
     "data": {
      "text/html": [
       "<div>\n",
       "<style scoped>\n",
       "    .dataframe tbody tr th:only-of-type {\n",
       "        vertical-align: middle;\n",
       "    }\n",
       "\n",
       "    .dataframe tbody tr th {\n",
       "        vertical-align: top;\n",
       "    }\n",
       "\n",
       "    .dataframe thead th {\n",
       "        text-align: right;\n",
       "    }\n",
       "</style>\n",
       "<table border=\"1\" class=\"dataframe\">\n",
       "  <thead>\n",
       "    <tr style=\"text-align: right;\">\n",
       "      <th></th>\n",
       "      <th>jersey_num</th>\n",
       "    </tr>\n",
       "  </thead>\n",
       "  <tbody>\n",
       "    <tr>\n",
       "      <th>0</th>\n",
       "      <td>183</td>\n",
       "    </tr>\n",
       "  </tbody>\n",
       "</table>\n",
       "</div>"
      ],
      "text/plain": [
       "   jersey_num\n",
       "0         183"
      ]
     },
     "execution_count": 32,
     "metadata": {},
     "output_type": "execute_result"
    }
   ],
   "source": [
    "# Data frame that shows only columns with null values and their count\n",
    "check_null_values(table)"
   ]
  },
  {
   "cell_type": "code",
   "execution_count": 33,
   "metadata": {},
   "outputs": [
    {
     "data": {
      "text/plain": [
       "30"
      ]
     },
     "execution_count": 33,
     "metadata": {},
     "output_type": "execute_result"
    }
   ],
   "source": [
    "# Count duplicate rows in table\n",
    "count_duplicate_entries(table)"
   ]
  },
  {
   "cell_type": "code",
   "execution_count": 34,
   "metadata": {},
   "outputs": [],
   "source": [
    "# Run to view duplicate entries\n",
    "#get_duplicate_rows(table)"
   ]
  },
  {
   "cell_type": "markdown",
   "metadata": {},
   "source": [
    "### Inactive Players Table"
   ]
  },
  {
   "cell_type": "code",
   "execution_count": 35,
   "metadata": {},
   "outputs": [],
   "source": [
    "# Defining table name\n",
    "table = 'inactive_players' # Update for desired table"
   ]
  },
  {
   "cell_type": "code",
   "execution_count": 36,
   "metadata": {},
   "outputs": [
    {
     "name": "stdout",
     "output_type": "stream",
     "text": [
      "The table 'inactive_players' has 110191 rows and 9 columns.\n"
     ]
    }
   ],
   "source": [
    "# Print data table shape\n",
    "shape = get_table_shape(table)\n",
    "print(f\"The table '{table}' has {shape[0]} rows and {shape[1]} columns.\")"
   ]
  },
  {
   "cell_type": "code",
   "execution_count": 37,
   "metadata": {},
   "outputs": [
    {
     "name": "stdout",
     "output_type": "stream",
     "text": [
      "Columns in inactive_players table\n",
      "['game_id', 'player_id', 'first_name', 'last_name', 'jersey_num', 'team_id', 'team_city', 'team_name', 'team_abbreviation']\n"
     ]
    }
   ],
   "source": [
    "# List all columns in table using list_columns function\n",
    "columns = list_columns(table)\n",
    "print(f'Columns in {table} table')\n",
    "print(columns)"
   ]
  },
  {
   "cell_type": "code",
   "execution_count": 38,
   "metadata": {},
   "outputs": [
    {
     "data": {
      "text/html": [
       "<div>\n",
       "<style scoped>\n",
       "    .dataframe tbody tr th:only-of-type {\n",
       "        vertical-align: middle;\n",
       "    }\n",
       "\n",
       "    .dataframe tbody tr th {\n",
       "        vertical-align: top;\n",
       "    }\n",
       "\n",
       "    .dataframe thead th {\n",
       "        text-align: right;\n",
       "    }\n",
       "</style>\n",
       "<table border=\"1\" class=\"dataframe\">\n",
       "  <thead>\n",
       "    <tr style=\"text-align: right;\">\n",
       "      <th></th>\n",
       "    </tr>\n",
       "  </thead>\n",
       "  <tbody>\n",
       "    <tr>\n",
       "      <th>0</th>\n",
       "    </tr>\n",
       "  </tbody>\n",
       "</table>\n",
       "</div>"
      ],
      "text/plain": [
       "Empty DataFrame\n",
       "Columns: []\n",
       "Index: [0]"
      ]
     },
     "execution_count": 38,
     "metadata": {},
     "output_type": "execute_result"
    }
   ],
   "source": [
    "# Data frame that shows only columns with null values and their count\n",
    "check_null_values(table)"
   ]
  },
  {
   "cell_type": "code",
   "execution_count": 39,
   "metadata": {},
   "outputs": [
    {
     "data": {
      "text/plain": [
       "7"
      ]
     },
     "execution_count": 39,
     "metadata": {},
     "output_type": "execute_result"
    }
   ],
   "source": [
    "# Count duplicate rows in table\n",
    "count_duplicate_entries(table)"
   ]
  },
  {
   "cell_type": "code",
   "execution_count": 40,
   "metadata": {},
   "outputs": [],
   "source": [
    "# Run to view duplicate entries\n",
    "#get_duplicate_rows(table)"
   ]
  },
  {
   "cell_type": "markdown",
   "metadata": {},
   "source": [
    "### Game Info Table"
   ]
  },
  {
   "cell_type": "code",
   "execution_count": 124,
   "metadata": {},
   "outputs": [],
   "source": [
    "# Defining table name\n",
    "table = 'game_info' # Update for desired table"
   ]
  },
  {
   "cell_type": "code",
   "execution_count": 42,
   "metadata": {},
   "outputs": [
    {
     "name": "stdout",
     "output_type": "stream",
     "text": [
      "The table 'game_info' has 58053 rows and 4 columns.\n"
     ]
    }
   ],
   "source": [
    "# Print data table shape\n",
    "shape = get_table_shape(table)\n",
    "print(f\"The table '{table}' has {shape[0]} rows and {shape[1]} columns.\")"
   ]
  },
  {
   "cell_type": "code",
   "execution_count": 43,
   "metadata": {},
   "outputs": [
    {
     "name": "stdout",
     "output_type": "stream",
     "text": [
      "Columns in game_info table\n",
      "['game_id', 'game_date', 'attendance', 'game_time']\n"
     ]
    }
   ],
   "source": [
    "# List all columns in table using list_columns function\n",
    "columns = list_columns(table)\n",
    "print(f'Columns in {table} table')\n",
    "print(columns)"
   ]
  },
  {
   "cell_type": "code",
   "execution_count": 44,
   "metadata": {},
   "outputs": [
    {
     "data": {
      "text/html": [
       "<div>\n",
       "<style scoped>\n",
       "    .dataframe tbody tr th:only-of-type {\n",
       "        vertical-align: middle;\n",
       "    }\n",
       "\n",
       "    .dataframe tbody tr th {\n",
       "        vertical-align: top;\n",
       "    }\n",
       "\n",
       "    .dataframe thead th {\n",
       "        text-align: right;\n",
       "    }\n",
       "</style>\n",
       "<table border=\"1\" class=\"dataframe\">\n",
       "  <thead>\n",
       "    <tr style=\"text-align: right;\">\n",
       "      <th></th>\n",
       "      <th>attendance</th>\n",
       "    </tr>\n",
       "  </thead>\n",
       "  <tbody>\n",
       "    <tr>\n",
       "      <th>0</th>\n",
       "      <td>5380</td>\n",
       "    </tr>\n",
       "  </tbody>\n",
       "</table>\n",
       "</div>"
      ],
      "text/plain": [
       "   attendance\n",
       "0        5380"
      ]
     },
     "execution_count": 44,
     "metadata": {},
     "output_type": "execute_result"
    }
   ],
   "source": [
    "# Data frame that shows only columns with null values and their count\n",
    "check_null_values(table)"
   ]
  },
  {
   "cell_type": "code",
   "execution_count": 45,
   "metadata": {},
   "outputs": [],
   "source": [
    "# game_time has several empty cells not counted as nulls (28111)"
   ]
  },
  {
   "cell_type": "code",
   "execution_count": 46,
   "metadata": {},
   "outputs": [
    {
     "data": {
      "text/plain": [
       "40"
      ]
     },
     "execution_count": 46,
     "metadata": {},
     "output_type": "execute_result"
    }
   ],
   "source": [
    "# Count duplicate rows in table\n",
    "count_duplicate_entries(table)"
   ]
  },
  {
   "cell_type": "code",
   "execution_count": 47,
   "metadata": {},
   "outputs": [],
   "source": [
    "# Run to view duplicate entries\n",
    "#get_duplicate_rows(table)"
   ]
  },
  {
   "cell_type": "code",
   "execution_count": 125,
   "metadata": {},
   "outputs": [
    {
     "name": "stdout",
     "output_type": "stream",
     "text": [
      "Oldest date of recorded games:  1946-11-01 00:00:00\n",
      "Most recent date of recorded games:  2023-06-12 00:00:00\n"
     ]
    }
   ],
   "source": [
    "# Print date range for this table using get_date_range function\n",
    "date_column = 'game_date'\n",
    "date_range = get_date_range(table, date_column)\n",
    "print('Oldest date of recorded games: ', date_range[0])\n",
    "print('Most recent date of recorded games: ', date_range[1])"
   ]
  },
  {
   "cell_type": "markdown",
   "metadata": {},
   "source": [
    "Data Notes:\n",
    "- Attendance figures for 2020 and 2021 season affected due to COVID"
   ]
  },
  {
   "cell_type": "markdown",
   "metadata": {},
   "source": [
    "### Line Score Table"
   ]
  },
  {
   "cell_type": "code",
   "execution_count": 48,
   "metadata": {},
   "outputs": [],
   "source": [
    "# Defining table name\n",
    "table = 'line_score' # Update for desired table"
   ]
  },
  {
   "cell_type": "code",
   "execution_count": 49,
   "metadata": {},
   "outputs": [
    {
     "name": "stdout",
     "output_type": "stream",
     "text": [
      "The table 'line_score' has 58053 rows and 43 columns.\n"
     ]
    }
   ],
   "source": [
    "# Print data table shape\n",
    "shape = get_table_shape(table)\n",
    "print(f\"The table '{table}' has {shape[0]} rows and {shape[1]} columns.\")"
   ]
  },
  {
   "cell_type": "code",
   "execution_count": 50,
   "metadata": {},
   "outputs": [
    {
     "name": "stdout",
     "output_type": "stream",
     "text": [
      "Columns in line_score table\n",
      "['game_date_est', 'game_sequence', 'game_id', 'team_id_home', 'team_abbreviation_home', 'team_city_name_home', 'team_nickname_home', 'team_wins_losses_home', 'pts_qtr1_home', 'pts_qtr2_home', 'pts_qtr3_home', 'pts_qtr4_home', 'pts_ot1_home', 'pts_ot2_home', 'pts_ot3_home', 'pts_ot4_home', 'pts_ot5_home', 'pts_ot6_home', 'pts_ot7_home', 'pts_ot8_home', 'pts_ot9_home', 'pts_ot10_home', 'pts_home', 'team_id_away', 'team_abbreviation_away', 'team_city_name_away', 'team_nickname_away', 'team_wins_losses_away', 'pts_qtr1_away', 'pts_qtr2_away', 'pts_qtr3_away', 'pts_qtr4_away', 'pts_ot1_away', 'pts_ot2_away', 'pts_ot3_away', 'pts_ot4_away', 'pts_ot5_away', 'pts_ot6_away', 'pts_ot7_away', 'pts_ot8_away', 'pts_ot9_away', 'pts_ot10_away', 'pts_away']\n"
     ]
    }
   ],
   "source": [
    "# List all columns in table using list_columns function\n",
    "columns = list_columns(table)\n",
    "print(f'Columns in {table} table')\n",
    "print(columns)"
   ]
  },
  {
   "cell_type": "code",
   "execution_count": 51,
   "metadata": {},
   "outputs": [
    {
     "data": {
      "text/html": [
       "<div>\n",
       "<style scoped>\n",
       "    .dataframe tbody tr th:only-of-type {\n",
       "        vertical-align: middle;\n",
       "    }\n",
       "\n",
       "    .dataframe tbody tr th {\n",
       "        vertical-align: top;\n",
       "    }\n",
       "\n",
       "    .dataframe thead th {\n",
       "        text-align: right;\n",
       "    }\n",
       "</style>\n",
       "<table border=\"1\" class=\"dataframe\">\n",
       "  <thead>\n",
       "    <tr style=\"text-align: right;\">\n",
       "      <th></th>\n",
       "      <th>game_sequence</th>\n",
       "      <th>pts_qtr1_home</th>\n",
       "      <th>pts_qtr2_home</th>\n",
       "      <th>pts_qtr3_home</th>\n",
       "      <th>pts_qtr4_home</th>\n",
       "      <th>pts_ot1_home</th>\n",
       "      <th>pts_ot2_home</th>\n",
       "      <th>pts_ot3_home</th>\n",
       "      <th>pts_ot4_home</th>\n",
       "      <th>pts_ot5_home</th>\n",
       "      <th>pts_ot6_home</th>\n",
       "      <th>pts_ot7_home</th>\n",
       "      <th>pts_ot8_home</th>\n",
       "      <th>pts_ot9_home</th>\n",
       "      <th>pts_ot10_home</th>\n",
       "      <th>pts_qtr1_away</th>\n",
       "      <th>pts_qtr2_away</th>\n",
       "      <th>pts_qtr3_away</th>\n",
       "      <th>pts_qtr4_away</th>\n",
       "      <th>pts_ot1_away</th>\n",
       "      <th>pts_ot2_away</th>\n",
       "      <th>pts_ot3_away</th>\n",
       "      <th>pts_ot4_away</th>\n",
       "      <th>pts_ot5_away</th>\n",
       "      <th>pts_ot6_away</th>\n",
       "      <th>pts_ot7_away</th>\n",
       "      <th>pts_ot8_away</th>\n",
       "      <th>pts_ot9_away</th>\n",
       "      <th>pts_ot10_away</th>\n",
       "    </tr>\n",
       "  </thead>\n",
       "  <tbody>\n",
       "    <tr>\n",
       "      <th>0</th>\n",
       "      <td>25532</td>\n",
       "      <td>1004</td>\n",
       "      <td>1013</td>\n",
       "      <td>1045</td>\n",
       "      <td>1044</td>\n",
       "      <td>25759</td>\n",
       "      <td>27051</td>\n",
       "      <td>27243</td>\n",
       "      <td>27270</td>\n",
       "      <td>45577</td>\n",
       "      <td>45578</td>\n",
       "      <td>45578</td>\n",
       "      <td>45578</td>\n",
       "      <td>45578</td>\n",
       "      <td>45578</td>\n",
       "      <td>1010</td>\n",
       "      <td>1013</td>\n",
       "      <td>1046</td>\n",
       "      <td>1046</td>\n",
       "      <td>25759</td>\n",
       "      <td>27051</td>\n",
       "      <td>27243</td>\n",
       "      <td>27270</td>\n",
       "      <td>45577</td>\n",
       "      <td>45578</td>\n",
       "      <td>45578</td>\n",
       "      <td>45578</td>\n",
       "      <td>45578</td>\n",
       "      <td>45578</td>\n",
       "    </tr>\n",
       "  </tbody>\n",
       "</table>\n",
       "</div>"
      ],
      "text/plain": [
       "   game_sequence  pts_qtr1_home  pts_qtr2_home  pts_qtr3_home  pts_qtr4_home  pts_ot1_home  pts_ot2_home  pts_ot3_home  pts_ot4_home  pts_ot5_home  pts_ot6_home  pts_ot7_home  pts_ot8_home  pts_ot9_home  pts_ot10_home  pts_qtr1_away  pts_qtr2_away  pts_qtr3_away  pts_qtr4_away  pts_ot1_away  pts_ot2_away  pts_ot3_away  pts_ot4_away  pts_ot5_away  pts_ot6_away  pts_ot7_away  pts_ot8_away  pts_ot9_away  pts_ot10_away\n",
       "0          25532           1004           1013           1045           1044         25759         27051         27243         27270         45577         45578         45578         45578         45578          45578           1010           1013           1046           1046         25759         27051         27243         27270         45577         45578         45578         45578         45578          45578"
      ]
     },
     "execution_count": 51,
     "metadata": {},
     "output_type": "execute_result"
    }
   ],
   "source": [
    "# Data frame that shows only columns with null values and their count\n",
    "check_null_values(table)"
   ]
  },
  {
   "cell_type": "code",
   "execution_count": 52,
   "metadata": {},
   "outputs": [
    {
     "data": {
      "text/plain": [
       "40"
      ]
     },
     "execution_count": 52,
     "metadata": {},
     "output_type": "execute_result"
    }
   ],
   "source": [
    "# Count duplicate rows in table\n",
    "count_duplicate_entries(table)"
   ]
  },
  {
   "cell_type": "code",
   "execution_count": 53,
   "metadata": {},
   "outputs": [],
   "source": [
    "# Run to view duplicate entries\n",
    "#get_duplicate_rows(table)"
   ]
  },
  {
   "cell_type": "markdown",
   "metadata": {},
   "source": [
    "### Play by Play Table"
   ]
  },
  {
   "cell_type": "code",
   "execution_count": 54,
   "metadata": {},
   "outputs": [],
   "source": [
    "# Defining table name\n",
    "table = 'play_by_play' # Update for desired table"
   ]
  },
  {
   "cell_type": "code",
   "execution_count": 55,
   "metadata": {},
   "outputs": [
    {
     "name": "stdout",
     "output_type": "stream",
     "text": [
      "The table 'play_by_play' has 13592899 rows and 34 columns.\n"
     ]
    }
   ],
   "source": [
    "# Print data table shape\n",
    "shape = get_table_shape(table)\n",
    "print(f\"The table '{table}' has {shape[0]} rows and {shape[1]} columns.\")"
   ]
  },
  {
   "cell_type": "code",
   "execution_count": 56,
   "metadata": {},
   "outputs": [
    {
     "name": "stdout",
     "output_type": "stream",
     "text": [
      "Columns in play_by_play table\n",
      "['game_id', 'eventnum', 'eventmsgtype', 'eventmsgactiontype', 'period', 'wctimestring', 'pctimestring', 'homedescription', 'neutraldescription', 'visitordescription', 'score', 'scoremargin', 'person1type', 'player1_id', 'player1_name', 'player1_team_id', 'player1_team_city', 'player1_team_nickname', 'player1_team_abbreviation', 'person2type', 'player2_id', 'player2_name', 'player2_team_id', 'player2_team_city', 'player2_team_nickname', 'player2_team_abbreviation', 'person3type', 'player3_id', 'player3_name', 'player3_team_id', 'player3_team_city', 'player3_team_nickname', 'player3_team_abbreviation', 'video_available_flag']\n"
     ]
    }
   ],
   "source": [
    "# List all columns in table using list_columns function\n",
    "columns = list_columns(table)\n",
    "print(f'Columns in {table} table')\n",
    "print(columns)"
   ]
  },
  {
   "cell_type": "code",
   "execution_count": 57,
   "metadata": {},
   "outputs": [
    {
     "data": {
      "text/html": [
       "<div>\n",
       "<style scoped>\n",
       "    .dataframe tbody tr th:only-of-type {\n",
       "        vertical-align: middle;\n",
       "    }\n",
       "\n",
       "    .dataframe tbody tr th {\n",
       "        vertical-align: top;\n",
       "    }\n",
       "\n",
       "    .dataframe thead th {\n",
       "        text-align: right;\n",
       "    }\n",
       "</style>\n",
       "<table border=\"1\" class=\"dataframe\">\n",
       "  <thead>\n",
       "    <tr style=\"text-align: right;\">\n",
       "      <th></th>\n",
       "      <th>homedescription</th>\n",
       "      <th>neutraldescription</th>\n",
       "      <th>visitordescription</th>\n",
       "      <th>score</th>\n",
       "      <th>scoremargin</th>\n",
       "      <th>person1type</th>\n",
       "      <th>player1_name</th>\n",
       "      <th>player1_team_id</th>\n",
       "      <th>player1_team_city</th>\n",
       "      <th>player1_team_nickname</th>\n",
       "      <th>player1_team_abbreviation</th>\n",
       "      <th>player2_name</th>\n",
       "      <th>player2_team_id</th>\n",
       "      <th>player2_team_city</th>\n",
       "      <th>player2_team_nickname</th>\n",
       "      <th>player2_team_abbreviation</th>\n",
       "      <th>player3_name</th>\n",
       "      <th>player3_team_id</th>\n",
       "      <th>player3_team_city</th>\n",
       "      <th>player3_team_nickname</th>\n",
       "      <th>player3_team_abbreviation</th>\n",
       "    </tr>\n",
       "  </thead>\n",
       "  <tbody>\n",
       "    <tr>\n",
       "      <th>0</th>\n",
       "      <td>6529440</td>\n",
       "      <td>13273291</td>\n",
       "      <td>6634518</td>\n",
       "      <td>10028436</td>\n",
       "      <td>10028436</td>\n",
       "      <td>3298</td>\n",
       "      <td>1208875</td>\n",
       "      <td>1215858</td>\n",
       "      <td>1215858</td>\n",
       "      <td>1215858</td>\n",
       "      <td>1215858</td>\n",
       "      <td>9683745</td>\n",
       "      <td>9660454</td>\n",
       "      <td>9660454</td>\n",
       "      <td>9660454</td>\n",
       "      <td>9660454</td>\n",
       "      <td>13251785</td>\n",
       "      <td>13246931</td>\n",
       "      <td>13246931</td>\n",
       "      <td>13246931</td>\n",
       "      <td>13246931</td>\n",
       "    </tr>\n",
       "  </tbody>\n",
       "</table>\n",
       "</div>"
      ],
      "text/plain": [
       "   homedescription  neutraldescription  visitordescription     score  scoremargin  person1type  player1_name  player1_team_id  player1_team_city  player1_team_nickname  player1_team_abbreviation  player2_name  player2_team_id  player2_team_city  player2_team_nickname  player2_team_abbreviation  player3_name  player3_team_id  player3_team_city  player3_team_nickname  player3_team_abbreviation\n",
       "0          6529440            13273291             6634518  10028436     10028436         3298       1208875          1215858            1215858                1215858                    1215858       9683745          9660454            9660454                9660454                    9660454      13251785         13246931           13246931               13246931                   13246931"
      ]
     },
     "execution_count": 57,
     "metadata": {},
     "output_type": "execute_result"
    }
   ],
   "source": [
    "# Data frame that shows only columns with null values and their count\n",
    "check_null_values(table)"
   ]
  },
  {
   "cell_type": "code",
   "execution_count": 58,
   "metadata": {},
   "outputs": [
    {
     "data": {
      "text/plain": [
       "7360"
      ]
     },
     "execution_count": 58,
     "metadata": {},
     "output_type": "execute_result"
    }
   ],
   "source": [
    "# Count duplicate rows in table\n",
    "count_duplicate_entries(table)"
   ]
  },
  {
   "cell_type": "code",
   "execution_count": 59,
   "metadata": {},
   "outputs": [],
   "source": [
    "# Run to view duplicate entries\n",
    "#get_duplicate_rows(table).head()"
   ]
  },
  {
   "cell_type": "markdown",
   "metadata": {},
   "source": [
    "### Player Table"
   ]
  },
  {
   "cell_type": "code",
   "execution_count": 60,
   "metadata": {},
   "outputs": [],
   "source": [
    "# Defining table name\n",
    "table = 'player' # Update for desired table"
   ]
  },
  {
   "cell_type": "code",
   "execution_count": 61,
   "metadata": {},
   "outputs": [
    {
     "name": "stdout",
     "output_type": "stream",
     "text": [
      "The table 'player' has 4815 rows and 5 columns.\n"
     ]
    }
   ],
   "source": [
    "# Print data table shape\n",
    "shape = get_table_shape(table)\n",
    "print(f\"The table '{table}' has {shape[0]} rows and {shape[1]} columns.\")"
   ]
  },
  {
   "cell_type": "code",
   "execution_count": 62,
   "metadata": {},
   "outputs": [
    {
     "name": "stdout",
     "output_type": "stream",
     "text": [
      "Columns in player table\n",
      "['id', 'full_name', 'first_name', 'last_name', 'is_active']\n"
     ]
    }
   ],
   "source": [
    "# List all columns in table using list_columns function\n",
    "columns = list_columns(table)\n",
    "print(f'Columns in {table} table')\n",
    "print(columns)"
   ]
  },
  {
   "cell_type": "code",
   "execution_count": 63,
   "metadata": {},
   "outputs": [
    {
     "data": {
      "text/html": [
       "<div>\n",
       "<style scoped>\n",
       "    .dataframe tbody tr th:only-of-type {\n",
       "        vertical-align: middle;\n",
       "    }\n",
       "\n",
       "    .dataframe tbody tr th {\n",
       "        vertical-align: top;\n",
       "    }\n",
       "\n",
       "    .dataframe thead th {\n",
       "        text-align: right;\n",
       "    }\n",
       "</style>\n",
       "<table border=\"1\" class=\"dataframe\">\n",
       "  <thead>\n",
       "    <tr style=\"text-align: right;\">\n",
       "      <th></th>\n",
       "    </tr>\n",
       "  </thead>\n",
       "  <tbody>\n",
       "    <tr>\n",
       "      <th>0</th>\n",
       "    </tr>\n",
       "  </tbody>\n",
       "</table>\n",
       "</div>"
      ],
      "text/plain": [
       "Empty DataFrame\n",
       "Columns: []\n",
       "Index: [0]"
      ]
     },
     "execution_count": 63,
     "metadata": {},
     "output_type": "execute_result"
    }
   ],
   "source": [
    "# Data frame that shows only columns with null values and their count\n",
    "check_null_values(table)"
   ]
  },
  {
   "cell_type": "code",
   "execution_count": 64,
   "metadata": {},
   "outputs": [
    {
     "data": {
      "text/plain": [
       "0"
      ]
     },
     "execution_count": 64,
     "metadata": {},
     "output_type": "execute_result"
    }
   ],
   "source": [
    "# Count duplicate rows in table\n",
    "count_duplicate_entries(table)"
   ]
  },
  {
   "cell_type": "markdown",
   "metadata": {},
   "source": [
    "### Team Table"
   ]
  },
  {
   "cell_type": "code",
   "execution_count": 65,
   "metadata": {},
   "outputs": [],
   "source": [
    "# Defining table name\n",
    "table = 'team' # Update for desired table"
   ]
  },
  {
   "cell_type": "code",
   "execution_count": 66,
   "metadata": {},
   "outputs": [
    {
     "name": "stdout",
     "output_type": "stream",
     "text": [
      "The table 'team' has 30 rows and 7 columns.\n"
     ]
    }
   ],
   "source": [
    "# Print data table shape\n",
    "shape = get_table_shape(table)\n",
    "print(f\"The table '{table}' has {shape[0]} rows and {shape[1]} columns.\")"
   ]
  },
  {
   "cell_type": "code",
   "execution_count": 67,
   "metadata": {},
   "outputs": [
    {
     "name": "stdout",
     "output_type": "stream",
     "text": [
      "Columns in team table\n",
      "['id', 'full_name', 'abbreviation', 'nickname', 'city', 'state', 'year_founded']\n"
     ]
    }
   ],
   "source": [
    "# List all columns in table using list_columns function\n",
    "columns = list_columns(table)\n",
    "print(f'Columns in {table} table')\n",
    "print(columns)"
   ]
  },
  {
   "cell_type": "code",
   "execution_count": 68,
   "metadata": {},
   "outputs": [
    {
     "data": {
      "text/html": [
       "<div>\n",
       "<style scoped>\n",
       "    .dataframe tbody tr th:only-of-type {\n",
       "        vertical-align: middle;\n",
       "    }\n",
       "\n",
       "    .dataframe tbody tr th {\n",
       "        vertical-align: top;\n",
       "    }\n",
       "\n",
       "    .dataframe thead th {\n",
       "        text-align: right;\n",
       "    }\n",
       "</style>\n",
       "<table border=\"1\" class=\"dataframe\">\n",
       "  <thead>\n",
       "    <tr style=\"text-align: right;\">\n",
       "      <th></th>\n",
       "    </tr>\n",
       "  </thead>\n",
       "  <tbody>\n",
       "    <tr>\n",
       "      <th>0</th>\n",
       "    </tr>\n",
       "  </tbody>\n",
       "</table>\n",
       "</div>"
      ],
      "text/plain": [
       "Empty DataFrame\n",
       "Columns: []\n",
       "Index: [0]"
      ]
     },
     "execution_count": 68,
     "metadata": {},
     "output_type": "execute_result"
    }
   ],
   "source": [
    "# Data frame that shows only columns with null values and their count\n",
    "check_null_values(table)"
   ]
  },
  {
   "cell_type": "code",
   "execution_count": 69,
   "metadata": {},
   "outputs": [
    {
     "data": {
      "text/plain": [
       "0"
      ]
     },
     "execution_count": 69,
     "metadata": {},
     "output_type": "execute_result"
    }
   ],
   "source": [
    "# Count duplicate rows in table\n",
    "count_duplicate_entries(table)"
   ]
  },
  {
   "cell_type": "markdown",
   "metadata": {},
   "source": [
    "### Common Player Info Table"
   ]
  },
  {
   "cell_type": "code",
   "execution_count": 70,
   "metadata": {},
   "outputs": [],
   "source": [
    "# Defining table name\n",
    "table = 'common_player_info' # Update for desired table"
   ]
  },
  {
   "cell_type": "code",
   "execution_count": 71,
   "metadata": {},
   "outputs": [
    {
     "name": "stdout",
     "output_type": "stream",
     "text": [
      "The table 'common_player_info' has 3632 rows and 33 columns.\n"
     ]
    }
   ],
   "source": [
    "# Print data table shape\n",
    "shape = get_table_shape(table)\n",
    "print(f\"The table '{table}' has {shape[0]} rows and {shape[1]} columns.\")"
   ]
  },
  {
   "cell_type": "code",
   "execution_count": 72,
   "metadata": {},
   "outputs": [
    {
     "name": "stdout",
     "output_type": "stream",
     "text": [
      "Columns in common_player_info table\n",
      "['person_id', 'first_name', 'last_name', 'display_first_last', 'display_last_comma_first', 'display_fi_last', 'player_slug', 'birthdate', 'school', 'country', 'last_affiliation', 'height', 'weight', 'season_exp', 'jersey', 'position', 'rosterstatus', 'games_played_current_season_flag', 'team_id', 'team_name', 'team_abbreviation', 'team_code', 'team_city', 'playercode', 'from_year', 'to_year', 'dleague_flag', 'nba_flag', 'games_played_flag', 'draft_year', 'draft_round', 'draft_number', 'greatest_75_flag']\n"
     ]
    }
   ],
   "source": [
    "# List all columns in table using list_columns function\n",
    "columns = list_columns(table)\n",
    "print(f'Columns in {table} table')\n",
    "print(columns)"
   ]
  },
  {
   "cell_type": "code",
   "execution_count": 73,
   "metadata": {},
   "outputs": [
    {
     "data": {
      "text/html": [
       "<div>\n",
       "<style scoped>\n",
       "    .dataframe tbody tr th:only-of-type {\n",
       "        vertical-align: middle;\n",
       "    }\n",
       "\n",
       "    .dataframe tbody tr th {\n",
       "        vertical-align: top;\n",
       "    }\n",
       "\n",
       "    .dataframe thead th {\n",
       "        text-align: right;\n",
       "    }\n",
       "</style>\n",
       "<table border=\"1\" class=\"dataframe\">\n",
       "  <thead>\n",
       "    <tr style=\"text-align: right;\">\n",
       "      <th></th>\n",
       "      <th>school</th>\n",
       "      <th>country</th>\n",
       "      <th>playercode</th>\n",
       "      <th>draft_round</th>\n",
       "      <th>draft_number</th>\n",
       "    </tr>\n",
       "  </thead>\n",
       "  <tbody>\n",
       "    <tr>\n",
       "      <th>0</th>\n",
       "      <td>1</td>\n",
       "      <td>1</td>\n",
       "      <td>1</td>\n",
       "      <td>146</td>\n",
       "      <td>198</td>\n",
       "    </tr>\n",
       "  </tbody>\n",
       "</table>\n",
       "</div>"
      ],
      "text/plain": [
       "   school  country  playercode  draft_round  draft_number\n",
       "0       1        1           1          146           198"
      ]
     },
     "execution_count": 73,
     "metadata": {},
     "output_type": "execute_result"
    }
   ],
   "source": [
    "# Data frame that shows only columns with null values and their count\n",
    "check_null_values(table)"
   ]
  },
  {
   "cell_type": "code",
   "execution_count": 74,
   "metadata": {},
   "outputs": [
    {
     "data": {
      "text/plain": [
       "0"
      ]
     },
     "execution_count": 74,
     "metadata": {},
     "output_type": "execute_result"
    }
   ],
   "source": [
    "# Count duplicate rows in table\n",
    "count_duplicate_entries(table)"
   ]
  },
  {
   "cell_type": "markdown",
   "metadata": {},
   "source": [
    "### Team Details Table"
   ]
  },
  {
   "cell_type": "code",
   "execution_count": 75,
   "metadata": {},
   "outputs": [],
   "source": [
    "# Defining table name\n",
    "table = 'team_details' # Update for desired table"
   ]
  },
  {
   "cell_type": "code",
   "execution_count": 76,
   "metadata": {},
   "outputs": [
    {
     "name": "stdout",
     "output_type": "stream",
     "text": [
      "The table 'team_details' has 27 rows and 14 columns.\n"
     ]
    }
   ],
   "source": [
    "# Print data table shape\n",
    "shape = get_table_shape(table)\n",
    "print(f\"The table '{table}' has {shape[0]} rows and {shape[1]} columns.\")"
   ]
  },
  {
   "cell_type": "code",
   "execution_count": 77,
   "metadata": {},
   "outputs": [
    {
     "name": "stdout",
     "output_type": "stream",
     "text": [
      "Columns in team_details table\n",
      "['team_id', 'abbreviation', 'nickname', 'yearfounded', 'city', 'arena', 'arenacapacity', 'owner', 'generalmanager', 'headcoach', 'dleagueaffiliation', 'facebook', 'instagram', 'twitter']\n"
     ]
    }
   ],
   "source": [
    "# List all columns in table using list_columns function\n",
    "columns = list_columns(table)\n",
    "print(f'Columns in {table} table')\n",
    "print(columns)"
   ]
  },
  {
   "cell_type": "code",
   "execution_count": 78,
   "metadata": {},
   "outputs": [
    {
     "data": {
      "text/html": [
       "<div>\n",
       "<style scoped>\n",
       "    .dataframe tbody tr th:only-of-type {\n",
       "        vertical-align: middle;\n",
       "    }\n",
       "\n",
       "    .dataframe tbody tr th {\n",
       "        vertical-align: top;\n",
       "    }\n",
       "\n",
       "    .dataframe thead th {\n",
       "        text-align: right;\n",
       "    }\n",
       "</style>\n",
       "<table border=\"1\" class=\"dataframe\">\n",
       "  <thead>\n",
       "    <tr style=\"text-align: right;\">\n",
       "      <th></th>\n",
       "      <th>arenacapacity</th>\n",
       "    </tr>\n",
       "  </thead>\n",
       "  <tbody>\n",
       "    <tr>\n",
       "      <th>0</th>\n",
       "      <td>10</td>\n",
       "    </tr>\n",
       "  </tbody>\n",
       "</table>\n",
       "</div>"
      ],
      "text/plain": [
       "   arenacapacity\n",
       "0             10"
      ]
     },
     "execution_count": 78,
     "metadata": {},
     "output_type": "execute_result"
    }
   ],
   "source": [
    "# Data frame that shows only columns with null values and their count\n",
    "check_null_values(table)"
   ]
  },
  {
   "cell_type": "code",
   "execution_count": 79,
   "metadata": {},
   "outputs": [
    {
     "data": {
      "text/plain": [
       "0"
      ]
     },
     "execution_count": 79,
     "metadata": {},
     "output_type": "execute_result"
    }
   ],
   "source": [
    "# Count duplicate rows in table\n",
    "count_duplicate_entries(table)"
   ]
  },
  {
   "cell_type": "markdown",
   "metadata": {},
   "source": [
    "Data Notes:\n",
    "- Table is missing three teams, that I will impute later\n",
    "- Arena Capacity are missing values, that I will impute as well"
   ]
  },
  {
   "cell_type": "markdown",
   "metadata": {},
   "source": [
    "### Team History Table"
   ]
  },
  {
   "cell_type": "code",
   "execution_count": 80,
   "metadata": {},
   "outputs": [],
   "source": [
    "# Defining table name\n",
    "table = 'team_history' # Update for desired table"
   ]
  },
  {
   "cell_type": "code",
   "execution_count": 81,
   "metadata": {},
   "outputs": [
    {
     "name": "stdout",
     "output_type": "stream",
     "text": [
      "The table 'team_history' has 50 rows and 5 columns.\n"
     ]
    }
   ],
   "source": [
    "# Print data table shape\n",
    "shape = get_table_shape(table)\n",
    "print(f\"The table '{table}' has {shape[0]} rows and {shape[1]} columns.\")"
   ]
  },
  {
   "cell_type": "code",
   "execution_count": 82,
   "metadata": {},
   "outputs": [
    {
     "name": "stdout",
     "output_type": "stream",
     "text": [
      "Columns in team_history table\n",
      "['team_id', 'city', 'nickname', 'year_founded', 'year_active_till']\n"
     ]
    }
   ],
   "source": [
    "# List all columns in table using list_columns function\n",
    "columns = list_columns(table)\n",
    "print(f'Columns in {table} table')\n",
    "print(columns)"
   ]
  },
  {
   "cell_type": "code",
   "execution_count": 83,
   "metadata": {},
   "outputs": [
    {
     "data": {
      "text/html": [
       "<div>\n",
       "<style scoped>\n",
       "    .dataframe tbody tr th:only-of-type {\n",
       "        vertical-align: middle;\n",
       "    }\n",
       "\n",
       "    .dataframe tbody tr th {\n",
       "        vertical-align: top;\n",
       "    }\n",
       "\n",
       "    .dataframe thead th {\n",
       "        text-align: right;\n",
       "    }\n",
       "</style>\n",
       "<table border=\"1\" class=\"dataframe\">\n",
       "  <thead>\n",
       "    <tr style=\"text-align: right;\">\n",
       "      <th></th>\n",
       "    </tr>\n",
       "  </thead>\n",
       "  <tbody>\n",
       "    <tr>\n",
       "      <th>0</th>\n",
       "    </tr>\n",
       "  </tbody>\n",
       "</table>\n",
       "</div>"
      ],
      "text/plain": [
       "Empty DataFrame\n",
       "Columns: []\n",
       "Index: [0]"
      ]
     },
     "execution_count": 83,
     "metadata": {},
     "output_type": "execute_result"
    }
   ],
   "source": [
    "# Data frame that shows only columns with null values and their count\n",
    "check_null_values(table)"
   ]
  },
  {
   "cell_type": "code",
   "execution_count": 84,
   "metadata": {},
   "outputs": [
    {
     "data": {
      "text/plain": [
       "0"
      ]
     },
     "execution_count": 84,
     "metadata": {},
     "output_type": "execute_result"
    }
   ],
   "source": [
    "# Count duplicate rows in table\n",
    "count_duplicate_entries(table)"
   ]
  },
  {
   "cell_type": "markdown",
   "metadata": {},
   "source": [
    "### Draft Combine Stats Table"
   ]
  },
  {
   "cell_type": "code",
   "execution_count": 85,
   "metadata": {},
   "outputs": [],
   "source": [
    "# Defining table name\n",
    "table = 'draft_combine_stats' # Update for desired table"
   ]
  },
  {
   "cell_type": "code",
   "execution_count": 86,
   "metadata": {},
   "outputs": [
    {
     "name": "stdout",
     "output_type": "stream",
     "text": [
      "The table 'draft_combine_stats' has 1633 rows and 47 columns.\n"
     ]
    }
   ],
   "source": [
    "# Print data table shape\n",
    "shape = get_table_shape(table)\n",
    "print(f\"The table '{table}' has {shape[0]} rows and {shape[1]} columns.\")"
   ]
  },
  {
   "cell_type": "code",
   "execution_count": 87,
   "metadata": {},
   "outputs": [
    {
     "name": "stdout",
     "output_type": "stream",
     "text": [
      "Columns in draft_combine_stats table\n",
      "['season', 'player_id', 'first_name', 'last_name', 'player_name', 'position', 'height_wo_shoes', 'height_wo_shoes_ft_in', 'height_w_shoes', 'height_w_shoes_ft_in', 'weight', 'wingspan', 'wingspan_ft_in', 'standing_reach', 'standing_reach_ft_in', 'body_fat_pct', 'hand_length', 'hand_width', 'standing_vertical_leap', 'max_vertical_leap', 'lane_agility_time', 'modified_lane_agility_time', 'three_quarter_sprint', 'bench_press', 'spot_fifteen_corner_left', 'spot_fifteen_break_left', 'spot_fifteen_top_key', 'spot_fifteen_break_right', 'spot_fifteen_corner_right', 'spot_college_corner_left', 'spot_college_break_left', 'spot_college_top_key', 'spot_college_break_right', 'spot_college_corner_right', 'spot_nba_corner_left', 'spot_nba_break_left', 'spot_nba_top_key', 'spot_nba_break_right', 'spot_nba_corner_right', 'off_drib_fifteen_break_left', 'off_drib_fifteen_top_key', 'off_drib_fifteen_break_right', 'off_drib_college_break_left', 'off_drib_college_top_key', 'off_drib_college_break_right', 'on_move_fifteen', 'on_move_college']\n"
     ]
    }
   ],
   "source": [
    "# List all columns in table using list_columns function\n",
    "columns = list_columns(table)\n",
    "print(f'Columns in {table} table')\n",
    "print(columns)"
   ]
  },
  {
   "cell_type": "code",
   "execution_count": 88,
   "metadata": {},
   "outputs": [
    {
     "data": {
      "text/html": [
       "<div>\n",
       "<style scoped>\n",
       "    .dataframe tbody tr th:only-of-type {\n",
       "        vertical-align: middle;\n",
       "    }\n",
       "\n",
       "    .dataframe tbody tr th {\n",
       "        vertical-align: top;\n",
       "    }\n",
       "\n",
       "    .dataframe thead th {\n",
       "        text-align: right;\n",
       "    }\n",
       "</style>\n",
       "<table border=\"1\" class=\"dataframe\">\n",
       "  <thead>\n",
       "    <tr style=\"text-align: right;\">\n",
       "      <th></th>\n",
       "      <th>height_wo_shoes</th>\n",
       "      <th>height_wo_shoes_ft_in</th>\n",
       "      <th>height_w_shoes</th>\n",
       "      <th>height_w_shoes_ft_in</th>\n",
       "      <th>weight</th>\n",
       "      <th>wingspan</th>\n",
       "      <th>wingspan_ft_in</th>\n",
       "      <th>standing_reach</th>\n",
       "      <th>standing_reach_ft_in</th>\n",
       "      <th>body_fat_pct</th>\n",
       "      <th>hand_length</th>\n",
       "      <th>hand_width</th>\n",
       "      <th>standing_vertical_leap</th>\n",
       "      <th>max_vertical_leap</th>\n",
       "      <th>lane_agility_time</th>\n",
       "      <th>modified_lane_agility_time</th>\n",
       "      <th>three_quarter_sprint</th>\n",
       "      <th>bench_press</th>\n",
       "      <th>spot_fifteen_corner_left</th>\n",
       "      <th>spot_fifteen_break_left</th>\n",
       "      <th>spot_fifteen_top_key</th>\n",
       "      <th>spot_fifteen_break_right</th>\n",
       "      <th>spot_fifteen_corner_right</th>\n",
       "      <th>spot_college_corner_left</th>\n",
       "      <th>spot_college_break_left</th>\n",
       "      <th>spot_college_top_key</th>\n",
       "      <th>spot_college_break_right</th>\n",
       "      <th>spot_college_corner_right</th>\n",
       "      <th>spot_nba_corner_left</th>\n",
       "      <th>spot_nba_break_left</th>\n",
       "      <th>spot_nba_top_key</th>\n",
       "      <th>spot_nba_break_right</th>\n",
       "      <th>spot_nba_corner_right</th>\n",
       "      <th>off_drib_fifteen_break_left</th>\n",
       "      <th>off_drib_fifteen_top_key</th>\n",
       "      <th>off_drib_fifteen_break_right</th>\n",
       "      <th>off_drib_college_break_left</th>\n",
       "      <th>off_drib_college_top_key</th>\n",
       "      <th>off_drib_college_break_right</th>\n",
       "      <th>on_move_fifteen</th>\n",
       "      <th>on_move_college</th>\n",
       "    </tr>\n",
       "  </thead>\n",
       "  <tbody>\n",
       "    <tr>\n",
       "      <th>0</th>\n",
       "      <td>58</td>\n",
       "      <td>58</td>\n",
       "      <td>428</td>\n",
       "      <td>428</td>\n",
       "      <td>59</td>\n",
       "      <td>58</td>\n",
       "      <td>58</td>\n",
       "      <td>59</td>\n",
       "      <td>59</td>\n",
       "      <td>357</td>\n",
       "      <td>794</td>\n",
       "      <td>794</td>\n",
       "      <td>237</td>\n",
       "      <td>237</td>\n",
       "      <td>246</td>\n",
       "      <td>1124</td>\n",
       "      <td>246</td>\n",
       "      <td>538</td>\n",
       "      <td>1529</td>\n",
       "      <td>1527</td>\n",
       "      <td>1527</td>\n",
       "      <td>1527</td>\n",
       "      <td>1527</td>\n",
       "      <td>1341</td>\n",
       "      <td>1462</td>\n",
       "      <td>1462</td>\n",
       "      <td>1462</td>\n",
       "      <td>1462</td>\n",
       "      <td>1381</td>\n",
       "      <td>1381</td>\n",
       "      <td>1381</td>\n",
       "      <td>1381</td>\n",
       "      <td>1381</td>\n",
       "      <td>1432</td>\n",
       "      <td>1432</td>\n",
       "      <td>1432</td>\n",
       "      <td>1483</td>\n",
       "      <td>1602</td>\n",
       "      <td>1602</td>\n",
       "      <td>1449</td>\n",
       "      <td>1465</td>\n",
       "    </tr>\n",
       "  </tbody>\n",
       "</table>\n",
       "</div>"
      ],
      "text/plain": [
       "   height_wo_shoes  height_wo_shoes_ft_in  height_w_shoes  height_w_shoes_ft_in  weight  wingspan  wingspan_ft_in  standing_reach  standing_reach_ft_in  body_fat_pct  hand_length  hand_width  standing_vertical_leap  max_vertical_leap  lane_agility_time  modified_lane_agility_time  three_quarter_sprint  bench_press  spot_fifteen_corner_left  spot_fifteen_break_left  spot_fifteen_top_key  spot_fifteen_break_right  spot_fifteen_corner_right  spot_college_corner_left  spot_college_break_left  spot_college_top_key  spot_college_break_right  spot_college_corner_right  spot_nba_corner_left  spot_nba_break_left  spot_nba_top_key  spot_nba_break_right  spot_nba_corner_right  off_drib_fifteen_break_left  off_drib_fifteen_top_key  off_drib_fifteen_break_right  off_drib_college_break_left  off_drib_college_top_key  off_drib_college_break_right  on_move_fifteen  on_move_college\n",
       "0               58                     58             428                   428      59        58              58              59                    59           357          794         794                     237                237                246                        1124                   246          538                      1529                     1527                  1527                      1527                       1527                      1341                     1462                  1462                      1462                       1462                  1381                 1381              1381                  1381                   1381                         1432                      1432                          1432                         1483                      1602                          1602             1449             1465"
      ]
     },
     "execution_count": 88,
     "metadata": {},
     "output_type": "execute_result"
    }
   ],
   "source": [
    "# Data frame that shows only columns with null values and their count\n",
    "check_null_values(table)"
   ]
  },
  {
   "cell_type": "code",
   "execution_count": 89,
   "metadata": {},
   "outputs": [
    {
     "data": {
      "text/plain": [
       "0"
      ]
     },
     "execution_count": 89,
     "metadata": {},
     "output_type": "execute_result"
    }
   ],
   "source": [
    "# Count duplicate rows in table\n",
    "count_duplicate_entries(table)"
   ]
  },
  {
   "cell_type": "markdown",
   "metadata": {},
   "source": [
    "### Draft History Table"
   ]
  },
  {
   "cell_type": "code",
   "execution_count": 90,
   "metadata": {},
   "outputs": [],
   "source": [
    "# Defining table name\n",
    "table = 'draft_history' # Update for desired table"
   ]
  },
  {
   "cell_type": "code",
   "execution_count": 91,
   "metadata": {},
   "outputs": [
    {
     "name": "stdout",
     "output_type": "stream",
     "text": [
      "The table 'draft_history' has 8257 rows and 14 columns.\n"
     ]
    }
   ],
   "source": [
    "# Print data table shape\n",
    "shape = get_table_shape(table)\n",
    "print(f\"The table '{table}' has {shape[0]} rows and {shape[1]} columns.\")"
   ]
  },
  {
   "cell_type": "code",
   "execution_count": 92,
   "metadata": {},
   "outputs": [
    {
     "name": "stdout",
     "output_type": "stream",
     "text": [
      "Columns in draft_history table\n",
      "['person_id', 'player_name', 'season', 'round_number', 'round_pick', 'overall_pick', 'draft_type', 'team_id', 'team_city', 'team_name', 'team_abbreviation', 'organization', 'organization_type', 'player_profile_flag']\n"
     ]
    }
   ],
   "source": [
    "# List all columns in table using list_columns function\n",
    "columns = list_columns(table)\n",
    "print(f'Columns in {table} table')\n",
    "print(columns)"
   ]
  },
  {
   "cell_type": "code",
   "execution_count": 93,
   "metadata": {},
   "outputs": [
    {
     "data": {
      "text/html": [
       "<div>\n",
       "<style scoped>\n",
       "    .dataframe tbody tr th:only-of-type {\n",
       "        vertical-align: middle;\n",
       "    }\n",
       "\n",
       "    .dataframe tbody tr th {\n",
       "        vertical-align: top;\n",
       "    }\n",
       "\n",
       "    .dataframe thead th {\n",
       "        text-align: right;\n",
       "    }\n",
       "</style>\n",
       "<table border=\"1\" class=\"dataframe\">\n",
       "  <thead>\n",
       "    <tr style=\"text-align: right;\">\n",
       "      <th></th>\n",
       "    </tr>\n",
       "  </thead>\n",
       "  <tbody>\n",
       "    <tr>\n",
       "      <th>0</th>\n",
       "    </tr>\n",
       "  </tbody>\n",
       "</table>\n",
       "</div>"
      ],
      "text/plain": [
       "Empty DataFrame\n",
       "Columns: []\n",
       "Index: [0]"
      ]
     },
     "execution_count": 93,
     "metadata": {},
     "output_type": "execute_result"
    }
   ],
   "source": [
    "# Data frame that shows only columns with null values and their count\n",
    "check_null_values(table)"
   ]
  },
  {
   "cell_type": "code",
   "execution_count": 94,
   "metadata": {},
   "outputs": [
    {
     "data": {
      "text/plain": [
       "0"
      ]
     },
     "execution_count": 94,
     "metadata": {},
     "output_type": "execute_result"
    }
   ],
   "source": [
    "# Count duplicate rows in table\n",
    "count_duplicate_entries(table)"
   ]
  },
  {
   "cell_type": "markdown",
   "metadata": {},
   "source": [
    "### Team Info Common Table"
   ]
  },
  {
   "cell_type": "code",
   "execution_count": 95,
   "metadata": {},
   "outputs": [],
   "source": [
    "# Defining table name\n",
    "table = 'team_info_common' # Update for desired table"
   ]
  },
  {
   "cell_type": "code",
   "execution_count": 96,
   "metadata": {},
   "outputs": [
    {
     "name": "stdout",
     "output_type": "stream",
     "text": [
      "The table 'team_info_common' has 0 rows and 26 columns.\n"
     ]
    }
   ],
   "source": [
    "# Print data table shape\n",
    "shape = get_table_shape(table)\n",
    "print(f\"The table '{table}' has {shape[0]} rows and {shape[1]} columns.\")"
   ]
  },
  {
   "cell_type": "code",
   "execution_count": 97,
   "metadata": {},
   "outputs": [
    {
     "name": "stdout",
     "output_type": "stream",
     "text": [
      "Columns in team_info_common table\n",
      "['team_id', 'season_year', 'team_city', 'team_name', 'team_abbreviation', 'team_conference', 'team_division', 'team_code', 'team_slug', 'w', 'l', 'pct', 'conf_rank', 'div_rank', 'min_year', 'max_year', 'league_id', 'season_id', 'pts_rank', 'pts_pg', 'reb_rank', 'reb_pg', 'ast_rank', 'ast_pg', 'opp_pts_rank', 'opp_pts_pg']\n"
     ]
    }
   ],
   "source": [
    "# List all columns in table using list_columns function\n",
    "columns = list_columns(table)\n",
    "print(f'Columns in {table} table')\n",
    "print(columns)"
   ]
  },
  {
   "cell_type": "code",
   "execution_count": 98,
   "metadata": {},
   "outputs": [
    {
     "data": {
      "text/html": [
       "<div>\n",
       "<style scoped>\n",
       "    .dataframe tbody tr th:only-of-type {\n",
       "        vertical-align: middle;\n",
       "    }\n",
       "\n",
       "    .dataframe tbody tr th {\n",
       "        vertical-align: top;\n",
       "    }\n",
       "\n",
       "    .dataframe thead th {\n",
       "        text-align: right;\n",
       "    }\n",
       "</style>\n",
       "<table border=\"1\" class=\"dataframe\">\n",
       "  <thead>\n",
       "    <tr style=\"text-align: right;\">\n",
       "      <th></th>\n",
       "      <th>team_id</th>\n",
       "      <th>season_year</th>\n",
       "      <th>team_city</th>\n",
       "      <th>team_name</th>\n",
       "      <th>team_abbreviation</th>\n",
       "      <th>team_conference</th>\n",
       "      <th>team_division</th>\n",
       "      <th>team_code</th>\n",
       "      <th>team_slug</th>\n",
       "      <th>w</th>\n",
       "      <th>l</th>\n",
       "      <th>pct</th>\n",
       "      <th>conf_rank</th>\n",
       "      <th>div_rank</th>\n",
       "      <th>min_year</th>\n",
       "      <th>max_year</th>\n",
       "      <th>league_id</th>\n",
       "      <th>season_id</th>\n",
       "      <th>pts_rank</th>\n",
       "      <th>pts_pg</th>\n",
       "      <th>reb_rank</th>\n",
       "      <th>reb_pg</th>\n",
       "      <th>ast_rank</th>\n",
       "      <th>ast_pg</th>\n",
       "      <th>opp_pts_rank</th>\n",
       "      <th>opp_pts_pg</th>\n",
       "    </tr>\n",
       "  </thead>\n",
       "  <tbody>\n",
       "    <tr>\n",
       "      <th>0</th>\n",
       "      <td>None</td>\n",
       "      <td>None</td>\n",
       "      <td>None</td>\n",
       "      <td>None</td>\n",
       "      <td>None</td>\n",
       "      <td>None</td>\n",
       "      <td>None</td>\n",
       "      <td>None</td>\n",
       "      <td>None</td>\n",
       "      <td>None</td>\n",
       "      <td>None</td>\n",
       "      <td>None</td>\n",
       "      <td>None</td>\n",
       "      <td>None</td>\n",
       "      <td>None</td>\n",
       "      <td>None</td>\n",
       "      <td>None</td>\n",
       "      <td>None</td>\n",
       "      <td>None</td>\n",
       "      <td>None</td>\n",
       "      <td>None</td>\n",
       "      <td>None</td>\n",
       "      <td>None</td>\n",
       "      <td>None</td>\n",
       "      <td>None</td>\n",
       "      <td>None</td>\n",
       "    </tr>\n",
       "  </tbody>\n",
       "</table>\n",
       "</div>"
      ],
      "text/plain": [
       "  team_id season_year team_city team_name team_abbreviation team_conference team_division team_code team_slug     w     l   pct conf_rank div_rank min_year max_year league_id season_id pts_rank pts_pg reb_rank reb_pg ast_rank ast_pg opp_pts_rank opp_pts_pg\n",
       "0    None        None      None      None              None            None          None      None      None  None  None  None      None     None     None     None      None      None     None   None     None   None     None   None         None       None"
      ]
     },
     "execution_count": 98,
     "metadata": {},
     "output_type": "execute_result"
    }
   ],
   "source": [
    "# Data frame that shows only columns with null values and their count\n",
    "check_null_values(table)"
   ]
  },
  {
   "cell_type": "code",
   "execution_count": 99,
   "metadata": {},
   "outputs": [
    {
     "data": {
      "text/plain": [
       "0"
      ]
     },
     "execution_count": 99,
     "metadata": {},
     "output_type": "execute_result"
    }
   ],
   "source": [
    "# Count duplicate rows in table\n",
    "count_duplicate_entries(table)"
   ]
  },
  {
   "cell_type": "markdown",
   "metadata": {},
   "source": [
    "Data Notes:\n",
    "- Unfortunately table was empty, no data available from Kaggle data set"
   ]
  },
  {
   "cell_type": "markdown",
   "metadata": {},
   "source": [
    "## Loading Select SQLite Data"
   ]
  },
  {
   "cell_type": "code",
   "execution_count": 107,
   "metadata": {},
   "outputs": [],
   "source": [
    "# Selecting features to load\n",
    "game_columns = 'game_id, team_id_home, team_id_away, season_id, season_type, wl_home, wl_away, pts_home, pts_away, plus_minus_home, plus_minus_away, min'\n",
    "game_info_columns = 'game_id, game_date, attendance'\n",
    "game_sum_columns = 'game_id, season'\n",
    "\n",
    "team_columns = 'id AS team_id, full_name, abbreviation, city, state, year_founded'\n",
    "team_details_columns = 'team_id, arena, arenacapacity'"
   ]
  },
  {
   "cell_type": "code",
   "execution_count": 108,
   "metadata": {},
   "outputs": [],
   "source": [
    "# Loading data from tables\n",
    "game_df = pd.read_sql_query(f\"SELECT {game_columns} FROM game\", conn)\n",
    "game_info_df = pd.read_sql_query(f\"SELECT {game_info_columns} FROM game_info\", conn)\n",
    "game_summary_df = pd.read_sql_query(f\"SELECT {game_sum_columns} FROM game_summary\", conn)\n",
    "\n",
    "team_df = pd.read_sql_query(f\"SELECT {team_columns} FROM team\", conn)\n",
    "team_details_df = pd.read_sql_query(f\"SELECT {team_details_columns} FROM team_details\", conn)\n"
   ]
  },
  {
   "cell_type": "code",
   "execution_count": 109,
   "metadata": {},
   "outputs": [
    {
     "name": "stdout",
     "output_type": "stream",
     "text": [
      "Database connection closed.\n"
     ]
    }
   ],
   "source": [
    "# Close the connection to SQLite data base\n",
    "close_connection()"
   ]
  },
  {
   "cell_type": "markdown",
   "metadata": {},
   "source": [
    "Merging data into two data frames, one for games and one for teams"
   ]
  },
  {
   "cell_type": "code",
   "execution_count": 112,
   "metadata": {},
   "outputs": [
    {
     "name": "stdout",
     "output_type": "stream",
     "text": [
      "(65698, 12)\n",
      "(58053, 3)\n",
      "(58110, 2)\n"
     ]
    }
   ],
   "source": [
    "print(game_df.shape)\n",
    "print(game_info_df.shape)\n",
    "print(game_summary_df.shape)"
   ]
  },
  {
   "cell_type": "code",
   "execution_count": 128,
   "metadata": {},
   "outputs": [
    {
     "data": {
      "text/plain": [
       "(58359, 15)"
      ]
     },
     "execution_count": 128,
     "metadata": {},
     "output_type": "execute_result"
    }
   ],
   "source": [
    "# Merge the game DataFrames on 'game_id'\n",
    "game_df = pd.merge(game_df, game_info_df, on='game_id', how='inner')\n",
    "game_df = pd.merge(game_df, game_summary_df, on='game_id', how='inner')\n",
    "game_df.shape"
   ]
  },
  {
   "cell_type": "code",
   "execution_count": 129,
   "metadata": {},
   "outputs": [
    {
     "data": {
      "text/plain": [
       "(27, 8)"
      ]
     },
     "execution_count": 129,
     "metadata": {},
     "output_type": "execute_result"
    }
   ],
   "source": [
    "# Merge the team DataFrames on 'team_id'\n",
    "team_df = pd.merge(team_df, team_details_df, on='team_id', how='inner')\n",
    "team_df.shape"
   ]
  },
  {
   "cell_type": "markdown",
   "metadata": {},
   "source": [
    "## Transforming Data"
   ]
  },
  {
   "cell_type": "code",
   "execution_count": 130,
   "metadata": {},
   "outputs": [
    {
     "name": "stdout",
     "output_type": "stream",
     "text": [
      "<class 'pandas.core.frame.DataFrame'>\n",
      "RangeIndex: 58359 entries, 0 to 58358\n",
      "Data columns (total 15 columns):\n",
      " #   Column           Non-Null Count  Dtype  \n",
      "---  ------           --------------  -----  \n",
      " 0   game_id          58359 non-null  object \n",
      " 1   team_id_home     58359 non-null  object \n",
      " 2   team_id_away     58359 non-null  object \n",
      " 3   season_id        58359 non-null  object \n",
      " 4   season_type      58359 non-null  object \n",
      " 5   wl_home          58357 non-null  object \n",
      " 6   wl_away          58357 non-null  object \n",
      " 7   pts_home         58359 non-null  float64\n",
      " 8   pts_away         58359 non-null  float64\n",
      " 9   plus_minus_home  58359 non-null  int64  \n",
      " 10  plus_minus_away  58359 non-null  int64  \n",
      " 11  min              58359 non-null  int64  \n",
      " 12  game_date        58359 non-null  object \n",
      " 13  attendance       52785 non-null  float64\n",
      " 14  season           58359 non-null  object \n",
      "dtypes: float64(3), int64(3), object(9)\n",
      "memory usage: 6.7+ MB\n"
     ]
    }
   ],
   "source": [
    "game_df.info()"
   ]
  },
  {
   "cell_type": "code",
   "execution_count": 131,
   "metadata": {},
   "outputs": [
    {
     "name": "stdout",
     "output_type": "stream",
     "text": [
      "<class 'pandas.core.frame.DataFrame'>\n",
      "RangeIndex: 27 entries, 0 to 26\n",
      "Data columns (total 8 columns):\n",
      " #   Column         Non-Null Count  Dtype  \n",
      "---  ------         --------------  -----  \n",
      " 0   team_id        27 non-null     object \n",
      " 1   full_name      27 non-null     object \n",
      " 2   abbreviation   27 non-null     object \n",
      " 3   city           27 non-null     object \n",
      " 4   state          27 non-null     object \n",
      " 5   year_founded   27 non-null     float64\n",
      " 6   arena          27 non-null     object \n",
      " 7   arenacapacity  17 non-null     float64\n",
      "dtypes: float64(2), object(6)\n",
      "memory usage: 1.8+ KB\n"
     ]
    }
   ],
   "source": [
    "team_df.info()"
   ]
  },
  {
   "cell_type": "markdown",
   "metadata": {},
   "source": [
    "### Type Conversions "
   ]
  },
  {
   "cell_type": "code",
   "execution_count": 132,
   "metadata": {},
   "outputs": [],
   "source": [
    "# game_df column conversions\n",
    "# Change columns game_id, team_id_home, team_id_away, season_id values to a numeric type\n",
    "game_df['game_id'] = pd.to_numeric(game_df['game_id'])\n",
    "game_df['team_id_home'] = pd.to_numeric(game_df['team_id_home'])\n",
    "game_df['team_id_away'] = pd.to_numeric(game_df['team_id_away'])\n",
    "game_df['season_id'] = pd.to_numeric(game_df['season_id'])\n",
    "game_df['season'] = pd.to_numeric(game_df['season'])\n",
    "# Change column game_date values to a datetime\n",
    "game_df['game_date'] = pd.to_datetime(game_df['game_date'])"
   ]
  },
  {
   "cell_type": "code",
   "execution_count": 133,
   "metadata": {},
   "outputs": [],
   "source": [
    "# Change team column team_id values to a numeric type\n",
    "team_df['team_id'] = pd.to_numeric(team_df['team_id'])\n",
    "team_df['year_founded'] = team_df['year_founded'].astype(int)"
   ]
  },
  {
   "cell_type": "markdown",
   "metadata": {},
   "source": [
    "### Imputing Data\n",
    "- Three NBA team were missing from team details table\n",
    "- Attendance numbers were missing from team details table"
   ]
  },
  {
   "cell_type": "code",
   "execution_count": 137,
   "metadata": {},
   "outputs": [
    {
     "name": "stdout",
     "output_type": "stream",
     "text": [
      "<class 'pandas.core.frame.DataFrame'>\n",
      "RangeIndex: 30 entries, 0 to 29\n",
      "Data columns (total 8 columns):\n",
      " #   Column         Non-Null Count  Dtype  \n",
      "---  ------         --------------  -----  \n",
      " 0   team_id        30 non-null     int64  \n",
      " 1   full_name      30 non-null     object \n",
      " 2   abbreviation   30 non-null     object \n",
      " 3   city           30 non-null     object \n",
      " 4   state          30 non-null     object \n",
      " 5   year_founded   30 non-null     int64  \n",
      " 6   arena          30 non-null     object \n",
      " 7   arenacapacity  20 non-null     float64\n",
      "dtypes: float64(1), int64(2), object(5)\n",
      "memory usage: 2.0+ KB\n"
     ]
    }
   ],
   "source": [
    "# Data sourced from Wikipedia \n",
    "# Create a DataFrame for the missing teams \n",
    "missing_teams = pd.DataFrame({\n",
    "    'team_id': [1610612759, 1610612764, 1610612766],\n",
    "    'full_name': ['San Antonio Spurs', 'Washington Wizards', 'Charlotte Hornets'],\n",
    "    'abbreviation': ['SAS', 'WAS', 'CHA'],\n",
    "    'city': ['San Antonio', 'Washington', 'Charlotte'],\n",
    "    'state': ['Texas', 'District of Columbia', 'North Carolina'],\n",
    "    'year_founded': [1976, 1961, 1988],\n",
    "    'arena': ['AT&T Center', 'Capital One Arena', 'Spectrum Center'],\n",
    "    'arenacapacity': [18418, 20356, 19077]\n",
    "})\n",
    "\n",
    "# Concatenate the missing teams to the team_df\n",
    "team_df = pd.concat([team_df, missing_teams], ignore_index=True)\n",
    "\n",
    "# Verify the updated DataFrame\n",
    "team_df.info()"
   ]
  },
  {
   "cell_type": "markdown",
   "metadata": {},
   "source": [
    "Arena Capacity\n",
    "Data Source: https://en.wikipedia.org/wiki/List_of_NBA_arenas"
   ]
  },
  {
   "cell_type": "code",
   "execution_count": 138,
   "metadata": {},
   "outputs": [
    {
     "name": "stdout",
     "output_type": "stream",
     "text": [
      "<class 'pandas.core.frame.DataFrame'>\n",
      "RangeIndex: 30 entries, 0 to 29\n",
      "Data columns (total 8 columns):\n",
      " #   Column         Non-Null Count  Dtype  \n",
      "---  ------         --------------  -----  \n",
      " 0   team_id        30 non-null     int64  \n",
      " 1   full_name      30 non-null     object \n",
      " 2   abbreviation   30 non-null     object \n",
      " 3   city           30 non-null     object \n",
      " 4   state          30 non-null     object \n",
      " 5   year_founded   30 non-null     int64  \n",
      " 6   arena          30 non-null     object \n",
      " 7   arenacapacity  30 non-null     float64\n",
      "dtypes: float64(1), int64(2), object(5)\n",
      "memory usage: 2.0+ KB\n"
     ]
    }
   ],
   "source": [
    "# Dictionary mapping the specific arena capacity values\n",
    "arena_capacity_updates = {\n",
    "    'Smoothie King Center': 16867,\n",
    "    'Ball Arena': 19520,\n",
    "    'Chase Center': 18064,\n",
    "    'Footprint Center': 18422,\n",
    "    'Moda Center': 19393,\n",
    "    'Paycom Center': 18203,\n",
    "    'Scotiabank Arena': 19800,\n",
    "    'Delta Center': 18300,\n",
    "    'Wells Fargo Center': 20478,\n",
    "    'Barclays Center': 17732,\n",
    "    'Amway Center': 18846,\n",
    "    'Little Caesars Arena': 20332\n",
    "}\n",
    "\n",
    "# Filling in the specific arena capacities based on the arena names\n",
    "team_df['arenacapacity'] = team_df.apply(\n",
    "    lambda row: arena_capacity_updates.get(row['arena'], row['arenacapacity']),\n",
    "    axis=1\n",
    ")\n",
    "\n",
    "# Verify the DataFrame after filling NaN values\n",
    "team_df.info()"
   ]
  },
  {
   "cell_type": "markdown",
   "metadata": {},
   "source": [
    "### Cleaning Data"
   ]
  },
  {
   "cell_type": "code",
   "execution_count": 139,
   "metadata": {},
   "outputs": [
    {
     "data": {
      "text/plain": [
       "(58359, 15)"
      ]
     },
     "execution_count": 139,
     "metadata": {},
     "output_type": "execute_result"
    }
   ],
   "source": [
    "game_df.shape"
   ]
  },
  {
   "cell_type": "markdown",
   "metadata": {},
   "source": [
    "Removing Duplicates"
   ]
  },
  {
   "cell_type": "code",
   "execution_count": 140,
   "metadata": {},
   "outputs": [
    {
     "data": {
      "text/plain": [
       "(290, 15)"
      ]
     },
     "execution_count": 140,
     "metadata": {},
     "output_type": "execute_result"
    }
   ],
   "source": [
    "duplicates = game_df[game_df.duplicated()]\n",
    "duplicates.shape"
   ]
  },
  {
   "cell_type": "code",
   "execution_count": 141,
   "metadata": {},
   "outputs": [],
   "source": [
    "game_df.drop_duplicates(inplace=True)"
   ]
  },
  {
   "cell_type": "code",
   "execution_count": 142,
   "metadata": {},
   "outputs": [
    {
     "data": {
      "text/plain": [
       "(0, 8)"
      ]
     },
     "execution_count": 142,
     "metadata": {},
     "output_type": "execute_result"
    }
   ],
   "source": [
    "duplicates = team_df[team_df.duplicated()]\n",
    "duplicates.shape"
   ]
  },
  {
   "cell_type": "markdown",
   "metadata": {},
   "source": [
    "Removing All-Star Games"
   ]
  },
  {
   "cell_type": "code",
   "execution_count": 143,
   "metadata": {},
   "outputs": [],
   "source": [
    "game_df = game_df.drop(game_df[(game_df.season_type == 'All-Star') | (game_df.season_type == 'All Star')].index)"
   ]
  },
  {
   "cell_type": "markdown",
   "metadata": {},
   "source": [
    "Dropping games without a matching team in team_df"
   ]
  },
  {
   "cell_type": "code",
   "execution_count": 144,
   "metadata": {},
   "outputs": [],
   "source": [
    "# Extracting the relevant team_id column from the team_df\n",
    "team_ids = team_df['team_id'].unique()"
   ]
  },
  {
   "cell_type": "code",
   "execution_count": 146,
   "metadata": {},
   "outputs": [],
   "source": [
    "# Filtering the game_df to drop rows where either home or away team_id is not in the team_df\n",
    "game_df = game_df[\n",
    "    (game_df['team_id_home'].isin(team_ids)) &\n",
    "    (game_df['team_id_away'].isin(team_ids))\n",
    "]"
   ]
  },
  {
   "cell_type": "markdown",
   "metadata": {},
   "source": [
    "Handling Missing Values "
   ]
  },
  {
   "cell_type": "code",
   "execution_count": 148,
   "metadata": {},
   "outputs": [],
   "source": [
    "# Dropping games with no recorded win \n",
    "game_df = game_df.drop(game_df[(game_df.wl_home.isnull())].index)"
   ]
  },
  {
   "cell_type": "code",
   "execution_count": 149,
   "metadata": {},
   "outputs": [
    {
     "data": {
      "text/plain": [
       "(56362, 15)"
      ]
     },
     "execution_count": 149,
     "metadata": {},
     "output_type": "execute_result"
    }
   ],
   "source": [
    "game_df.shape"
   ]
  },
  {
   "cell_type": "markdown",
   "metadata": {},
   "source": [
    "### Feature Engineering\n",
    "- Creating new season stats table to keep track of team performance for each season\n",
    "- Categorizing game minutes played to identify games that go into overtime\n",
    "- Categorizing games played in different months and days of the week\n",
    "- Identifying team city location coordinates "
   ]
  },
  {
   "cell_type": "markdown",
   "metadata": {},
   "source": [
    "##### Season Stats Table"
   ]
  },
  {
   "cell_type": "code",
   "execution_count": 152,
   "metadata": {},
   "outputs": [],
   "source": [
    "# Consolidate team_id_home and team_id_away columns into a single 'team_id' column\n",
    "# We will consider both home and away team IDs by stacking the data\n",
    "\n",
    "# Combine home wins/losses\n",
    "home_stats = game_df.groupby(['season_id', 'team_id_home']).agg(wins_at_home=('wl_home', lambda x: (x == 'W').sum()), \n",
    "                                                                losses_at_home=('wl_home', lambda x: (x == 'L').sum())).reset_index()\n",
    "home_stats = home_stats.rename(columns={'team_id_home': 'team_id'})\n",
    "\n",
    "\n",
    "# Combine away wins/losses\n",
    "away_stats = game_df.groupby(['season_id', 'team_id_away']).agg(away_wins=('wl_away', lambda x: (x == 'W').sum()), \n",
    "                                                                away_losses=('wl_away', lambda x: (x == 'L').sum())).reset_index()\n",
    "away_stats = away_stats.rename(columns={'team_id_away': 'team_id'})"
   ]
  },
  {
   "cell_type": "code",
   "execution_count": 153,
   "metadata": {},
   "outputs": [],
   "source": [
    "# Merge the home and away stats\n",
    "season_stats = pd.merge(home_stats, away_stats, on=['season_id', 'team_id'], how='outer')"
   ]
  },
  {
   "cell_type": "code",
   "execution_count": 154,
   "metadata": {},
   "outputs": [],
   "source": [
    "# Fill NaN values with 0\n",
    "season_stats = season_stats.fillna(0)"
   ]
  },
  {
   "cell_type": "code",
   "execution_count": 155,
   "metadata": {},
   "outputs": [],
   "source": [
    "# Calculate total wins and losses\n",
    "season_stats['season_w'] = season_stats['wins_at_home'] + season_stats['away_wins']\n",
    "season_stats['season_l'] = season_stats['losses_at_home'] + season_stats['away_losses']"
   ]
  },
  {
   "cell_type": "code",
   "execution_count": 156,
   "metadata": {},
   "outputs": [],
   "source": [
    "# Reorder columns\n",
    "season_stats = season_stats[['season_id', 'team_id', 'season_w', 'season_l', 'wins_at_home', 'losses_at_home', 'away_wins', 'away_losses']]"
   ]
  },
  {
   "cell_type": "markdown",
   "metadata": {},
   "source": [
    "Points per game"
   ]
  },
  {
   "cell_type": "code",
   "execution_count": 157,
   "metadata": {},
   "outputs": [],
   "source": [
    "# Calculate total points scored at home and away per season\n",
    "total_pts_home = game_df.groupby(['season_id', 'team_id_home'])['pts_home'].sum().reset_index()\n",
    "total_pts_away = game_df.groupby(['season_id', 'team_id_away'])['pts_away'].sum().reset_index()\n",
    "\n",
    "# Calculate the total games played at home and away per season\n",
    "total_games_home = game_df.groupby(['season_id', 'team_id_home'])['game_id'].count().reset_index()\n",
    "total_games_away = game_df.groupby(['season_id', 'team_id_away'])['game_id'].count().reset_index()"
   ]
  },
  {
   "cell_type": "code",
   "execution_count": 158,
   "metadata": {},
   "outputs": [],
   "source": [
    "# Rename Columns\n",
    "total_pts_home = total_pts_home.rename(columns={'team_id_home': 'team_id', 'pts_home': 'total_pts_at_home'})\n",
    "total_pts_away = total_pts_away.rename(columns={'team_id_away': 'team_id', 'pts_away': 'total_away_pts'})\n",
    "total_games_home = total_games_home.rename(columns={'team_id_home': 'team_id', 'game_id': 'games_at_home'})\n",
    "total_games_away = total_games_away.rename(columns={'team_id_away': 'team_id', 'game_id': 'away_games'})"
   ]
  },
  {
   "cell_type": "code",
   "execution_count": 159,
   "metadata": {},
   "outputs": [],
   "source": [
    "# Merge home and away points and games into season_stats\n",
    "season_stats = season_stats.merge(total_pts_home, on=['season_id', 'team_id'], how='left')\n",
    "season_stats = season_stats.merge(total_pts_away, on=['season_id', 'team_id'], how='left')\n",
    "season_stats = season_stats.merge(total_games_home, on=['season_id', 'team_id'], how='left')\n",
    "season_stats = season_stats.merge(total_games_away, on=['season_id', 'team_id'], how='left')"
   ]
  },
  {
   "cell_type": "code",
   "execution_count": 160,
   "metadata": {},
   "outputs": [],
   "source": [
    "# Calculate total recorded games played for each team in each season\n",
    "season_stats['games_this_season'] = season_stats['games_at_home'] + season_stats['away_games']"
   ]
  },
  {
   "cell_type": "code",
   "execution_count": 161,
   "metadata": {},
   "outputs": [],
   "source": [
    "# Fill any NaN values with 0 (in case a team has no home/away games in the dataset)\n",
    "season_stats = season_stats.fillna(0)"
   ]
  },
  {
   "cell_type": "code",
   "execution_count": 162,
   "metadata": {},
   "outputs": [],
   "source": [
    "# Calculate average points per game at home using apply\n",
    "season_stats['pts_pg_at_home'] = season_stats.apply(\n",
    "    lambda row: round(row['total_pts_at_home'] / row['games_at_home'], 1) if row['games_at_home'] != 0 else 0, axis=1)\n",
    "\n",
    "# Calculate average points per game away using apply\n",
    "season_stats['away_pts_pg'] = season_stats.apply(\n",
    "    lambda row: round(row['total_away_pts'] / row['away_games'], 1) if row['away_games'] != 0 else 0, axis=1)"
   ]
  },
  {
   "cell_type": "code",
   "execution_count": 163,
   "metadata": {},
   "outputs": [
    {
     "data": {
      "text/html": [
       "<div>\n",
       "<style scoped>\n",
       "    .dataframe tbody tr th:only-of-type {\n",
       "        vertical-align: middle;\n",
       "    }\n",
       "\n",
       "    .dataframe tbody tr th {\n",
       "        vertical-align: top;\n",
       "    }\n",
       "\n",
       "    .dataframe thead th {\n",
       "        text-align: right;\n",
       "    }\n",
       "</style>\n",
       "<table border=\"1\" class=\"dataframe\">\n",
       "  <thead>\n",
       "    <tr style=\"text-align: right;\">\n",
       "      <th></th>\n",
       "      <th>season_id</th>\n",
       "      <th>team_id</th>\n",
       "      <th>pts_pg_at_home</th>\n",
       "      <th>away_pts_pg</th>\n",
       "      <th>season_pts_pg</th>\n",
       "    </tr>\n",
       "  </thead>\n",
       "  <tbody>\n",
       "    <tr>\n",
       "      <th>0</th>\n",
       "      <td>12005</td>\n",
       "      <td>1610612737</td>\n",
       "      <td>98.5</td>\n",
       "      <td>90.3</td>\n",
       "      <td>93.6</td>\n",
       "    </tr>\n",
       "    <tr>\n",
       "      <th>1</th>\n",
       "      <td>12005</td>\n",
       "      <td>1610612738</td>\n",
       "      <td>95.0</td>\n",
       "      <td>95.5</td>\n",
       "      <td>95.2</td>\n",
       "    </tr>\n",
       "    <tr>\n",
       "      <th>2</th>\n",
       "      <td>12005</td>\n",
       "      <td>1610612739</td>\n",
       "      <td>90.3</td>\n",
       "      <td>102.8</td>\n",
       "      <td>97.4</td>\n",
       "    </tr>\n",
       "    <tr>\n",
       "      <th>3</th>\n",
       "      <td>12005</td>\n",
       "      <td>1610612740</td>\n",
       "      <td>91.5</td>\n",
       "      <td>91.0</td>\n",
       "      <td>91.2</td>\n",
       "    </tr>\n",
       "    <tr>\n",
       "      <th>4</th>\n",
       "      <td>12005</td>\n",
       "      <td>1610612741</td>\n",
       "      <td>103.7</td>\n",
       "      <td>90.7</td>\n",
       "      <td>97.2</td>\n",
       "    </tr>\n",
       "  </tbody>\n",
       "</table>\n",
       "</div>"
      ],
      "text/plain": [
       "   season_id     team_id  pts_pg_at_home  away_pts_pg  season_pts_pg\n",
       "0      12005  1610612737            98.5         90.3           93.6\n",
       "1      12005  1610612738            95.0         95.5           95.2\n",
       "2      12005  1610612739            90.3        102.8           97.4\n",
       "3      12005  1610612740            91.5         91.0           91.2\n",
       "4      12005  1610612741           103.7         90.7           97.2"
      ]
     },
     "execution_count": 163,
     "metadata": {},
     "output_type": "execute_result"
    }
   ],
   "source": [
    "# Calculate overall points per game per season\n",
    "season_stats['season_pts_pg'] = round((season_stats['total_pts_at_home'] + season_stats['total_away_pts']) / \\\n",
    "                            (season_stats['games_at_home'] + season_stats['away_games']), 1)\n",
    "\n",
    "# Display the first few rows to verify\n",
    "season_stats[['season_id', 'team_id', 'pts_pg_at_home', 'away_pts_pg', 'season_pts_pg']].head()"
   ]
  },
  {
   "cell_type": "markdown",
   "metadata": {},
   "source": [
    "Win percentage"
   ]
  },
  {
   "cell_type": "code",
   "execution_count": 164,
   "metadata": {},
   "outputs": [],
   "source": [
    "# Calculate overall winning percentage\n",
    "season_stats['season_win_pct'] = round(season_stats['season_w'] / (season_stats['season_w'] + season_stats['season_l']), 3)\n",
    "\n",
    "# Calculate home winning percentage using apply\n",
    "season_stats['season_win_pct_at_home'] = season_stats.apply(\n",
    "    lambda row: 0 if row['games_at_home'] == 0 else round(row['wins_at_home'] / (row['wins_at_home'] + row['losses_at_home']), 3), axis=1)\n",
    "\n",
    "# Calculate away winning percentage using apply\n",
    "season_stats['season_away_win_pct'] = season_stats.apply(\n",
    "    lambda row: 0 if row['away_games'] == 0 else round(row['away_wins'] / (row['away_wins'] + row['away_losses']), 3), axis=1)"
   ]
  },
  {
   "cell_type": "code",
   "execution_count": 165,
   "metadata": {},
   "outputs": [
    {
     "name": "stdout",
     "output_type": "stream",
     "text": [
      "<class 'pandas.core.frame.DataFrame'>\n",
      "RangeIndex: 2766 entries, 0 to 2765\n",
      "Data columns (total 19 columns):\n",
      " #   Column                  Non-Null Count  Dtype  \n",
      "---  ------                  --------------  -----  \n",
      " 0   season_id               2766 non-null   int64  \n",
      " 1   team_id                 2766 non-null   int64  \n",
      " 2   season_w                2766 non-null   float64\n",
      " 3   season_l                2766 non-null   float64\n",
      " 4   wins_at_home            2766 non-null   float64\n",
      " 5   losses_at_home          2766 non-null   float64\n",
      " 6   away_wins               2766 non-null   float64\n",
      " 7   away_losses             2766 non-null   float64\n",
      " 8   total_pts_at_home       2766 non-null   float64\n",
      " 9   total_away_pts          2766 non-null   float64\n",
      " 10  games_at_home           2766 non-null   float64\n",
      " 11  away_games              2766 non-null   float64\n",
      " 12  games_this_season       2766 non-null   float64\n",
      " 13  pts_pg_at_home          2766 non-null   float64\n",
      " 14  away_pts_pg             2766 non-null   float64\n",
      " 15  season_pts_pg           2766 non-null   float64\n",
      " 16  season_win_pct          2766 non-null   float64\n",
      " 17  season_win_pct_at_home  2766 non-null   float64\n",
      " 18  season_away_win_pct     2766 non-null   float64\n",
      "dtypes: float64(17), int64(2)\n",
      "memory usage: 410.7 KB\n"
     ]
    }
   ],
   "source": [
    "season_stats.info()"
   ]
  },
  {
   "cell_type": "markdown",
   "metadata": {},
   "source": [
    "Average Game Attendance"
   ]
  },
  {
   "cell_type": "code",
   "execution_count": 166,
   "metadata": {},
   "outputs": [],
   "source": [
    "# Combine home wins/losses and aggregate attendance\n",
    "average_attendance = game_df.groupby(['season_id', 'team_id_home']).agg(avg_attendance=('attendance', 'mean')).reset_index()\n",
    "average_attendance = average_attendance.rename(columns={'team_id_home': 'team_id'})\n",
    "\n",
    "# round the attendance calculation\n",
    "average_attendance['avg_attendance'] = average_attendance['avg_attendance'].round()"
   ]
  },
  {
   "cell_type": "code",
   "execution_count": 167,
   "metadata": {},
   "outputs": [
    {
     "name": "stdout",
     "output_type": "stream",
     "text": [
      "<class 'pandas.core.frame.DataFrame'>\n",
      "RangeIndex: 2746 entries, 0 to 2745\n",
      "Data columns (total 3 columns):\n",
      " #   Column          Non-Null Count  Dtype  \n",
      "---  ------          --------------  -----  \n",
      " 0   season_id       2746 non-null   int64  \n",
      " 1   team_id         2746 non-null   int64  \n",
      " 2   avg_attendance  2543 non-null   float64\n",
      "dtypes: float64(1), int64(2)\n",
      "memory usage: 64.5 KB\n"
     ]
    }
   ],
   "source": [
    "average_attendance.info()"
   ]
  },
  {
   "cell_type": "code",
   "execution_count": 169,
   "metadata": {},
   "outputs": [],
   "source": [
    "# Merge the home and away stats\n",
    "season_stats = pd.merge(season_stats, average_attendance, on=['season_id', 'team_id'], how='outer')"
   ]
  },
  {
   "cell_type": "code",
   "execution_count": 171,
   "metadata": {},
   "outputs": [
    {
     "data": {
      "text/plain": [
       "Index(['season_id', 'team_id', 'season_w', 'season_l', 'wins_at_home', 'losses_at_home', 'away_wins', 'away_losses', 'total_pts_at_home', 'total_away_pts', 'games_at_home', 'away_games', 'games_this_season', 'pts_pg_at_home', 'away_pts_pg', 'season_pts_pg', 'season_win_pct', 'season_win_pct_at_home', 'season_away_win_pct', 'avg_attendance'], dtype='object')"
      ]
     },
     "execution_count": 171,
     "metadata": {},
     "output_type": "execute_result"
    }
   ],
   "source": [
    "season_stats.columns"
   ]
  },
  {
   "cell_type": "code",
   "execution_count": 172,
   "metadata": {},
   "outputs": [],
   "source": [
    "# Reorder columns\n",
    "season_stats = season_stats[['season_id', 'team_id', 'avg_attendance',\n",
    "                             'season_w', 'season_l', 'wins_at_home', 'losses_at_home', 'away_wins', 'away_losses', \n",
    "                             'games_this_season', 'games_at_home', 'away_games', 'total_pts_at_home', 'total_away_pts',  \n",
    "                             'season_pts_pg', 'pts_pg_at_home', 'away_pts_pg',  \n",
    "                             'season_win_pct', 'season_win_pct_at_home', 'season_away_win_pct']]"
   ]
  },
  {
   "cell_type": "code",
   "execution_count": 173,
   "metadata": {},
   "outputs": [
    {
     "data": {
      "text/plain": [
       "(2766, 20)"
      ]
     },
     "execution_count": 173,
     "metadata": {},
     "output_type": "execute_result"
    }
   ],
   "source": [
    "season_stats.shape"
   ]
  },
  {
   "cell_type": "markdown",
   "metadata": {},
   "source": [
    "##### Game Duration"
   ]
  },
  {
   "cell_type": "code",
   "execution_count": 174,
   "metadata": {},
   "outputs": [],
   "source": [
    "# Apply the function to create the new column\n",
    "game_df['game_duration'] = game_df['min'].apply(game_duration)"
   ]
  },
  {
   "cell_type": "code",
   "execution_count": 175,
   "metadata": {},
   "outputs": [
    {
     "data": {
      "text/plain": [
       "game_duration\n",
       "Regulation        53344\n",
       "Overtime           2591\n",
       "Extra Overtime      425\n",
       "Ended Early           2\n",
       "Name: count, dtype: int64"
      ]
     },
     "execution_count": 175,
     "metadata": {},
     "output_type": "execute_result"
    }
   ],
   "source": [
    "game_df['game_duration'].value_counts()"
   ]
  },
  {
   "cell_type": "markdown",
   "metadata": {},
   "source": [
    "##### Game Day Details"
   ]
  },
  {
   "cell_type": "code",
   "execution_count": 176,
   "metadata": {},
   "outputs": [
    {
     "name": "stdout",
     "output_type": "stream",
     "text": [
      "<class 'pandas.core.frame.DataFrame'>\n",
      "Index: 56362 entries, 41 to 58350\n",
      "Data columns (total 18 columns):\n",
      " #   Column           Non-Null Count  Dtype         \n",
      "---  ------           --------------  -----         \n",
      " 0   game_id          56362 non-null  int64         \n",
      " 1   team_id_home     56362 non-null  int64         \n",
      " 2   team_id_away     56362 non-null  int64         \n",
      " 3   season_id        56362 non-null  int64         \n",
      " 4   season_type      56362 non-null  object        \n",
      " 5   wl_home          56362 non-null  object        \n",
      " 6   wl_away          56362 non-null  object        \n",
      " 7   pts_home         56362 non-null  float64       \n",
      " 8   pts_away         56362 non-null  float64       \n",
      " 9   plus_minus_home  56362 non-null  int64         \n",
      " 10  plus_minus_away  56362 non-null  int64         \n",
      " 11  min              56362 non-null  int64         \n",
      " 12  game_date        56362 non-null  datetime64[ns]\n",
      " 13  attendance       52539 non-null  float64       \n",
      " 14  season           56362 non-null  int64         \n",
      " 15  game_duration    56362 non-null  object        \n",
      " 16  day_of_week      56362 non-null  object        \n",
      " 17  month            56362 non-null  int32         \n",
      "dtypes: datetime64[ns](1), float64(3), int32(1), int64(8), object(5)\n",
      "memory usage: 8.0+ MB\n"
     ]
    }
   ],
   "source": [
    "# Adding new columns to game_df\n",
    "game_df['day_of_week'] = pd.to_datetime(game_df['game_date']).dt.day_name()\n",
    "game_df['month'] = pd.to_datetime(game_df['game_date']).dt.month\n",
    "# Verify changes \n",
    "game_df.info()"
   ]
  },
  {
   "cell_type": "markdown",
   "metadata": {},
   "source": [
    "##### Location Info"
   ]
  },
  {
   "cell_type": "code",
   "execution_count": 177,
   "metadata": {},
   "outputs": [],
   "source": [
    "# Initialize the geolocator\n",
    "geolocator = Nominatim(user_agent=\"team_geocoder\")\n"
   ]
  },
  {
   "cell_type": "code",
   "execution_count": 178,
   "metadata": {},
   "outputs": [
    {
     "data": {
      "text/html": [
       "<div>\n",
       "<style scoped>\n",
       "    .dataframe tbody tr th:only-of-type {\n",
       "        vertical-align: middle;\n",
       "    }\n",
       "\n",
       "    .dataframe tbody tr th {\n",
       "        vertical-align: top;\n",
       "    }\n",
       "\n",
       "    .dataframe thead th {\n",
       "        text-align: right;\n",
       "    }\n",
       "</style>\n",
       "<table border=\"1\" class=\"dataframe\">\n",
       "  <thead>\n",
       "    <tr style=\"text-align: right;\">\n",
       "      <th></th>\n",
       "      <th>team_id</th>\n",
       "      <th>full_name</th>\n",
       "      <th>abbreviation</th>\n",
       "      <th>city</th>\n",
       "      <th>state</th>\n",
       "      <th>year_founded</th>\n",
       "      <th>arena</th>\n",
       "      <th>arenacapacity</th>\n",
       "      <th>latitude</th>\n",
       "      <th>longitude</th>\n",
       "    </tr>\n",
       "  </thead>\n",
       "  <tbody>\n",
       "    <tr>\n",
       "      <th>0</th>\n",
       "      <td>1610612737</td>\n",
       "      <td>Atlanta Hawks</td>\n",
       "      <td>ATL</td>\n",
       "      <td>Atlanta</td>\n",
       "      <td>Georgia</td>\n",
       "      <td>1949</td>\n",
       "      <td>State Farm Arena</td>\n",
       "      <td>18729.0</td>\n",
       "      <td>33.748992</td>\n",
       "      <td>-84.390264</td>\n",
       "    </tr>\n",
       "    <tr>\n",
       "      <th>1</th>\n",
       "      <td>1610612738</td>\n",
       "      <td>Boston Celtics</td>\n",
       "      <td>BOS</td>\n",
       "      <td>Boston</td>\n",
       "      <td>Massachusetts</td>\n",
       "      <td>1946</td>\n",
       "      <td>TD Garden</td>\n",
       "      <td>18624.0</td>\n",
       "      <td>42.355433</td>\n",
       "      <td>-71.060511</td>\n",
       "    </tr>\n",
       "    <tr>\n",
       "      <th>2</th>\n",
       "      <td>1610612739</td>\n",
       "      <td>Cleveland Cavaliers</td>\n",
       "      <td>CLE</td>\n",
       "      <td>Cleveland</td>\n",
       "      <td>Ohio</td>\n",
       "      <td>1970</td>\n",
       "      <td>Rocket Mortgage FieldHouse</td>\n",
       "      <td>20562.0</td>\n",
       "      <td>41.499657</td>\n",
       "      <td>-81.693677</td>\n",
       "    </tr>\n",
       "    <tr>\n",
       "      <th>3</th>\n",
       "      <td>1610612740</td>\n",
       "      <td>New Orleans Pelicans</td>\n",
       "      <td>NOP</td>\n",
       "      <td>New Orleans</td>\n",
       "      <td>Louisiana</td>\n",
       "      <td>2002</td>\n",
       "      <td>Smoothie King Center</td>\n",
       "      <td>16867.0</td>\n",
       "      <td>29.975998</td>\n",
       "      <td>-90.078213</td>\n",
       "    </tr>\n",
       "    <tr>\n",
       "      <th>4</th>\n",
       "      <td>1610612741</td>\n",
       "      <td>Chicago Bulls</td>\n",
       "      <td>CHI</td>\n",
       "      <td>Chicago</td>\n",
       "      <td>Illinois</td>\n",
       "      <td>1966</td>\n",
       "      <td>United Center</td>\n",
       "      <td>21711.0</td>\n",
       "      <td>41.875562</td>\n",
       "      <td>-87.624421</td>\n",
       "    </tr>\n",
       "    <tr>\n",
       "      <th>5</th>\n",
       "      <td>1610612742</td>\n",
       "      <td>Dallas Mavericks</td>\n",
       "      <td>DAL</td>\n",
       "      <td>Dallas</td>\n",
       "      <td>Texas</td>\n",
       "      <td>1980</td>\n",
       "      <td>American Airlines Center</td>\n",
       "      <td>19200.0</td>\n",
       "      <td>32.776272</td>\n",
       "      <td>-96.796856</td>\n",
       "    </tr>\n",
       "    <tr>\n",
       "      <th>6</th>\n",
       "      <td>1610612743</td>\n",
       "      <td>Denver Nuggets</td>\n",
       "      <td>DEN</td>\n",
       "      <td>Denver</td>\n",
       "      <td>Colorado</td>\n",
       "      <td>1976</td>\n",
       "      <td>Ball Arena</td>\n",
       "      <td>19520.0</td>\n",
       "      <td>39.739236</td>\n",
       "      <td>-104.984862</td>\n",
       "    </tr>\n",
       "    <tr>\n",
       "      <th>7</th>\n",
       "      <td>1610612744</td>\n",
       "      <td>Golden State Warriors</td>\n",
       "      <td>GSW</td>\n",
       "      <td>Golden State</td>\n",
       "      <td>California</td>\n",
       "      <td>1946</td>\n",
       "      <td>Chase Center</td>\n",
       "      <td>18064.0</td>\n",
       "      <td>16.803337</td>\n",
       "      <td>96.178660</td>\n",
       "    </tr>\n",
       "    <tr>\n",
       "      <th>8</th>\n",
       "      <td>1610612745</td>\n",
       "      <td>Houston Rockets</td>\n",
       "      <td>HOU</td>\n",
       "      <td>Houston</td>\n",
       "      <td>Texas</td>\n",
       "      <td>1967</td>\n",
       "      <td>Toyota Center</td>\n",
       "      <td>18104.0</td>\n",
       "      <td>29.758938</td>\n",
       "      <td>-95.367697</td>\n",
       "    </tr>\n",
       "    <tr>\n",
       "      <th>9</th>\n",
       "      <td>1610612746</td>\n",
       "      <td>Los Angeles Clippers</td>\n",
       "      <td>LAC</td>\n",
       "      <td>Los Angeles</td>\n",
       "      <td>California</td>\n",
       "      <td>1970</td>\n",
       "      <td>Crypto.com Arena</td>\n",
       "      <td>19060.0</td>\n",
       "      <td>34.053691</td>\n",
       "      <td>-118.242766</td>\n",
       "    </tr>\n",
       "    <tr>\n",
       "      <th>10</th>\n",
       "      <td>1610612747</td>\n",
       "      <td>Los Angeles Lakers</td>\n",
       "      <td>LAL</td>\n",
       "      <td>Los Angeles</td>\n",
       "      <td>California</td>\n",
       "      <td>1948</td>\n",
       "      <td>Crypto.com Arena</td>\n",
       "      <td>19060.0</td>\n",
       "      <td>34.053691</td>\n",
       "      <td>-118.242766</td>\n",
       "    </tr>\n",
       "    <tr>\n",
       "      <th>11</th>\n",
       "      <td>1610612748</td>\n",
       "      <td>Miami Heat</td>\n",
       "      <td>MIA</td>\n",
       "      <td>Miami</td>\n",
       "      <td>Florida</td>\n",
       "      <td>1988</td>\n",
       "      <td>Kaseya Center</td>\n",
       "      <td>19600.0</td>\n",
       "      <td>25.774173</td>\n",
       "      <td>-80.193620</td>\n",
       "    </tr>\n",
       "    <tr>\n",
       "      <th>12</th>\n",
       "      <td>1610612749</td>\n",
       "      <td>Milwaukee Bucks</td>\n",
       "      <td>MIL</td>\n",
       "      <td>Milwaukee</td>\n",
       "      <td>Wisconsin</td>\n",
       "      <td>1968</td>\n",
       "      <td>Fiserv Forum</td>\n",
       "      <td>17500.0</td>\n",
       "      <td>43.038648</td>\n",
       "      <td>-87.909075</td>\n",
       "    </tr>\n",
       "    <tr>\n",
       "      <th>13</th>\n",
       "      <td>1610612750</td>\n",
       "      <td>Minnesota Timberwolves</td>\n",
       "      <td>MIN</td>\n",
       "      <td>Minnesota</td>\n",
       "      <td>Minnesota</td>\n",
       "      <td>1989</td>\n",
       "      <td>Target Center</td>\n",
       "      <td>19356.0</td>\n",
       "      <td>45.989659</td>\n",
       "      <td>-94.611329</td>\n",
       "    </tr>\n",
       "    <tr>\n",
       "      <th>14</th>\n",
       "      <td>1610612751</td>\n",
       "      <td>Brooklyn Nets</td>\n",
       "      <td>BKN</td>\n",
       "      <td>Brooklyn</td>\n",
       "      <td>New York</td>\n",
       "      <td>1976</td>\n",
       "      <td>Barclays Center</td>\n",
       "      <td>17732.0</td>\n",
       "      <td>40.652601</td>\n",
       "      <td>-73.949721</td>\n",
       "    </tr>\n",
       "    <tr>\n",
       "      <th>15</th>\n",
       "      <td>1610612752</td>\n",
       "      <td>New York Knicks</td>\n",
       "      <td>NYK</td>\n",
       "      <td>New York</td>\n",
       "      <td>New York</td>\n",
       "      <td>1946</td>\n",
       "      <td>Madison Square Garden</td>\n",
       "      <td>19763.0</td>\n",
       "      <td>40.712728</td>\n",
       "      <td>-74.006015</td>\n",
       "    </tr>\n",
       "    <tr>\n",
       "      <th>16</th>\n",
       "      <td>1610612753</td>\n",
       "      <td>Orlando Magic</td>\n",
       "      <td>ORL</td>\n",
       "      <td>Orlando</td>\n",
       "      <td>Florida</td>\n",
       "      <td>1989</td>\n",
       "      <td>Amway Center</td>\n",
       "      <td>18846.0</td>\n",
       "      <td>28.542111</td>\n",
       "      <td>-81.379030</td>\n",
       "    </tr>\n",
       "    <tr>\n",
       "      <th>17</th>\n",
       "      <td>1610612754</td>\n",
       "      <td>Indiana Pacers</td>\n",
       "      <td>IND</td>\n",
       "      <td>Indiana</td>\n",
       "      <td>Indiana</td>\n",
       "      <td>1976</td>\n",
       "      <td>Gainbridge Fieldhouse</td>\n",
       "      <td>18345.0</td>\n",
       "      <td>40.327013</td>\n",
       "      <td>-86.174693</td>\n",
       "    </tr>\n",
       "    <tr>\n",
       "      <th>18</th>\n",
       "      <td>1610612755</td>\n",
       "      <td>Philadelphia 76ers</td>\n",
       "      <td>PHI</td>\n",
       "      <td>Philadelphia</td>\n",
       "      <td>Pennsylvania</td>\n",
       "      <td>1949</td>\n",
       "      <td>Wells Fargo Center</td>\n",
       "      <td>20478.0</td>\n",
       "      <td>39.952724</td>\n",
       "      <td>-75.163526</td>\n",
       "    </tr>\n",
       "    <tr>\n",
       "      <th>19</th>\n",
       "      <td>1610612756</td>\n",
       "      <td>Phoenix Suns</td>\n",
       "      <td>PHX</td>\n",
       "      <td>Phoenix</td>\n",
       "      <td>Arizona</td>\n",
       "      <td>1968</td>\n",
       "      <td>Footprint Center</td>\n",
       "      <td>18422.0</td>\n",
       "      <td>33.448437</td>\n",
       "      <td>-112.074141</td>\n",
       "    </tr>\n",
       "    <tr>\n",
       "      <th>20</th>\n",
       "      <td>1610612757</td>\n",
       "      <td>Portland Trail Blazers</td>\n",
       "      <td>POR</td>\n",
       "      <td>Portland</td>\n",
       "      <td>Oregon</td>\n",
       "      <td>1970</td>\n",
       "      <td>Moda Center</td>\n",
       "      <td>19393.0</td>\n",
       "      <td>45.520247</td>\n",
       "      <td>-122.674194</td>\n",
       "    </tr>\n",
       "    <tr>\n",
       "      <th>21</th>\n",
       "      <td>1610612758</td>\n",
       "      <td>Sacramento Kings</td>\n",
       "      <td>SAC</td>\n",
       "      <td>Sacramento</td>\n",
       "      <td>California</td>\n",
       "      <td>1948</td>\n",
       "      <td>Golden 1 Center</td>\n",
       "      <td>17500.0</td>\n",
       "      <td>38.581061</td>\n",
       "      <td>-121.493895</td>\n",
       "    </tr>\n",
       "    <tr>\n",
       "      <th>22</th>\n",
       "      <td>1610612760</td>\n",
       "      <td>Oklahoma City Thunder</td>\n",
       "      <td>OKC</td>\n",
       "      <td>Oklahoma City</td>\n",
       "      <td>Oklahoma</td>\n",
       "      <td>1967</td>\n",
       "      <td>Paycom Center</td>\n",
       "      <td>18203.0</td>\n",
       "      <td>35.472989</td>\n",
       "      <td>-97.517054</td>\n",
       "    </tr>\n",
       "    <tr>\n",
       "      <th>23</th>\n",
       "      <td>1610612761</td>\n",
       "      <td>Toronto Raptors</td>\n",
       "      <td>TOR</td>\n",
       "      <td>Toronto</td>\n",
       "      <td>Ontario</td>\n",
       "      <td>1995</td>\n",
       "      <td>Scotiabank Arena</td>\n",
       "      <td>19800.0</td>\n",
       "      <td>43.653482</td>\n",
       "      <td>-79.383935</td>\n",
       "    </tr>\n",
       "    <tr>\n",
       "      <th>24</th>\n",
       "      <td>1610612762</td>\n",
       "      <td>Utah Jazz</td>\n",
       "      <td>UTA</td>\n",
       "      <td>Utah</td>\n",
       "      <td>Utah</td>\n",
       "      <td>1974</td>\n",
       "      <td>Delta Center</td>\n",
       "      <td>18300.0</td>\n",
       "      <td>39.422519</td>\n",
       "      <td>-111.714358</td>\n",
       "    </tr>\n",
       "    <tr>\n",
       "      <th>25</th>\n",
       "      <td>1610612763</td>\n",
       "      <td>Memphis Grizzlies</td>\n",
       "      <td>MEM</td>\n",
       "      <td>Memphis</td>\n",
       "      <td>Tennessee</td>\n",
       "      <td>1995</td>\n",
       "      <td>FedExForum</td>\n",
       "      <td>18119.0</td>\n",
       "      <td>35.146025</td>\n",
       "      <td>-90.051764</td>\n",
       "    </tr>\n",
       "    <tr>\n",
       "      <th>26</th>\n",
       "      <td>1610612765</td>\n",
       "      <td>Detroit Pistons</td>\n",
       "      <td>DET</td>\n",
       "      <td>Detroit</td>\n",
       "      <td>Michigan</td>\n",
       "      <td>1948</td>\n",
       "      <td>Little Caesars Arena</td>\n",
       "      <td>20332.0</td>\n",
       "      <td>42.331551</td>\n",
       "      <td>-83.046640</td>\n",
       "    </tr>\n",
       "    <tr>\n",
       "      <th>27</th>\n",
       "      <td>1610612759</td>\n",
       "      <td>San Antonio Spurs</td>\n",
       "      <td>SAS</td>\n",
       "      <td>San Antonio</td>\n",
       "      <td>Texas</td>\n",
       "      <td>1976</td>\n",
       "      <td>AT&amp;T Center</td>\n",
       "      <td>18418.0</td>\n",
       "      <td>29.424600</td>\n",
       "      <td>-98.495141</td>\n",
       "    </tr>\n",
       "    <tr>\n",
       "      <th>28</th>\n",
       "      <td>1610612764</td>\n",
       "      <td>Washington Wizards</td>\n",
       "      <td>WAS</td>\n",
       "      <td>Washington</td>\n",
       "      <td>District of Columbia</td>\n",
       "      <td>1961</td>\n",
       "      <td>Capital One Arena</td>\n",
       "      <td>20356.0</td>\n",
       "      <td>47.286835</td>\n",
       "      <td>-120.212613</td>\n",
       "    </tr>\n",
       "    <tr>\n",
       "      <th>29</th>\n",
       "      <td>1610612766</td>\n",
       "      <td>Charlotte Hornets</td>\n",
       "      <td>CHA</td>\n",
       "      <td>Charlotte</td>\n",
       "      <td>North Carolina</td>\n",
       "      <td>1988</td>\n",
       "      <td>Spectrum Center</td>\n",
       "      <td>19077.0</td>\n",
       "      <td>35.227209</td>\n",
       "      <td>-80.843083</td>\n",
       "    </tr>\n",
       "  </tbody>\n",
       "</table>\n",
       "</div>"
      ],
      "text/plain": [
       "       team_id               full_name abbreviation           city                 state  year_founded                       arena  arenacapacity   latitude   longitude\n",
       "0   1610612737           Atlanta Hawks          ATL        Atlanta               Georgia          1949            State Farm Arena        18729.0  33.748992  -84.390264\n",
       "1   1610612738          Boston Celtics          BOS         Boston         Massachusetts          1946                   TD Garden        18624.0  42.355433  -71.060511\n",
       "2   1610612739     Cleveland Cavaliers          CLE      Cleveland                  Ohio          1970  Rocket Mortgage FieldHouse        20562.0  41.499657  -81.693677\n",
       "3   1610612740    New Orleans Pelicans          NOP    New Orleans             Louisiana          2002        Smoothie King Center        16867.0  29.975998  -90.078213\n",
       "4   1610612741           Chicago Bulls          CHI        Chicago              Illinois          1966               United Center        21711.0  41.875562  -87.624421\n",
       "5   1610612742        Dallas Mavericks          DAL         Dallas                 Texas          1980    American Airlines Center        19200.0  32.776272  -96.796856\n",
       "6   1610612743          Denver Nuggets          DEN         Denver              Colorado          1976                  Ball Arena        19520.0  39.739236 -104.984862\n",
       "7   1610612744   Golden State Warriors          GSW   Golden State            California          1946                Chase Center        18064.0  16.803337   96.178660\n",
       "8   1610612745         Houston Rockets          HOU        Houston                 Texas          1967               Toyota Center        18104.0  29.758938  -95.367697\n",
       "9   1610612746    Los Angeles Clippers          LAC    Los Angeles            California          1970            Crypto.com Arena        19060.0  34.053691 -118.242766\n",
       "10  1610612747      Los Angeles Lakers          LAL    Los Angeles            California          1948            Crypto.com Arena        19060.0  34.053691 -118.242766\n",
       "11  1610612748              Miami Heat          MIA          Miami               Florida          1988               Kaseya Center        19600.0  25.774173  -80.193620\n",
       "12  1610612749         Milwaukee Bucks          MIL      Milwaukee             Wisconsin          1968                Fiserv Forum        17500.0  43.038648  -87.909075\n",
       "13  1610612750  Minnesota Timberwolves          MIN      Minnesota             Minnesota          1989               Target Center        19356.0  45.989659  -94.611329\n",
       "14  1610612751           Brooklyn Nets          BKN       Brooklyn              New York          1976             Barclays Center        17732.0  40.652601  -73.949721\n",
       "15  1610612752         New York Knicks          NYK       New York              New York          1946       Madison Square Garden        19763.0  40.712728  -74.006015\n",
       "16  1610612753           Orlando Magic          ORL        Orlando               Florida          1989                Amway Center        18846.0  28.542111  -81.379030\n",
       "17  1610612754          Indiana Pacers          IND        Indiana               Indiana          1976      Gainbridge Fieldhouse         18345.0  40.327013  -86.174693\n",
       "18  1610612755      Philadelphia 76ers          PHI   Philadelphia          Pennsylvania          1949          Wells Fargo Center        20478.0  39.952724  -75.163526\n",
       "19  1610612756            Phoenix Suns          PHX        Phoenix               Arizona          1968            Footprint Center        18422.0  33.448437 -112.074141\n",
       "20  1610612757  Portland Trail Blazers          POR       Portland                Oregon          1970                 Moda Center        19393.0  45.520247 -122.674194\n",
       "21  1610612758        Sacramento Kings          SAC     Sacramento            California          1948             Golden 1 Center        17500.0  38.581061 -121.493895\n",
       "22  1610612760   Oklahoma City Thunder          OKC  Oklahoma City              Oklahoma          1967               Paycom Center        18203.0  35.472989  -97.517054\n",
       "23  1610612761         Toronto Raptors          TOR        Toronto               Ontario          1995            Scotiabank Arena        19800.0  43.653482  -79.383935\n",
       "24  1610612762               Utah Jazz          UTA           Utah                  Utah          1974                Delta Center        18300.0  39.422519 -111.714358\n",
       "25  1610612763       Memphis Grizzlies          MEM        Memphis             Tennessee          1995                  FedExForum        18119.0  35.146025  -90.051764\n",
       "26  1610612765         Detroit Pistons          DET        Detroit              Michigan          1948        Little Caesars Arena        20332.0  42.331551  -83.046640\n",
       "27  1610612759       San Antonio Spurs          SAS    San Antonio                 Texas          1976                 AT&T Center        18418.0  29.424600  -98.495141\n",
       "28  1610612764      Washington Wizards          WAS     Washington  District of Columbia          1961           Capital One Arena        20356.0  47.286835 -120.212613\n",
       "29  1610612766       Charlotte Hornets          CHA      Charlotte        North Carolina          1988             Spectrum Center        19077.0  35.227209  -80.843083"
      ]
     },
     "execution_count": 178,
     "metadata": {},
     "output_type": "execute_result"
    }
   ],
   "source": [
    "# Apply the function to get coordinates for each city\n",
    "team_df['latitude'], team_df['longitude'] = zip(*team_df['city'].apply(get_coordinates))\n",
    "# Verify the DataFrame\n",
    "team_df"
   ]
  },
  {
   "cell_type": "code",
   "execution_count": 179,
   "metadata": {},
   "outputs": [
    {
     "data": {
      "text/html": [
       "<div>\n",
       "<style scoped>\n",
       "    .dataframe tbody tr th:only-of-type {\n",
       "        vertical-align: middle;\n",
       "    }\n",
       "\n",
       "    .dataframe tbody tr th {\n",
       "        vertical-align: top;\n",
       "    }\n",
       "\n",
       "    .dataframe thead th {\n",
       "        text-align: right;\n",
       "    }\n",
       "</style>\n",
       "<table border=\"1\" class=\"dataframe\">\n",
       "  <thead>\n",
       "    <tr style=\"text-align: right;\">\n",
       "      <th></th>\n",
       "      <th>team_id</th>\n",
       "      <th>latitude</th>\n",
       "      <th>longitude</th>\n",
       "    </tr>\n",
       "  </thead>\n",
       "  <tbody>\n",
       "    <tr>\n",
       "      <th>0</th>\n",
       "      <td>1610612737</td>\n",
       "      <td>33.748992</td>\n",
       "      <td>-84.390264</td>\n",
       "    </tr>\n",
       "    <tr>\n",
       "      <th>1</th>\n",
       "      <td>1610612738</td>\n",
       "      <td>42.355433</td>\n",
       "      <td>-71.060511</td>\n",
       "    </tr>\n",
       "    <tr>\n",
       "      <th>2</th>\n",
       "      <td>1610612739</td>\n",
       "      <td>41.499657</td>\n",
       "      <td>-81.693677</td>\n",
       "    </tr>\n",
       "    <tr>\n",
       "      <th>3</th>\n",
       "      <td>1610612740</td>\n",
       "      <td>29.975998</td>\n",
       "      <td>-90.078213</td>\n",
       "    </tr>\n",
       "    <tr>\n",
       "      <th>4</th>\n",
       "      <td>1610612741</td>\n",
       "      <td>41.875562</td>\n",
       "      <td>-87.624421</td>\n",
       "    </tr>\n",
       "  </tbody>\n",
       "</table>\n",
       "</div>"
      ],
      "text/plain": [
       "      team_id   latitude  longitude\n",
       "0  1610612737  33.748992 -84.390264\n",
       "1  1610612738  42.355433 -71.060511\n",
       "2  1610612739  41.499657 -81.693677\n",
       "3  1610612740  29.975998 -90.078213\n",
       "4  1610612741  41.875562 -87.624421"
      ]
     },
     "execution_count": 179,
     "metadata": {},
     "output_type": "execute_result"
    }
   ],
   "source": [
    "team_location_df = team_df[['team_id', 'latitude', 'longitude']]\n",
    "team_location_df.head()"
   ]
  },
  {
   "cell_type": "markdown",
   "metadata": {},
   "source": [
    "### Exporting Transformed Data (Optional)"
   ]
  },
  {
   "cell_type": "code",
   "execution_count": 180,
   "metadata": {},
   "outputs": [],
   "source": [
    "# # Export team location info \n",
    "# team_location_df.to_csv('data/team_location.csv', index=False)\n",
    "# # Export transformed team and game data \n",
    "# game_df.to_csv('data/games.csv', index=False)\n",
    "# team_df.to_csv('data/teams.csv', index=False)\n",
    "# # Export new season stats data\n",
    "# season_stats.to_csv('data/season_stats.csv', index=False)"
   ]
  },
  {
   "cell_type": "markdown",
   "metadata": {},
   "source": [
    "## Merging Data\n"
   ]
  },
  {
   "cell_type": "code",
   "execution_count": 182,
   "metadata": {},
   "outputs": [
    {
     "data": {
      "text/html": [
       "<div>\n",
       "<style scoped>\n",
       "    .dataframe tbody tr th:only-of-type {\n",
       "        vertical-align: middle;\n",
       "    }\n",
       "\n",
       "    .dataframe tbody tr th {\n",
       "        vertical-align: top;\n",
       "    }\n",
       "\n",
       "    .dataframe thead th {\n",
       "        text-align: right;\n",
       "    }\n",
       "</style>\n",
       "<table border=\"1\" class=\"dataframe\">\n",
       "  <thead>\n",
       "    <tr style=\"text-align: right;\">\n",
       "      <th></th>\n",
       "      <th>game_id</th>\n",
       "      <th>team_id_home</th>\n",
       "      <th>team_id_away</th>\n",
       "      <th>season_id</th>\n",
       "      <th>season_type</th>\n",
       "      <th>wl_home</th>\n",
       "      <th>wl_away</th>\n",
       "      <th>pts_home</th>\n",
       "      <th>pts_away</th>\n",
       "      <th>plus_minus_home</th>\n",
       "      <th>plus_minus_away</th>\n",
       "      <th>min</th>\n",
       "      <th>game_date</th>\n",
       "      <th>attendance</th>\n",
       "      <th>season</th>\n",
       "      <th>game_duration</th>\n",
       "      <th>day_of_week</th>\n",
       "      <th>month</th>\n",
       "      <th>full_name_home_team</th>\n",
       "      <th>abbreviation_home_team</th>\n",
       "      <th>city_home_team</th>\n",
       "      <th>state_home_team</th>\n",
       "      <th>year_founded_home_team</th>\n",
       "      <th>arena_home_team</th>\n",
       "      <th>arenacapacity_home_team</th>\n",
       "      <th>latitude_home_team</th>\n",
       "      <th>longitude_home_team</th>\n",
       "      <th>full_name_away_team</th>\n",
       "      <th>abbreviation_away_team</th>\n",
       "      <th>city_away_team</th>\n",
       "      <th>state_away_team</th>\n",
       "      <th>year_founded_away_team</th>\n",
       "      <th>arena_away_team</th>\n",
       "      <th>arenacapacity_away_team</th>\n",
       "      <th>latitude_away_team</th>\n",
       "      <th>longitude_away_team</th>\n",
       "    </tr>\n",
       "  </thead>\n",
       "  <tbody>\n",
       "    <tr>\n",
       "      <th>0</th>\n",
       "      <td>24600052</td>\n",
       "      <td>1610612744</td>\n",
       "      <td>1610612738</td>\n",
       "      <td>21946</td>\n",
       "      <td>Regular Season</td>\n",
       "      <td>W</td>\n",
       "      <td>L</td>\n",
       "      <td>66.0</td>\n",
       "      <td>54.0</td>\n",
       "      <td>12</td>\n",
       "      <td>-12</td>\n",
       "      <td>0</td>\n",
       "      <td>1946-11-26</td>\n",
       "      <td>NaN</td>\n",
       "      <td>1946</td>\n",
       "      <td>Regulation</td>\n",
       "      <td>Tuesday</td>\n",
       "      <td>11</td>\n",
       "      <td>Golden State Warriors</td>\n",
       "      <td>GSW</td>\n",
       "      <td>Golden State</td>\n",
       "      <td>California</td>\n",
       "      <td>1946</td>\n",
       "      <td>Chase Center</td>\n",
       "      <td>18064.0</td>\n",
       "      <td>16.803337</td>\n",
       "      <td>96.178660</td>\n",
       "      <td>Boston Celtics</td>\n",
       "      <td>BOS</td>\n",
       "      <td>Boston</td>\n",
       "      <td>Massachusetts</td>\n",
       "      <td>1946</td>\n",
       "      <td>TD Garden</td>\n",
       "      <td>18624.0</td>\n",
       "      <td>42.355433</td>\n",
       "      <td>-71.060511</td>\n",
       "    </tr>\n",
       "    <tr>\n",
       "      <th>1</th>\n",
       "      <td>24600063</td>\n",
       "      <td>1610612752</td>\n",
       "      <td>1610612744</td>\n",
       "      <td>21946</td>\n",
       "      <td>Regular Season</td>\n",
       "      <td>W</td>\n",
       "      <td>L</td>\n",
       "      <td>64.0</td>\n",
       "      <td>60.0</td>\n",
       "      <td>4</td>\n",
       "      <td>-4</td>\n",
       "      <td>0</td>\n",
       "      <td>1946-11-30</td>\n",
       "      <td>NaN</td>\n",
       "      <td>1946</td>\n",
       "      <td>Regulation</td>\n",
       "      <td>Saturday</td>\n",
       "      <td>11</td>\n",
       "      <td>New York Knicks</td>\n",
       "      <td>NYK</td>\n",
       "      <td>New York</td>\n",
       "      <td>New York</td>\n",
       "      <td>1946</td>\n",
       "      <td>Madison Square Garden</td>\n",
       "      <td>19763.0</td>\n",
       "      <td>40.712728</td>\n",
       "      <td>-74.006015</td>\n",
       "      <td>Golden State Warriors</td>\n",
       "      <td>GSW</td>\n",
       "      <td>Golden State</td>\n",
       "      <td>California</td>\n",
       "      <td>1946</td>\n",
       "      <td>Chase Center</td>\n",
       "      <td>18064.0</td>\n",
       "      <td>16.803337</td>\n",
       "      <td>96.178660</td>\n",
       "    </tr>\n",
       "    <tr>\n",
       "      <th>2</th>\n",
       "      <td>24600083</td>\n",
       "      <td>1610612752</td>\n",
       "      <td>1610612738</td>\n",
       "      <td>21946</td>\n",
       "      <td>Regular Season</td>\n",
       "      <td>W</td>\n",
       "      <td>L</td>\n",
       "      <td>62.0</td>\n",
       "      <td>44.0</td>\n",
       "      <td>18</td>\n",
       "      <td>-18</td>\n",
       "      <td>0</td>\n",
       "      <td>1946-12-08</td>\n",
       "      <td>NaN</td>\n",
       "      <td>1946</td>\n",
       "      <td>Regulation</td>\n",
       "      <td>Sunday</td>\n",
       "      <td>12</td>\n",
       "      <td>New York Knicks</td>\n",
       "      <td>NYK</td>\n",
       "      <td>New York</td>\n",
       "      <td>New York</td>\n",
       "      <td>1946</td>\n",
       "      <td>Madison Square Garden</td>\n",
       "      <td>19763.0</td>\n",
       "      <td>40.712728</td>\n",
       "      <td>-74.006015</td>\n",
       "      <td>Boston Celtics</td>\n",
       "      <td>BOS</td>\n",
       "      <td>Boston</td>\n",
       "      <td>Massachusetts</td>\n",
       "      <td>1946</td>\n",
       "      <td>TD Garden</td>\n",
       "      <td>18624.0</td>\n",
       "      <td>42.355433</td>\n",
       "      <td>-71.060511</td>\n",
       "    </tr>\n",
       "    <tr>\n",
       "      <th>3</th>\n",
       "      <td>24600095</td>\n",
       "      <td>1610612738</td>\n",
       "      <td>1610612744</td>\n",
       "      <td>21946</td>\n",
       "      <td>Regular Season</td>\n",
       "      <td>W</td>\n",
       "      <td>L</td>\n",
       "      <td>77.0</td>\n",
       "      <td>65.0</td>\n",
       "      <td>12</td>\n",
       "      <td>-12</td>\n",
       "      <td>0</td>\n",
       "      <td>1946-12-14</td>\n",
       "      <td>NaN</td>\n",
       "      <td>1946</td>\n",
       "      <td>Regulation</td>\n",
       "      <td>Saturday</td>\n",
       "      <td>12</td>\n",
       "      <td>Boston Celtics</td>\n",
       "      <td>BOS</td>\n",
       "      <td>Boston</td>\n",
       "      <td>Massachusetts</td>\n",
       "      <td>1946</td>\n",
       "      <td>TD Garden</td>\n",
       "      <td>18624.0</td>\n",
       "      <td>42.355433</td>\n",
       "      <td>-71.060511</td>\n",
       "      <td>Golden State Warriors</td>\n",
       "      <td>GSW</td>\n",
       "      <td>Golden State</td>\n",
       "      <td>California</td>\n",
       "      <td>1946</td>\n",
       "      <td>Chase Center</td>\n",
       "      <td>18064.0</td>\n",
       "      <td>16.803337</td>\n",
       "      <td>96.178660</td>\n",
       "    </tr>\n",
       "    <tr>\n",
       "      <th>4</th>\n",
       "      <td>24600119</td>\n",
       "      <td>1610612738</td>\n",
       "      <td>1610612744</td>\n",
       "      <td>21946</td>\n",
       "      <td>Regular Season</td>\n",
       "      <td>L</td>\n",
       "      <td>W</td>\n",
       "      <td>60.0</td>\n",
       "      <td>63.0</td>\n",
       "      <td>-3</td>\n",
       "      <td>3</td>\n",
       "      <td>0</td>\n",
       "      <td>1946-12-27</td>\n",
       "      <td>NaN</td>\n",
       "      <td>1946</td>\n",
       "      <td>Regulation</td>\n",
       "      <td>Friday</td>\n",
       "      <td>12</td>\n",
       "      <td>Boston Celtics</td>\n",
       "      <td>BOS</td>\n",
       "      <td>Boston</td>\n",
       "      <td>Massachusetts</td>\n",
       "      <td>1946</td>\n",
       "      <td>TD Garden</td>\n",
       "      <td>18624.0</td>\n",
       "      <td>42.355433</td>\n",
       "      <td>-71.060511</td>\n",
       "      <td>Golden State Warriors</td>\n",
       "      <td>GSW</td>\n",
       "      <td>Golden State</td>\n",
       "      <td>California</td>\n",
       "      <td>1946</td>\n",
       "      <td>Chase Center</td>\n",
       "      <td>18064.0</td>\n",
       "      <td>16.803337</td>\n",
       "      <td>96.178660</td>\n",
       "    </tr>\n",
       "  </tbody>\n",
       "</table>\n",
       "</div>"
      ],
      "text/plain": [
       "    game_id  team_id_home  team_id_away  season_id     season_type wl_home wl_away  pts_home  pts_away  plus_minus_home  plus_minus_away  min  game_date  attendance  season game_duration day_of_week  month    full_name_home_team abbreviation_home_team city_home_team state_home_team  year_founded_home_team        arena_home_team  arenacapacity_home_team  latitude_home_team  longitude_home_team    full_name_away_team abbreviation_away_team city_away_team state_away_team  year_founded_away_team arena_away_team  arenacapacity_away_team  latitude_away_team  longitude_away_team\n",
       "0  24600052    1610612744    1610612738      21946  Regular Season       W       L      66.0      54.0               12              -12    0 1946-11-26         NaN    1946    Regulation     Tuesday     11  Golden State Warriors                    GSW   Golden State      California                    1946           Chase Center                  18064.0           16.803337            96.178660         Boston Celtics                    BOS         Boston   Massachusetts                    1946       TD Garden                  18624.0           42.355433           -71.060511\n",
       "1  24600063    1610612752    1610612744      21946  Regular Season       W       L      64.0      60.0                4               -4    0 1946-11-30         NaN    1946    Regulation    Saturday     11        New York Knicks                    NYK       New York        New York                    1946  Madison Square Garden                  19763.0           40.712728           -74.006015  Golden State Warriors                    GSW   Golden State      California                    1946    Chase Center                  18064.0           16.803337            96.178660\n",
       "2  24600083    1610612752    1610612738      21946  Regular Season       W       L      62.0      44.0               18              -18    0 1946-12-08         NaN    1946    Regulation      Sunday     12        New York Knicks                    NYK       New York        New York                    1946  Madison Square Garden                  19763.0           40.712728           -74.006015         Boston Celtics                    BOS         Boston   Massachusetts                    1946       TD Garden                  18624.0           42.355433           -71.060511\n",
       "3  24600095    1610612738    1610612744      21946  Regular Season       W       L      77.0      65.0               12              -12    0 1946-12-14         NaN    1946    Regulation    Saturday     12         Boston Celtics                    BOS         Boston   Massachusetts                    1946              TD Garden                  18624.0           42.355433           -71.060511  Golden State Warriors                    GSW   Golden State      California                    1946    Chase Center                  18064.0           16.803337            96.178660\n",
       "4  24600119    1610612738    1610612744      21946  Regular Season       L       W      60.0      63.0               -3                3    0 1946-12-27         NaN    1946    Regulation      Friday     12         Boston Celtics                    BOS         Boston   Massachusetts                    1946              TD Garden                  18624.0           42.355433           -71.060511  Golden State Warriors                    GSW   Golden State      California                    1946    Chase Center                  18064.0           16.803337            96.178660"
      ]
     },
     "execution_count": 182,
     "metadata": {},
     "output_type": "execute_result"
    }
   ],
   "source": [
    "# Merge to add all home team data\n",
    "combined_df = pd.merge(game_df, team_df, \n",
    "                               left_on='team_id_home', right_on='team_id', suffixes=('', '_home_team'))\n",
    "\n",
    "# Drop the redundant team_id column from the home merge\n",
    "combined_df.drop('team_id', axis=1, inplace=True)\n",
    "\n",
    "# Merge to add all away team data\n",
    "combined_df = pd.merge(combined_df, team_df, \n",
    "                           left_on='team_id_away', right_on='team_id', suffixes=('_home_team', '_away_team'))\n",
    "\n",
    "# Drop the redundant team_id column from the away merge\n",
    "combined_df.drop('team_id', axis=1, inplace=True)\n",
    "\n",
    "# Updated dataframe\n",
    "combined_df.head()"
   ]
  },
  {
   "cell_type": "code",
   "execution_count": 183,
   "metadata": {},
   "outputs": [
    {
     "data": {
      "text/plain": [
       "(56362, 36)"
      ]
     },
     "execution_count": 183,
     "metadata": {},
     "output_type": "execute_result"
    }
   ],
   "source": [
    "combined_df.shape"
   ]
  },
  {
   "cell_type": "code",
   "execution_count": 185,
   "metadata": {},
   "outputs": [
    {
     "data": {
      "text/html": [
       "<div>\n",
       "<style scoped>\n",
       "    .dataframe tbody tr th:only-of-type {\n",
       "        vertical-align: middle;\n",
       "    }\n",
       "\n",
       "    .dataframe tbody tr th {\n",
       "        vertical-align: top;\n",
       "    }\n",
       "\n",
       "    .dataframe thead th {\n",
       "        text-align: right;\n",
       "    }\n",
       "</style>\n",
       "<table border=\"1\" class=\"dataframe\">\n",
       "  <thead>\n",
       "    <tr style=\"text-align: right;\">\n",
       "      <th></th>\n",
       "      <th>game_id</th>\n",
       "      <th>team_id_home</th>\n",
       "      <th>team_id_away</th>\n",
       "      <th>season_id</th>\n",
       "      <th>season_type</th>\n",
       "      <th>wl_home</th>\n",
       "      <th>wl_away</th>\n",
       "      <th>pts_home</th>\n",
       "      <th>pts_away</th>\n",
       "      <th>plus_minus_home</th>\n",
       "      <th>plus_minus_away</th>\n",
       "      <th>min</th>\n",
       "      <th>game_date</th>\n",
       "      <th>attendance</th>\n",
       "      <th>season</th>\n",
       "      <th>game_duration</th>\n",
       "      <th>day_of_week</th>\n",
       "      <th>month</th>\n",
       "      <th>full_name_home_team</th>\n",
       "      <th>abbreviation_home_team</th>\n",
       "      <th>city_home_team</th>\n",
       "      <th>state_home_team</th>\n",
       "      <th>year_founded_home_team</th>\n",
       "      <th>arena_home_team</th>\n",
       "      <th>arenacapacity_home_team</th>\n",
       "      <th>latitude_home_team</th>\n",
       "      <th>longitude_home_team</th>\n",
       "      <th>full_name_away_team</th>\n",
       "      <th>abbreviation_away_team</th>\n",
       "      <th>city_away_team</th>\n",
       "      <th>state_away_team</th>\n",
       "      <th>year_founded_away_team</th>\n",
       "      <th>arena_away_team</th>\n",
       "      <th>arenacapacity_away_team</th>\n",
       "      <th>latitude_away_team</th>\n",
       "      <th>longitude_away_team</th>\n",
       "      <th>avg_attendance_home_team</th>\n",
       "      <th>season_w_home_team</th>\n",
       "      <th>season_l_home_team</th>\n",
       "      <th>wins_at_home_home_team</th>\n",
       "      <th>losses_at_home_home_team</th>\n",
       "      <th>away_wins_home_team</th>\n",
       "      <th>away_losses_home_team</th>\n",
       "      <th>games_this_season_home_team</th>\n",
       "      <th>games_at_home_home_team</th>\n",
       "      <th>away_games_home_team</th>\n",
       "      <th>total_pts_at_home_home_team</th>\n",
       "      <th>total_away_pts_home_team</th>\n",
       "      <th>season_pts_pg_home_team</th>\n",
       "      <th>pts_pg_at_home_home_team</th>\n",
       "      <th>away_pts_pg_home_team</th>\n",
       "      <th>season_win_pct_home_team</th>\n",
       "      <th>season_win_pct_at_home_home_team</th>\n",
       "      <th>season_away_win_pct_home_team</th>\n",
       "      <th>avg_attendance_away_team</th>\n",
       "      <th>season_w_away_team</th>\n",
       "      <th>season_l_away_team</th>\n",
       "      <th>wins_at_home_away_team</th>\n",
       "      <th>losses_at_home_away_team</th>\n",
       "      <th>away_wins_away_team</th>\n",
       "      <th>away_losses_away_team</th>\n",
       "      <th>games_this_season_away_team</th>\n",
       "      <th>games_at_home_away_team</th>\n",
       "      <th>away_games_away_team</th>\n",
       "      <th>total_pts_at_home_away_team</th>\n",
       "      <th>total_away_pts_away_team</th>\n",
       "      <th>season_pts_pg_away_team</th>\n",
       "      <th>pts_pg_at_home_away_team</th>\n",
       "      <th>away_pts_pg_away_team</th>\n",
       "      <th>season_win_pct_away_team</th>\n",
       "      <th>season_win_pct_at_home_away_team</th>\n",
       "      <th>season_away_win_pct_away_team</th>\n",
       "    </tr>\n",
       "  </thead>\n",
       "  <tbody>\n",
       "    <tr>\n",
       "      <th>0</th>\n",
       "      <td>24600052</td>\n",
       "      <td>1610612744</td>\n",
       "      <td>1610612738</td>\n",
       "      <td>21946</td>\n",
       "      <td>Regular Season</td>\n",
       "      <td>W</td>\n",
       "      <td>L</td>\n",
       "      <td>66.0</td>\n",
       "      <td>54.0</td>\n",
       "      <td>12</td>\n",
       "      <td>-12</td>\n",
       "      <td>0</td>\n",
       "      <td>1946-11-26</td>\n",
       "      <td>NaN</td>\n",
       "      <td>1946</td>\n",
       "      <td>Regulation</td>\n",
       "      <td>Tuesday</td>\n",
       "      <td>11</td>\n",
       "      <td>Golden State Warriors</td>\n",
       "      <td>GSW</td>\n",
       "      <td>Golden State</td>\n",
       "      <td>California</td>\n",
       "      <td>1946</td>\n",
       "      <td>Chase Center</td>\n",
       "      <td>18064.0</td>\n",
       "      <td>16.803337</td>\n",
       "      <td>96.178660</td>\n",
       "      <td>Boston Celtics</td>\n",
       "      <td>BOS</td>\n",
       "      <td>Boston</td>\n",
       "      <td>Massachusetts</td>\n",
       "      <td>1946</td>\n",
       "      <td>TD Garden</td>\n",
       "      <td>18624.0</td>\n",
       "      <td>42.355433</td>\n",
       "      <td>-71.060511</td>\n",
       "      <td>NaN</td>\n",
       "      <td>8.0</td>\n",
       "      <td>2.0</td>\n",
       "      <td>6.0</td>\n",
       "      <td>0.0</td>\n",
       "      <td>2.0</td>\n",
       "      <td>2.0</td>\n",
       "      <td>10.0</td>\n",
       "      <td>6.0</td>\n",
       "      <td>4.0</td>\n",
       "      <td>408.0</td>\n",
       "      <td>259.0</td>\n",
       "      <td>66.7</td>\n",
       "      <td>68.0</td>\n",
       "      <td>64.8</td>\n",
       "      <td>0.800</td>\n",
       "      <td>1.000</td>\n",
       "      <td>0.500</td>\n",
       "      <td>NaN</td>\n",
       "      <td>3.0</td>\n",
       "      <td>6.0</td>\n",
       "      <td>2.0</td>\n",
       "      <td>1.0</td>\n",
       "      <td>1.0</td>\n",
       "      <td>5.0</td>\n",
       "      <td>9.0</td>\n",
       "      <td>3.0</td>\n",
       "      <td>6.0</td>\n",
       "      <td>186.0</td>\n",
       "      <td>311.0</td>\n",
       "      <td>55.2</td>\n",
       "      <td>62.0</td>\n",
       "      <td>51.8</td>\n",
       "      <td>0.333</td>\n",
       "      <td>0.667</td>\n",
       "      <td>0.167</td>\n",
       "    </tr>\n",
       "    <tr>\n",
       "      <th>1</th>\n",
       "      <td>24600063</td>\n",
       "      <td>1610612752</td>\n",
       "      <td>1610612744</td>\n",
       "      <td>21946</td>\n",
       "      <td>Regular Season</td>\n",
       "      <td>W</td>\n",
       "      <td>L</td>\n",
       "      <td>64.0</td>\n",
       "      <td>60.0</td>\n",
       "      <td>4</td>\n",
       "      <td>-4</td>\n",
       "      <td>0</td>\n",
       "      <td>1946-11-30</td>\n",
       "      <td>NaN</td>\n",
       "      <td>1946</td>\n",
       "      <td>Regulation</td>\n",
       "      <td>Saturday</td>\n",
       "      <td>11</td>\n",
       "      <td>New York Knicks</td>\n",
       "      <td>NYK</td>\n",
       "      <td>New York</td>\n",
       "      <td>New York</td>\n",
       "      <td>1946</td>\n",
       "      <td>Madison Square Garden</td>\n",
       "      <td>19763.0</td>\n",
       "      <td>40.712728</td>\n",
       "      <td>-74.006015</td>\n",
       "      <td>Golden State Warriors</td>\n",
       "      <td>GSW</td>\n",
       "      <td>Golden State</td>\n",
       "      <td>California</td>\n",
       "      <td>1946</td>\n",
       "      <td>Chase Center</td>\n",
       "      <td>18064.0</td>\n",
       "      <td>16.803337</td>\n",
       "      <td>96.178660</td>\n",
       "      <td>NaN</td>\n",
       "      <td>2.0</td>\n",
       "      <td>5.0</td>\n",
       "      <td>2.0</td>\n",
       "      <td>2.0</td>\n",
       "      <td>0.0</td>\n",
       "      <td>3.0</td>\n",
       "      <td>7.0</td>\n",
       "      <td>4.0</td>\n",
       "      <td>3.0</td>\n",
       "      <td>234.0</td>\n",
       "      <td>178.0</td>\n",
       "      <td>58.9</td>\n",
       "      <td>58.5</td>\n",
       "      <td>59.3</td>\n",
       "      <td>0.286</td>\n",
       "      <td>0.500</td>\n",
       "      <td>0.000</td>\n",
       "      <td>NaN</td>\n",
       "      <td>8.0</td>\n",
       "      <td>2.0</td>\n",
       "      <td>6.0</td>\n",
       "      <td>0.0</td>\n",
       "      <td>2.0</td>\n",
       "      <td>2.0</td>\n",
       "      <td>10.0</td>\n",
       "      <td>6.0</td>\n",
       "      <td>4.0</td>\n",
       "      <td>408.0</td>\n",
       "      <td>259.0</td>\n",
       "      <td>66.7</td>\n",
       "      <td>68.0</td>\n",
       "      <td>64.8</td>\n",
       "      <td>0.800</td>\n",
       "      <td>1.000</td>\n",
       "      <td>0.500</td>\n",
       "    </tr>\n",
       "    <tr>\n",
       "      <th>2</th>\n",
       "      <td>24600083</td>\n",
       "      <td>1610612752</td>\n",
       "      <td>1610612738</td>\n",
       "      <td>21946</td>\n",
       "      <td>Regular Season</td>\n",
       "      <td>W</td>\n",
       "      <td>L</td>\n",
       "      <td>62.0</td>\n",
       "      <td>44.0</td>\n",
       "      <td>18</td>\n",
       "      <td>-18</td>\n",
       "      <td>0</td>\n",
       "      <td>1946-12-08</td>\n",
       "      <td>NaN</td>\n",
       "      <td>1946</td>\n",
       "      <td>Regulation</td>\n",
       "      <td>Sunday</td>\n",
       "      <td>12</td>\n",
       "      <td>New York Knicks</td>\n",
       "      <td>NYK</td>\n",
       "      <td>New York</td>\n",
       "      <td>New York</td>\n",
       "      <td>1946</td>\n",
       "      <td>Madison Square Garden</td>\n",
       "      <td>19763.0</td>\n",
       "      <td>40.712728</td>\n",
       "      <td>-74.006015</td>\n",
       "      <td>Boston Celtics</td>\n",
       "      <td>BOS</td>\n",
       "      <td>Boston</td>\n",
       "      <td>Massachusetts</td>\n",
       "      <td>1946</td>\n",
       "      <td>TD Garden</td>\n",
       "      <td>18624.0</td>\n",
       "      <td>42.355433</td>\n",
       "      <td>-71.060511</td>\n",
       "      <td>NaN</td>\n",
       "      <td>2.0</td>\n",
       "      <td>5.0</td>\n",
       "      <td>2.0</td>\n",
       "      <td>2.0</td>\n",
       "      <td>0.0</td>\n",
       "      <td>3.0</td>\n",
       "      <td>7.0</td>\n",
       "      <td>4.0</td>\n",
       "      <td>3.0</td>\n",
       "      <td>234.0</td>\n",
       "      <td>178.0</td>\n",
       "      <td>58.9</td>\n",
       "      <td>58.5</td>\n",
       "      <td>59.3</td>\n",
       "      <td>0.286</td>\n",
       "      <td>0.500</td>\n",
       "      <td>0.000</td>\n",
       "      <td>NaN</td>\n",
       "      <td>3.0</td>\n",
       "      <td>6.0</td>\n",
       "      <td>2.0</td>\n",
       "      <td>1.0</td>\n",
       "      <td>1.0</td>\n",
       "      <td>5.0</td>\n",
       "      <td>9.0</td>\n",
       "      <td>3.0</td>\n",
       "      <td>6.0</td>\n",
       "      <td>186.0</td>\n",
       "      <td>311.0</td>\n",
       "      <td>55.2</td>\n",
       "      <td>62.0</td>\n",
       "      <td>51.8</td>\n",
       "      <td>0.333</td>\n",
       "      <td>0.667</td>\n",
       "      <td>0.167</td>\n",
       "    </tr>\n",
       "    <tr>\n",
       "      <th>3</th>\n",
       "      <td>24600095</td>\n",
       "      <td>1610612738</td>\n",
       "      <td>1610612744</td>\n",
       "      <td>21946</td>\n",
       "      <td>Regular Season</td>\n",
       "      <td>W</td>\n",
       "      <td>L</td>\n",
       "      <td>77.0</td>\n",
       "      <td>65.0</td>\n",
       "      <td>12</td>\n",
       "      <td>-12</td>\n",
       "      <td>0</td>\n",
       "      <td>1946-12-14</td>\n",
       "      <td>NaN</td>\n",
       "      <td>1946</td>\n",
       "      <td>Regulation</td>\n",
       "      <td>Saturday</td>\n",
       "      <td>12</td>\n",
       "      <td>Boston Celtics</td>\n",
       "      <td>BOS</td>\n",
       "      <td>Boston</td>\n",
       "      <td>Massachusetts</td>\n",
       "      <td>1946</td>\n",
       "      <td>TD Garden</td>\n",
       "      <td>18624.0</td>\n",
       "      <td>42.355433</td>\n",
       "      <td>-71.060511</td>\n",
       "      <td>Golden State Warriors</td>\n",
       "      <td>GSW</td>\n",
       "      <td>Golden State</td>\n",
       "      <td>California</td>\n",
       "      <td>1946</td>\n",
       "      <td>Chase Center</td>\n",
       "      <td>18064.0</td>\n",
       "      <td>16.803337</td>\n",
       "      <td>96.178660</td>\n",
       "      <td>NaN</td>\n",
       "      <td>3.0</td>\n",
       "      <td>6.0</td>\n",
       "      <td>2.0</td>\n",
       "      <td>1.0</td>\n",
       "      <td>1.0</td>\n",
       "      <td>5.0</td>\n",
       "      <td>9.0</td>\n",
       "      <td>3.0</td>\n",
       "      <td>6.0</td>\n",
       "      <td>186.0</td>\n",
       "      <td>311.0</td>\n",
       "      <td>55.2</td>\n",
       "      <td>62.0</td>\n",
       "      <td>51.8</td>\n",
       "      <td>0.333</td>\n",
       "      <td>0.667</td>\n",
       "      <td>0.167</td>\n",
       "      <td>NaN</td>\n",
       "      <td>8.0</td>\n",
       "      <td>2.0</td>\n",
       "      <td>6.0</td>\n",
       "      <td>0.0</td>\n",
       "      <td>2.0</td>\n",
       "      <td>2.0</td>\n",
       "      <td>10.0</td>\n",
       "      <td>6.0</td>\n",
       "      <td>4.0</td>\n",
       "      <td>408.0</td>\n",
       "      <td>259.0</td>\n",
       "      <td>66.7</td>\n",
       "      <td>68.0</td>\n",
       "      <td>64.8</td>\n",
       "      <td>0.800</td>\n",
       "      <td>1.000</td>\n",
       "      <td>0.500</td>\n",
       "    </tr>\n",
       "    <tr>\n",
       "      <th>4</th>\n",
       "      <td>24600119</td>\n",
       "      <td>1610612738</td>\n",
       "      <td>1610612744</td>\n",
       "      <td>21946</td>\n",
       "      <td>Regular Season</td>\n",
       "      <td>L</td>\n",
       "      <td>W</td>\n",
       "      <td>60.0</td>\n",
       "      <td>63.0</td>\n",
       "      <td>-3</td>\n",
       "      <td>3</td>\n",
       "      <td>0</td>\n",
       "      <td>1946-12-27</td>\n",
       "      <td>NaN</td>\n",
       "      <td>1946</td>\n",
       "      <td>Regulation</td>\n",
       "      <td>Friday</td>\n",
       "      <td>12</td>\n",
       "      <td>Boston Celtics</td>\n",
       "      <td>BOS</td>\n",
       "      <td>Boston</td>\n",
       "      <td>Massachusetts</td>\n",
       "      <td>1946</td>\n",
       "      <td>TD Garden</td>\n",
       "      <td>18624.0</td>\n",
       "      <td>42.355433</td>\n",
       "      <td>-71.060511</td>\n",
       "      <td>Golden State Warriors</td>\n",
       "      <td>GSW</td>\n",
       "      <td>Golden State</td>\n",
       "      <td>California</td>\n",
       "      <td>1946</td>\n",
       "      <td>Chase Center</td>\n",
       "      <td>18064.0</td>\n",
       "      <td>16.803337</td>\n",
       "      <td>96.178660</td>\n",
       "      <td>NaN</td>\n",
       "      <td>3.0</td>\n",
       "      <td>6.0</td>\n",
       "      <td>2.0</td>\n",
       "      <td>1.0</td>\n",
       "      <td>1.0</td>\n",
       "      <td>5.0</td>\n",
       "      <td>9.0</td>\n",
       "      <td>3.0</td>\n",
       "      <td>6.0</td>\n",
       "      <td>186.0</td>\n",
       "      <td>311.0</td>\n",
       "      <td>55.2</td>\n",
       "      <td>62.0</td>\n",
       "      <td>51.8</td>\n",
       "      <td>0.333</td>\n",
       "      <td>0.667</td>\n",
       "      <td>0.167</td>\n",
       "      <td>NaN</td>\n",
       "      <td>8.0</td>\n",
       "      <td>2.0</td>\n",
       "      <td>6.0</td>\n",
       "      <td>0.0</td>\n",
       "      <td>2.0</td>\n",
       "      <td>2.0</td>\n",
       "      <td>10.0</td>\n",
       "      <td>6.0</td>\n",
       "      <td>4.0</td>\n",
       "      <td>408.0</td>\n",
       "      <td>259.0</td>\n",
       "      <td>66.7</td>\n",
       "      <td>68.0</td>\n",
       "      <td>64.8</td>\n",
       "      <td>0.800</td>\n",
       "      <td>1.000</td>\n",
       "      <td>0.500</td>\n",
       "    </tr>\n",
       "  </tbody>\n",
       "</table>\n",
       "</div>"
      ],
      "text/plain": [
       "    game_id  team_id_home  team_id_away  season_id     season_type wl_home wl_away  pts_home  pts_away  plus_minus_home  plus_minus_away  min  game_date  attendance  season game_duration day_of_week  month    full_name_home_team abbreviation_home_team city_home_team state_home_team  year_founded_home_team        arena_home_team  arenacapacity_home_team  latitude_home_team  longitude_home_team    full_name_away_team abbreviation_away_team city_away_team state_away_team  year_founded_away_team arena_away_team  arenacapacity_away_team  latitude_away_team  longitude_away_team  avg_attendance_home_team  season_w_home_team  season_l_home_team  wins_at_home_home_team  losses_at_home_home_team  away_wins_home_team  away_losses_home_team  games_this_season_home_team  games_at_home_home_team  away_games_home_team  total_pts_at_home_home_team  total_away_pts_home_team  season_pts_pg_home_team  pts_pg_at_home_home_team  away_pts_pg_home_team  season_win_pct_home_team  \\\n",
       "0  24600052    1610612744    1610612738      21946  Regular Season       W       L      66.0      54.0               12              -12    0 1946-11-26         NaN    1946    Regulation     Tuesday     11  Golden State Warriors                    GSW   Golden State      California                    1946           Chase Center                  18064.0           16.803337            96.178660         Boston Celtics                    BOS         Boston   Massachusetts                    1946       TD Garden                  18624.0           42.355433           -71.060511                       NaN                 8.0                 2.0                     6.0                       0.0                  2.0                    2.0                         10.0                      6.0                   4.0                        408.0                     259.0                     66.7                      68.0                   64.8                     0.800   \n",
       "1  24600063    1610612752    1610612744      21946  Regular Season       W       L      64.0      60.0                4               -4    0 1946-11-30         NaN    1946    Regulation    Saturday     11        New York Knicks                    NYK       New York        New York                    1946  Madison Square Garden                  19763.0           40.712728           -74.006015  Golden State Warriors                    GSW   Golden State      California                    1946    Chase Center                  18064.0           16.803337            96.178660                       NaN                 2.0                 5.0                     2.0                       2.0                  0.0                    3.0                          7.0                      4.0                   3.0                        234.0                     178.0                     58.9                      58.5                   59.3                     0.286   \n",
       "2  24600083    1610612752    1610612738      21946  Regular Season       W       L      62.0      44.0               18              -18    0 1946-12-08         NaN    1946    Regulation      Sunday     12        New York Knicks                    NYK       New York        New York                    1946  Madison Square Garden                  19763.0           40.712728           -74.006015         Boston Celtics                    BOS         Boston   Massachusetts                    1946       TD Garden                  18624.0           42.355433           -71.060511                       NaN                 2.0                 5.0                     2.0                       2.0                  0.0                    3.0                          7.0                      4.0                   3.0                        234.0                     178.0                     58.9                      58.5                   59.3                     0.286   \n",
       "3  24600095    1610612738    1610612744      21946  Regular Season       W       L      77.0      65.0               12              -12    0 1946-12-14         NaN    1946    Regulation    Saturday     12         Boston Celtics                    BOS         Boston   Massachusetts                    1946              TD Garden                  18624.0           42.355433           -71.060511  Golden State Warriors                    GSW   Golden State      California                    1946    Chase Center                  18064.0           16.803337            96.178660                       NaN                 3.0                 6.0                     2.0                       1.0                  1.0                    5.0                          9.0                      3.0                   6.0                        186.0                     311.0                     55.2                      62.0                   51.8                     0.333   \n",
       "4  24600119    1610612738    1610612744      21946  Regular Season       L       W      60.0      63.0               -3                3    0 1946-12-27         NaN    1946    Regulation      Friday     12         Boston Celtics                    BOS         Boston   Massachusetts                    1946              TD Garden                  18624.0           42.355433           -71.060511  Golden State Warriors                    GSW   Golden State      California                    1946    Chase Center                  18064.0           16.803337            96.178660                       NaN                 3.0                 6.0                     2.0                       1.0                  1.0                    5.0                          9.0                      3.0                   6.0                        186.0                     311.0                     55.2                      62.0                   51.8                     0.333   \n",
       "\n",
       "   season_win_pct_at_home_home_team  season_away_win_pct_home_team  avg_attendance_away_team  season_w_away_team  season_l_away_team  wins_at_home_away_team  losses_at_home_away_team  away_wins_away_team  away_losses_away_team  games_this_season_away_team  games_at_home_away_team  away_games_away_team  total_pts_at_home_away_team  total_away_pts_away_team  season_pts_pg_away_team  pts_pg_at_home_away_team  away_pts_pg_away_team  season_win_pct_away_team  season_win_pct_at_home_away_team  season_away_win_pct_away_team  \n",
       "0                             1.000                          0.500                       NaN                 3.0                 6.0                     2.0                       1.0                  1.0                    5.0                          9.0                      3.0                   6.0                        186.0                     311.0                     55.2                      62.0                   51.8                     0.333                             0.667                          0.167  \n",
       "1                             0.500                          0.000                       NaN                 8.0                 2.0                     6.0                       0.0                  2.0                    2.0                         10.0                      6.0                   4.0                        408.0                     259.0                     66.7                      68.0                   64.8                     0.800                             1.000                          0.500  \n",
       "2                             0.500                          0.000                       NaN                 3.0                 6.0                     2.0                       1.0                  1.0                    5.0                          9.0                      3.0                   6.0                        186.0                     311.0                     55.2                      62.0                   51.8                     0.333                             0.667                          0.167  \n",
       "3                             0.667                          0.167                       NaN                 8.0                 2.0                     6.0                       0.0                  2.0                    2.0                         10.0                      6.0                   4.0                        408.0                     259.0                     66.7                      68.0                   64.8                     0.800                             1.000                          0.500  \n",
       "4                             0.667                          0.167                       NaN                 8.0                 2.0                     6.0                       0.0                  2.0                    2.0                         10.0                      6.0                   4.0                        408.0                     259.0                     66.7                      68.0                   64.8                     0.800                             1.000                          0.500  "
      ]
     },
     "execution_count": 185,
     "metadata": {},
     "output_type": "execute_result"
    }
   ],
   "source": [
    "# Merge to add all home team season stats\n",
    "combined_df = pd.merge(combined_df, season_stats, \n",
    "                       left_on=['team_id_home', 'season_id'], \n",
    "                       right_on=['team_id', 'season_id'], \n",
    "                       suffixes=('', '_home_team'))\n",
    "\n",
    "# Drop the redundant team_id column from the home merge\n",
    "combined_df.drop('team_id', axis=1, inplace=True)\n",
    "\n",
    "# Merge to add all away team season stats\n",
    "combined_df = pd.merge(combined_df, season_stats, \n",
    "                       left_on=['team_id_away', 'season_id'], \n",
    "                       right_on=['team_id', 'season_id'], \n",
    "                       suffixes=('_home_team', '_away_team'))\n",
    "\n",
    "# Drop the redundant team_id column from the away merge\n",
    "combined_df.drop('team_id', axis=1, inplace=True)\n",
    "combined_df.head()"
   ]
  },
  {
   "cell_type": "code",
   "execution_count": 186,
   "metadata": {},
   "outputs": [
    {
     "data": {
      "text/plain": [
       "(56362, 72)"
      ]
     },
     "execution_count": 186,
     "metadata": {},
     "output_type": "execute_result"
    }
   ],
   "source": [
    "combined_df.shape"
   ]
  },
  {
   "cell_type": "markdown",
   "metadata": {},
   "source": [
    "#### Additional Feature Engineering\n",
    "- Distance between teams (in miles) using city coordinates calculated earlier \n",
    "- Evaluating team performance previous season\n",
    "- Creating attendance related classifiers \n"
   ]
  },
  {
   "cell_type": "markdown",
   "metadata": {},
   "source": [
    "##### Distance between teams"
   ]
  },
  {
   "cell_type": "code",
   "execution_count": 188,
   "metadata": {},
   "outputs": [
    {
     "name": "stdout",
     "output_type": "stream",
     "text": [
      "    game_id    full_name_home_team city_home_team    full_name_away_team city_away_team  distance_miles\n",
      "0  24600052  Golden State Warriors   Golden State         Boston Celtics         Boston     8280.107619\n",
      "1  24600063        New York Knicks       New York  Golden State Warriors   Golden State     8423.892467\n",
      "2  24600083        New York Knicks       New York         Boston Celtics         Boston      190.193347\n",
      "3  24600095         Boston Celtics         Boston  Golden State Warriors   Golden State     8280.107619\n",
      "4  24600119         Boston Celtics         Boston  Golden State Warriors   Golden State     8280.107619\n"
     ]
    }
   ],
   "source": [
    "# Apply the distance function to calculate the distance for each game\n",
    "combined_df['distance_miles'] = combined_df.apply(calculate_distance, axis=1)\n",
    "\n",
    "# Print sample results\n",
    "print(combined_df[['game_id', 'full_name_home_team', 'city_home_team', 'full_name_away_team', 'city_away_team', 'distance_miles']].head())"
   ]
  },
  {
   "cell_type": "markdown",
   "metadata": {},
   "source": [
    "##### Previous Season Stats\n",
    "- Identifying which teams made the playoffs the previous season"
   ]
  },
  {
   "cell_type": "markdown",
   "metadata": {},
   "source": [
    "Playoff Teams"
   ]
  },
  {
   "cell_type": "code",
   "execution_count": null,
   "metadata": {},
   "outputs": [],
   "source": [
    "# Extracting the relevant team_id column from the team_df\n",
    "#team_ids = team_df['team_id'].unique()"
   ]
  },
  {
   "cell_type": "code",
   "execution_count": 189,
   "metadata": {},
   "outputs": [],
   "source": [
    "# Create a DataFrame with all combinations of team_ids and seasons\n",
    "# Using team_ids saved from earlier\n",
    "all_seasons = combined_df['season'].unique()\n",
    "all_teams_seasons = pd.MultiIndex.from_product([team_ids, all_seasons], names=['team', 'season']).to_frame(index=False)"
   ]
  },
  {
   "cell_type": "code",
   "execution_count": 190,
   "metadata": {},
   "outputs": [
    {
     "data": {
      "text/html": [
       "<div>\n",
       "<style scoped>\n",
       "    .dataframe tbody tr th:only-of-type {\n",
       "        vertical-align: middle;\n",
       "    }\n",
       "\n",
       "    .dataframe tbody tr th {\n",
       "        vertical-align: top;\n",
       "    }\n",
       "\n",
       "    .dataframe thead th {\n",
       "        text-align: right;\n",
       "    }\n",
       "</style>\n",
       "<table border=\"1\" class=\"dataframe\">\n",
       "  <thead>\n",
       "    <tr style=\"text-align: right;\">\n",
       "      <th></th>\n",
       "      <th>team</th>\n",
       "      <th>season</th>\n",
       "      <th>merge_season</th>\n",
       "    </tr>\n",
       "  </thead>\n",
       "  <tbody>\n",
       "    <tr>\n",
       "      <th>0</th>\n",
       "      <td>1610612737</td>\n",
       "      <td>1946</td>\n",
       "      <td>1947</td>\n",
       "    </tr>\n",
       "    <tr>\n",
       "      <th>1</th>\n",
       "      <td>1610612737</td>\n",
       "      <td>1947</td>\n",
       "      <td>1948</td>\n",
       "    </tr>\n",
       "    <tr>\n",
       "      <th>2</th>\n",
       "      <td>1610612737</td>\n",
       "      <td>1948</td>\n",
       "      <td>1949</td>\n",
       "    </tr>\n",
       "    <tr>\n",
       "      <th>3</th>\n",
       "      <td>1610612737</td>\n",
       "      <td>1949</td>\n",
       "      <td>1950</td>\n",
       "    </tr>\n",
       "    <tr>\n",
       "      <th>4</th>\n",
       "      <td>1610612737</td>\n",
       "      <td>1950</td>\n",
       "      <td>1951</td>\n",
       "    </tr>\n",
       "  </tbody>\n",
       "</table>\n",
       "</div>"
      ],
      "text/plain": [
       "         team  season  merge_season\n",
       "0  1610612737    1946          1947\n",
       "1  1610612737    1947          1948\n",
       "2  1610612737    1948          1949\n",
       "3  1610612737    1949          1950\n",
       "4  1610612737    1950          1951"
      ]
     },
     "execution_count": 190,
     "metadata": {},
     "output_type": "execute_result"
    }
   ],
   "source": [
    "# Create new column to merge prev season data\n",
    "all_teams_seasons['merge_season'] = all_teams_seasons['season'] + 1\n",
    "all_teams_seasons.head()"
   ]
  },
  {
   "cell_type": "code",
   "execution_count": 191,
   "metadata": {},
   "outputs": [
    {
     "data": {
      "text/html": [
       "<div>\n",
       "<style scoped>\n",
       "    .dataframe tbody tr th:only-of-type {\n",
       "        vertical-align: middle;\n",
       "    }\n",
       "\n",
       "    .dataframe tbody tr th {\n",
       "        vertical-align: top;\n",
       "    }\n",
       "\n",
       "    .dataframe thead th {\n",
       "        text-align: right;\n",
       "    }\n",
       "</style>\n",
       "<table border=\"1\" class=\"dataframe\">\n",
       "  <thead>\n",
       "    <tr style=\"text-align: right;\">\n",
       "      <th></th>\n",
       "      <th>game_id</th>\n",
       "      <th>team_id_home</th>\n",
       "      <th>team_id_away</th>\n",
       "      <th>season_id</th>\n",
       "      <th>season_type</th>\n",
       "      <th>wl_home</th>\n",
       "      <th>wl_away</th>\n",
       "      <th>pts_home</th>\n",
       "      <th>pts_away</th>\n",
       "      <th>plus_minus_home</th>\n",
       "      <th>plus_minus_away</th>\n",
       "      <th>min</th>\n",
       "      <th>game_date</th>\n",
       "      <th>attendance</th>\n",
       "      <th>season</th>\n",
       "      <th>game_duration</th>\n",
       "      <th>day_of_week</th>\n",
       "      <th>month</th>\n",
       "      <th>full_name_home_team</th>\n",
       "      <th>abbreviation_home_team</th>\n",
       "      <th>city_home_team</th>\n",
       "      <th>state_home_team</th>\n",
       "      <th>year_founded_home_team</th>\n",
       "      <th>arena_home_team</th>\n",
       "      <th>arenacapacity_home_team</th>\n",
       "      <th>latitude_home_team</th>\n",
       "      <th>longitude_home_team</th>\n",
       "      <th>full_name_away_team</th>\n",
       "      <th>abbreviation_away_team</th>\n",
       "      <th>city_away_team</th>\n",
       "      <th>state_away_team</th>\n",
       "      <th>year_founded_away_team</th>\n",
       "      <th>arena_away_team</th>\n",
       "      <th>arenacapacity_away_team</th>\n",
       "      <th>latitude_away_team</th>\n",
       "      <th>longitude_away_team</th>\n",
       "      <th>avg_attendance_home_team</th>\n",
       "      <th>season_w_home_team</th>\n",
       "      <th>season_l_home_team</th>\n",
       "      <th>wins_at_home_home_team</th>\n",
       "      <th>losses_at_home_home_team</th>\n",
       "      <th>away_wins_home_team</th>\n",
       "      <th>away_losses_home_team</th>\n",
       "      <th>games_this_season_home_team</th>\n",
       "      <th>games_at_home_home_team</th>\n",
       "      <th>away_games_home_team</th>\n",
       "      <th>total_pts_at_home_home_team</th>\n",
       "      <th>total_away_pts_home_team</th>\n",
       "      <th>season_pts_pg_home_team</th>\n",
       "      <th>pts_pg_at_home_home_team</th>\n",
       "      <th>away_pts_pg_home_team</th>\n",
       "      <th>season_win_pct_home_team</th>\n",
       "      <th>season_win_pct_at_home_home_team</th>\n",
       "      <th>season_away_win_pct_home_team</th>\n",
       "      <th>avg_attendance_away_team</th>\n",
       "      <th>season_w_away_team</th>\n",
       "      <th>season_l_away_team</th>\n",
       "      <th>wins_at_home_away_team</th>\n",
       "      <th>losses_at_home_away_team</th>\n",
       "      <th>away_wins_away_team</th>\n",
       "      <th>away_losses_away_team</th>\n",
       "      <th>games_this_season_away_team</th>\n",
       "      <th>games_at_home_away_team</th>\n",
       "      <th>away_games_away_team</th>\n",
       "      <th>total_pts_at_home_away_team</th>\n",
       "      <th>total_away_pts_away_team</th>\n",
       "      <th>season_pts_pg_away_team</th>\n",
       "      <th>pts_pg_at_home_away_team</th>\n",
       "      <th>away_pts_pg_away_team</th>\n",
       "      <th>season_win_pct_away_team</th>\n",
       "      <th>season_win_pct_at_home_away_team</th>\n",
       "      <th>season_away_win_pct_away_team</th>\n",
       "      <th>distance_miles</th>\n",
       "    </tr>\n",
       "  </thead>\n",
       "  <tbody>\n",
       "    <tr>\n",
       "      <th>13</th>\n",
       "      <td>44600211</td>\n",
       "      <td>1610612744</td>\n",
       "      <td>1610612752</td>\n",
       "      <td>41946</td>\n",
       "      <td>Playoffs</td>\n",
       "      <td>W</td>\n",
       "      <td>L</td>\n",
       "      <td>82.0</td>\n",
       "      <td>70.0</td>\n",
       "      <td>12</td>\n",
       "      <td>-12</td>\n",
       "      <td>0</td>\n",
       "      <td>1947-04-12</td>\n",
       "      <td>NaN</td>\n",
       "      <td>1946</td>\n",
       "      <td>Regulation</td>\n",
       "      <td>Saturday</td>\n",
       "      <td>4</td>\n",
       "      <td>Golden State Warriors</td>\n",
       "      <td>GSW</td>\n",
       "      <td>Golden State</td>\n",
       "      <td>California</td>\n",
       "      <td>1946</td>\n",
       "      <td>Chase Center</td>\n",
       "      <td>18064.0</td>\n",
       "      <td>16.803337</td>\n",
       "      <td>96.178660</td>\n",
       "      <td>New York Knicks</td>\n",
       "      <td>NYK</td>\n",
       "      <td>New York</td>\n",
       "      <td>New York</td>\n",
       "      <td>1946</td>\n",
       "      <td>Madison Square Garden</td>\n",
       "      <td>19763.0</td>\n",
       "      <td>40.712728</td>\n",
       "      <td>-74.006015</td>\n",
       "      <td>NaN</td>\n",
       "      <td>2.0</td>\n",
       "      <td>0.0</td>\n",
       "      <td>1.0</td>\n",
       "      <td>0.0</td>\n",
       "      <td>1.0</td>\n",
       "      <td>0.0</td>\n",
       "      <td>2.0</td>\n",
       "      <td>1.0</td>\n",
       "      <td>1.0</td>\n",
       "      <td>82.0</td>\n",
       "      <td>72.0</td>\n",
       "      <td>77.0</td>\n",
       "      <td>82.0</td>\n",
       "      <td>72.0</td>\n",
       "      <td>1.000</td>\n",
       "      <td>1.0</td>\n",
       "      <td>1.0</td>\n",
       "      <td>4607.0</td>\n",
       "      <td>0.0</td>\n",
       "      <td>2.0</td>\n",
       "      <td>0.0</td>\n",
       "      <td>1.0</td>\n",
       "      <td>0.0</td>\n",
       "      <td>1.0</td>\n",
       "      <td>2.0</td>\n",
       "      <td>1.0</td>\n",
       "      <td>1.0</td>\n",
       "      <td>53.0</td>\n",
       "      <td>70.0</td>\n",
       "      <td>61.5</td>\n",
       "      <td>53.0</td>\n",
       "      <td>70.0</td>\n",
       "      <td>0.000</td>\n",
       "      <td>0.0</td>\n",
       "      <td>0.0</td>\n",
       "      <td>8423.892467</td>\n",
       "    </tr>\n",
       "    <tr>\n",
       "      <th>14</th>\n",
       "      <td>44600212</td>\n",
       "      <td>1610612752</td>\n",
       "      <td>1610612744</td>\n",
       "      <td>41946</td>\n",
       "      <td>Playoffs</td>\n",
       "      <td>L</td>\n",
       "      <td>W</td>\n",
       "      <td>53.0</td>\n",
       "      <td>72.0</td>\n",
       "      <td>-19</td>\n",
       "      <td>19</td>\n",
       "      <td>0</td>\n",
       "      <td>1947-04-14</td>\n",
       "      <td>4607.0</td>\n",
       "      <td>1946</td>\n",
       "      <td>Regulation</td>\n",
       "      <td>Monday</td>\n",
       "      <td>4</td>\n",
       "      <td>New York Knicks</td>\n",
       "      <td>NYK</td>\n",
       "      <td>New York</td>\n",
       "      <td>New York</td>\n",
       "      <td>1946</td>\n",
       "      <td>Madison Square Garden</td>\n",
       "      <td>19763.0</td>\n",
       "      <td>40.712728</td>\n",
       "      <td>-74.006015</td>\n",
       "      <td>Golden State Warriors</td>\n",
       "      <td>GSW</td>\n",
       "      <td>Golden State</td>\n",
       "      <td>California</td>\n",
       "      <td>1946</td>\n",
       "      <td>Chase Center</td>\n",
       "      <td>18064.0</td>\n",
       "      <td>16.803337</td>\n",
       "      <td>96.178660</td>\n",
       "      <td>4607.0</td>\n",
       "      <td>0.0</td>\n",
       "      <td>2.0</td>\n",
       "      <td>0.0</td>\n",
       "      <td>1.0</td>\n",
       "      <td>0.0</td>\n",
       "      <td>1.0</td>\n",
       "      <td>2.0</td>\n",
       "      <td>1.0</td>\n",
       "      <td>1.0</td>\n",
       "      <td>53.0</td>\n",
       "      <td>70.0</td>\n",
       "      <td>61.5</td>\n",
       "      <td>53.0</td>\n",
       "      <td>70.0</td>\n",
       "      <td>0.000</td>\n",
       "      <td>0.0</td>\n",
       "      <td>0.0</td>\n",
       "      <td>NaN</td>\n",
       "      <td>2.0</td>\n",
       "      <td>0.0</td>\n",
       "      <td>1.0</td>\n",
       "      <td>0.0</td>\n",
       "      <td>1.0</td>\n",
       "      <td>0.0</td>\n",
       "      <td>2.0</td>\n",
       "      <td>1.0</td>\n",
       "      <td>1.0</td>\n",
       "      <td>82.0</td>\n",
       "      <td>72.0</td>\n",
       "      <td>77.0</td>\n",
       "      <td>82.0</td>\n",
       "      <td>72.0</td>\n",
       "      <td>1.000</td>\n",
       "      <td>1.0</td>\n",
       "      <td>1.0</td>\n",
       "      <td>8423.892467</td>\n",
       "    </tr>\n",
       "    <tr>\n",
       "      <th>106</th>\n",
       "      <td>44800312</td>\n",
       "      <td>1610612747</td>\n",
       "      <td>1610612758</td>\n",
       "      <td>41948</td>\n",
       "      <td>Playoffs</td>\n",
       "      <td>W</td>\n",
       "      <td>L</td>\n",
       "      <td>67.0</td>\n",
       "      <td>55.0</td>\n",
       "      <td>12</td>\n",
       "      <td>-12</td>\n",
       "      <td>0</td>\n",
       "      <td>1949-03-29</td>\n",
       "      <td>10412.0</td>\n",
       "      <td>1948</td>\n",
       "      <td>Regulation</td>\n",
       "      <td>Tuesday</td>\n",
       "      <td>3</td>\n",
       "      <td>Los Angeles Lakers</td>\n",
       "      <td>LAL</td>\n",
       "      <td>Los Angeles</td>\n",
       "      <td>California</td>\n",
       "      <td>1948</td>\n",
       "      <td>Crypto.com Arena</td>\n",
       "      <td>19060.0</td>\n",
       "      <td>34.053691</td>\n",
       "      <td>-118.242766</td>\n",
       "      <td>Sacramento Kings</td>\n",
       "      <td>SAC</td>\n",
       "      <td>Sacramento</td>\n",
       "      <td>California</td>\n",
       "      <td>1948</td>\n",
       "      <td>Golden 1 Center</td>\n",
       "      <td>17500.0</td>\n",
       "      <td>38.581061</td>\n",
       "      <td>-121.493895</td>\n",
       "      <td>10412.0</td>\n",
       "      <td>1.0</td>\n",
       "      <td>0.0</td>\n",
       "      <td>1.0</td>\n",
       "      <td>0.0</td>\n",
       "      <td>0.0</td>\n",
       "      <td>0.0</td>\n",
       "      <td>0.0</td>\n",
       "      <td>1.0</td>\n",
       "      <td>0.0</td>\n",
       "      <td>67.0</td>\n",
       "      <td>0.0</td>\n",
       "      <td>67.0</td>\n",
       "      <td>67.0</td>\n",
       "      <td>0.0</td>\n",
       "      <td>1.000</td>\n",
       "      <td>1.0</td>\n",
       "      <td>0.0</td>\n",
       "      <td>NaN</td>\n",
       "      <td>0.0</td>\n",
       "      <td>1.0</td>\n",
       "      <td>0.0</td>\n",
       "      <td>0.0</td>\n",
       "      <td>0.0</td>\n",
       "      <td>1.0</td>\n",
       "      <td>0.0</td>\n",
       "      <td>0.0</td>\n",
       "      <td>1.0</td>\n",
       "      <td>0.0</td>\n",
       "      <td>55.0</td>\n",
       "      <td>55.0</td>\n",
       "      <td>0.0</td>\n",
       "      <td>55.0</td>\n",
       "      <td>0.000</td>\n",
       "      <td>0.0</td>\n",
       "      <td>0.0</td>\n",
       "      <td>360.983358</td>\n",
       "    </tr>\n",
       "    <tr>\n",
       "      <th>209</th>\n",
       "      <td>44900231</td>\n",
       "      <td>1610612755</td>\n",
       "      <td>1610612744</td>\n",
       "      <td>41949</td>\n",
       "      <td>Playoffs</td>\n",
       "      <td>W</td>\n",
       "      <td>L</td>\n",
       "      <td>93.0</td>\n",
       "      <td>76.0</td>\n",
       "      <td>17</td>\n",
       "      <td>-17</td>\n",
       "      <td>0</td>\n",
       "      <td>1950-03-22</td>\n",
       "      <td>NaN</td>\n",
       "      <td>1949</td>\n",
       "      <td>Regulation</td>\n",
       "      <td>Wednesday</td>\n",
       "      <td>3</td>\n",
       "      <td>Philadelphia 76ers</td>\n",
       "      <td>PHI</td>\n",
       "      <td>Philadelphia</td>\n",
       "      <td>Pennsylvania</td>\n",
       "      <td>1949</td>\n",
       "      <td>Wells Fargo Center</td>\n",
       "      <td>20478.0</td>\n",
       "      <td>39.952724</td>\n",
       "      <td>-75.163526</td>\n",
       "      <td>Golden State Warriors</td>\n",
       "      <td>GSW</td>\n",
       "      <td>Golden State</td>\n",
       "      <td>California</td>\n",
       "      <td>1946</td>\n",
       "      <td>Chase Center</td>\n",
       "      <td>18064.0</td>\n",
       "      <td>16.803337</td>\n",
       "      <td>96.178660</td>\n",
       "      <td>NaN</td>\n",
       "      <td>5.0</td>\n",
       "      <td>4.0</td>\n",
       "      <td>4.0</td>\n",
       "      <td>0.0</td>\n",
       "      <td>1.0</td>\n",
       "      <td>4.0</td>\n",
       "      <td>9.0</td>\n",
       "      <td>4.0</td>\n",
       "      <td>5.0</td>\n",
       "      <td>358.0</td>\n",
       "      <td>376.0</td>\n",
       "      <td>81.6</td>\n",
       "      <td>89.5</td>\n",
       "      <td>75.2</td>\n",
       "      <td>0.556</td>\n",
       "      <td>1.0</td>\n",
       "      <td>0.2</td>\n",
       "      <td>NaN</td>\n",
       "      <td>0.0</td>\n",
       "      <td>2.0</td>\n",
       "      <td>0.0</td>\n",
       "      <td>1.0</td>\n",
       "      <td>0.0</td>\n",
       "      <td>1.0</td>\n",
       "      <td>2.0</td>\n",
       "      <td>1.0</td>\n",
       "      <td>1.0</td>\n",
       "      <td>53.0</td>\n",
       "      <td>76.0</td>\n",
       "      <td>64.5</td>\n",
       "      <td>53.0</td>\n",
       "      <td>76.0</td>\n",
       "      <td>0.000</td>\n",
       "      <td>0.0</td>\n",
       "      <td>0.0</td>\n",
       "      <td>8486.518317</td>\n",
       "    </tr>\n",
       "    <tr>\n",
       "      <th>210</th>\n",
       "      <td>44900232</td>\n",
       "      <td>1610612744</td>\n",
       "      <td>1610612755</td>\n",
       "      <td>41949</td>\n",
       "      <td>Playoffs</td>\n",
       "      <td>L</td>\n",
       "      <td>W</td>\n",
       "      <td>53.0</td>\n",
       "      <td>59.0</td>\n",
       "      <td>-6</td>\n",
       "      <td>6</td>\n",
       "      <td>0</td>\n",
       "      <td>1950-03-23</td>\n",
       "      <td>NaN</td>\n",
       "      <td>1949</td>\n",
       "      <td>Regulation</td>\n",
       "      <td>Thursday</td>\n",
       "      <td>3</td>\n",
       "      <td>Golden State Warriors</td>\n",
       "      <td>GSW</td>\n",
       "      <td>Golden State</td>\n",
       "      <td>California</td>\n",
       "      <td>1946</td>\n",
       "      <td>Chase Center</td>\n",
       "      <td>18064.0</td>\n",
       "      <td>16.803337</td>\n",
       "      <td>96.178660</td>\n",
       "      <td>Philadelphia 76ers</td>\n",
       "      <td>PHI</td>\n",
       "      <td>Philadelphia</td>\n",
       "      <td>Pennsylvania</td>\n",
       "      <td>1949</td>\n",
       "      <td>Wells Fargo Center</td>\n",
       "      <td>20478.0</td>\n",
       "      <td>39.952724</td>\n",
       "      <td>-75.163526</td>\n",
       "      <td>NaN</td>\n",
       "      <td>0.0</td>\n",
       "      <td>2.0</td>\n",
       "      <td>0.0</td>\n",
       "      <td>1.0</td>\n",
       "      <td>0.0</td>\n",
       "      <td>1.0</td>\n",
       "      <td>2.0</td>\n",
       "      <td>1.0</td>\n",
       "      <td>1.0</td>\n",
       "      <td>53.0</td>\n",
       "      <td>76.0</td>\n",
       "      <td>64.5</td>\n",
       "      <td>53.0</td>\n",
       "      <td>76.0</td>\n",
       "      <td>0.000</td>\n",
       "      <td>0.0</td>\n",
       "      <td>0.0</td>\n",
       "      <td>NaN</td>\n",
       "      <td>5.0</td>\n",
       "      <td>4.0</td>\n",
       "      <td>4.0</td>\n",
       "      <td>0.0</td>\n",
       "      <td>1.0</td>\n",
       "      <td>4.0</td>\n",
       "      <td>9.0</td>\n",
       "      <td>4.0</td>\n",
       "      <td>5.0</td>\n",
       "      <td>358.0</td>\n",
       "      <td>376.0</td>\n",
       "      <td>81.6</td>\n",
       "      <td>89.5</td>\n",
       "      <td>75.2</td>\n",
       "      <td>0.556</td>\n",
       "      <td>1.0</td>\n",
       "      <td>0.2</td>\n",
       "      <td>8486.518317</td>\n",
       "    </tr>\n",
       "  </tbody>\n",
       "</table>\n",
       "</div>"
      ],
      "text/plain": [
       "      game_id  team_id_home  team_id_away  season_id season_type wl_home wl_away  pts_home  pts_away  plus_minus_home  plus_minus_away  min  game_date  attendance  season game_duration day_of_week  month    full_name_home_team abbreviation_home_team city_home_team state_home_team  year_founded_home_team        arena_home_team  arenacapacity_home_team  latitude_home_team  longitude_home_team    full_name_away_team abbreviation_away_team city_away_team state_away_team  year_founded_away_team        arena_away_team  arenacapacity_away_team  latitude_away_team  longitude_away_team  avg_attendance_home_team  season_w_home_team  season_l_home_team  wins_at_home_home_team  losses_at_home_home_team  away_wins_home_team  away_losses_home_team  games_this_season_home_team  games_at_home_home_team  away_games_home_team  total_pts_at_home_home_team  total_away_pts_home_team  season_pts_pg_home_team  pts_pg_at_home_home_team  away_pts_pg_home_team  season_win_pct_home_team  \\\n",
       "13   44600211    1610612744    1610612752      41946    Playoffs       W       L      82.0      70.0               12              -12    0 1947-04-12         NaN    1946    Regulation    Saturday      4  Golden State Warriors                    GSW   Golden State      California                    1946           Chase Center                  18064.0           16.803337            96.178660        New York Knicks                    NYK       New York        New York                    1946  Madison Square Garden                  19763.0           40.712728           -74.006015                       NaN                 2.0                 0.0                     1.0                       0.0                  1.0                    0.0                          2.0                      1.0                   1.0                         82.0                      72.0                     77.0                      82.0                   72.0                     1.000   \n",
       "14   44600212    1610612752    1610612744      41946    Playoffs       L       W      53.0      72.0              -19               19    0 1947-04-14      4607.0    1946    Regulation      Monday      4        New York Knicks                    NYK       New York        New York                    1946  Madison Square Garden                  19763.0           40.712728           -74.006015  Golden State Warriors                    GSW   Golden State      California                    1946           Chase Center                  18064.0           16.803337            96.178660                    4607.0                 0.0                 2.0                     0.0                       1.0                  0.0                    1.0                          2.0                      1.0                   1.0                         53.0                      70.0                     61.5                      53.0                   70.0                     0.000   \n",
       "106  44800312    1610612747    1610612758      41948    Playoffs       W       L      67.0      55.0               12              -12    0 1949-03-29     10412.0    1948    Regulation     Tuesday      3     Los Angeles Lakers                    LAL    Los Angeles      California                    1948       Crypto.com Arena                  19060.0           34.053691          -118.242766       Sacramento Kings                    SAC     Sacramento      California                    1948        Golden 1 Center                  17500.0           38.581061          -121.493895                   10412.0                 1.0                 0.0                     1.0                       0.0                  0.0                    0.0                          0.0                      1.0                   0.0                         67.0                       0.0                     67.0                      67.0                    0.0                     1.000   \n",
       "209  44900231    1610612755    1610612744      41949    Playoffs       W       L      93.0      76.0               17              -17    0 1950-03-22         NaN    1949    Regulation   Wednesday      3     Philadelphia 76ers                    PHI   Philadelphia    Pennsylvania                    1949     Wells Fargo Center                  20478.0           39.952724           -75.163526  Golden State Warriors                    GSW   Golden State      California                    1946           Chase Center                  18064.0           16.803337            96.178660                       NaN                 5.0                 4.0                     4.0                       0.0                  1.0                    4.0                          9.0                      4.0                   5.0                        358.0                     376.0                     81.6                      89.5                   75.2                     0.556   \n",
       "210  44900232    1610612744    1610612755      41949    Playoffs       L       W      53.0      59.0               -6                6    0 1950-03-23         NaN    1949    Regulation    Thursday      3  Golden State Warriors                    GSW   Golden State      California                    1946           Chase Center                  18064.0           16.803337            96.178660     Philadelphia 76ers                    PHI   Philadelphia    Pennsylvania                    1949     Wells Fargo Center                  20478.0           39.952724           -75.163526                       NaN                 0.0                 2.0                     0.0                       1.0                  0.0                    1.0                          2.0                      1.0                   1.0                         53.0                      76.0                     64.5                      53.0                   76.0                     0.000   \n",
       "\n",
       "     season_win_pct_at_home_home_team  season_away_win_pct_home_team  avg_attendance_away_team  season_w_away_team  season_l_away_team  wins_at_home_away_team  losses_at_home_away_team  away_wins_away_team  away_losses_away_team  games_this_season_away_team  games_at_home_away_team  away_games_away_team  total_pts_at_home_away_team  total_away_pts_away_team  season_pts_pg_away_team  pts_pg_at_home_away_team  away_pts_pg_away_team  season_win_pct_away_team  season_win_pct_at_home_away_team  season_away_win_pct_away_team  distance_miles  \n",
       "13                                1.0                            1.0                    4607.0                 0.0                 2.0                     0.0                       1.0                  0.0                    1.0                          2.0                      1.0                   1.0                         53.0                      70.0                     61.5                      53.0                   70.0                     0.000                               0.0                            0.0     8423.892467  \n",
       "14                                0.0                            0.0                       NaN                 2.0                 0.0                     1.0                       0.0                  1.0                    0.0                          2.0                      1.0                   1.0                         82.0                      72.0                     77.0                      82.0                   72.0                     1.000                               1.0                            1.0     8423.892467  \n",
       "106                               1.0                            0.0                       NaN                 0.0                 1.0                     0.0                       0.0                  0.0                    1.0                          0.0                      0.0                   1.0                          0.0                      55.0                     55.0                       0.0                   55.0                     0.000                               0.0                            0.0      360.983358  \n",
       "209                               1.0                            0.2                       NaN                 0.0                 2.0                     0.0                       1.0                  0.0                    1.0                          2.0                      1.0                   1.0                         53.0                      76.0                     64.5                      53.0                   76.0                     0.000                               0.0                            0.0     8486.518317  \n",
       "210                               0.0                            0.0                       NaN                 5.0                 4.0                     4.0                       0.0                  1.0                    4.0                          9.0                      4.0                   5.0                        358.0                     376.0                     81.6                      89.5                   75.2                     0.556                               1.0                            0.2     8486.518317  "
      ]
     },
     "execution_count": 191,
     "metadata": {},
     "output_type": "execute_result"
    }
   ],
   "source": [
    "# Filter the DataFrame to include only regular season and playoff games\n",
    "filtered_df = combined_df[combined_df['season_type'].isin(['Regular', 'Playoffs'])]\n",
    "\n",
    "# Display the filtered DataFrame to verify\n",
    "filtered_df.head()"
   ]
  },
  {
   "cell_type": "code",
   "execution_count": 192,
   "metadata": {},
   "outputs": [
    {
     "data": {
      "text/html": [
       "<div>\n",
       "<style scoped>\n",
       "    .dataframe tbody tr th:only-of-type {\n",
       "        vertical-align: middle;\n",
       "    }\n",
       "\n",
       "    .dataframe tbody tr th {\n",
       "        vertical-align: top;\n",
       "    }\n",
       "\n",
       "    .dataframe thead th {\n",
       "        text-align: right;\n",
       "    }\n",
       "</style>\n",
       "<table border=\"1\" class=\"dataframe\">\n",
       "  <thead>\n",
       "    <tr style=\"text-align: right;\">\n",
       "      <th></th>\n",
       "      <th>team</th>\n",
       "      <th>season</th>\n",
       "      <th>made_playoffs_home</th>\n",
       "      <th>made_playoffs_away</th>\n",
       "    </tr>\n",
       "  </thead>\n",
       "  <tbody>\n",
       "    <tr>\n",
       "      <th>0</th>\n",
       "      <td>1610612737</td>\n",
       "      <td>1955</td>\n",
       "      <td>True</td>\n",
       "      <td>True</td>\n",
       "    </tr>\n",
       "    <tr>\n",
       "      <th>1</th>\n",
       "      <td>1610612737</td>\n",
       "      <td>1956</td>\n",
       "      <td>True</td>\n",
       "      <td>True</td>\n",
       "    </tr>\n",
       "    <tr>\n",
       "      <th>2</th>\n",
       "      <td>1610612737</td>\n",
       "      <td>1959</td>\n",
       "      <td>True</td>\n",
       "      <td>True</td>\n",
       "    </tr>\n",
       "    <tr>\n",
       "      <th>3</th>\n",
       "      <td>1610612737</td>\n",
       "      <td>1962</td>\n",
       "      <td>True</td>\n",
       "      <td>True</td>\n",
       "    </tr>\n",
       "    <tr>\n",
       "      <th>4</th>\n",
       "      <td>1610612737</td>\n",
       "      <td>1963</td>\n",
       "      <td>True</td>\n",
       "      <td>True</td>\n",
       "    </tr>\n",
       "  </tbody>\n",
       "</table>\n",
       "</div>"
      ],
      "text/plain": [
       "         team  season made_playoffs_home made_playoffs_away\n",
       "0  1610612737    1955               True               True\n",
       "1  1610612737    1956               True               True\n",
       "2  1610612737    1959               True               True\n",
       "3  1610612737    1962               True               True\n",
       "4  1610612737    1963               True               True"
      ]
     },
     "execution_count": 192,
     "metadata": {},
     "output_type": "execute_result"
    }
   ],
   "source": [
    "# Determine playoff participation for home teams\n",
    "home_playoffs = filtered_df.groupby(['team_id_home', 'season'])['season_type'].apply(lambda x: 'Playoffs' in x.values).reset_index()\n",
    "home_playoffs.rename(columns={'team_id_home': 'team', 'season_type': 'made_playoffs_home'}, inplace=True)\n",
    "\n",
    "# Determine playoff participation for away teams\n",
    "away_playoffs = filtered_df.groupby(['team_id_away', 'season'])['season_type'].apply(lambda x: 'Playoffs' in x.values).reset_index()\n",
    "away_playoffs.rename(columns={'team_id_away': 'team', 'season_type': 'made_playoffs_away'}, inplace=True)\n",
    "\n",
    "# Merge the home and away playoff statuses\n",
    "playoff_teams = pd.merge(home_playoffs, away_playoffs, on=['team', 'season'], how='outer')\n",
    "\n",
    "# Display the playoff_teams DataFrame\n",
    "playoff_teams.head()"
   ]
  },
  {
   "cell_type": "code",
   "execution_count": 193,
   "metadata": {},
   "outputs": [],
   "source": [
    "# Fill NaN values with 0 and convert to boolean\n",
    "playoff_teams['made_playoffs_home'] = playoff_teams['made_playoffs_home'].fillna(0).astype(bool)\n",
    "playoff_teams['made_playoffs_away'] = playoff_teams['made_playoffs_away'].fillna(0).astype(bool)"
   ]
  },
  {
   "cell_type": "code",
   "execution_count": 194,
   "metadata": {},
   "outputs": [
    {
     "data": {
      "text/html": [
       "<div>\n",
       "<style scoped>\n",
       "    .dataframe tbody tr th:only-of-type {\n",
       "        vertical-align: middle;\n",
       "    }\n",
       "\n",
       "    .dataframe tbody tr th {\n",
       "        vertical-align: top;\n",
       "    }\n",
       "\n",
       "    .dataframe thead th {\n",
       "        text-align: right;\n",
       "    }\n",
       "</style>\n",
       "<table border=\"1\" class=\"dataframe\">\n",
       "  <thead>\n",
       "    <tr style=\"text-align: right;\">\n",
       "      <th></th>\n",
       "      <th>team</th>\n",
       "      <th>season</th>\n",
       "      <th>prev_playoffs</th>\n",
       "    </tr>\n",
       "  </thead>\n",
       "  <tbody>\n",
       "    <tr>\n",
       "      <th>0</th>\n",
       "      <td>1610612737</td>\n",
       "      <td>1955</td>\n",
       "      <td>True</td>\n",
       "    </tr>\n",
       "    <tr>\n",
       "      <th>1</th>\n",
       "      <td>1610612737</td>\n",
       "      <td>1956</td>\n",
       "      <td>True</td>\n",
       "    </tr>\n",
       "    <tr>\n",
       "      <th>2</th>\n",
       "      <td>1610612737</td>\n",
       "      <td>1959</td>\n",
       "      <td>True</td>\n",
       "    </tr>\n",
       "    <tr>\n",
       "      <th>3</th>\n",
       "      <td>1610612737</td>\n",
       "      <td>1962</td>\n",
       "      <td>True</td>\n",
       "    </tr>\n",
       "    <tr>\n",
       "      <th>4</th>\n",
       "      <td>1610612737</td>\n",
       "      <td>1963</td>\n",
       "      <td>True</td>\n",
       "    </tr>\n",
       "  </tbody>\n",
       "</table>\n",
       "</div>"
      ],
      "text/plain": [
       "         team  season  prev_playoffs\n",
       "0  1610612737    1955           True\n",
       "1  1610612737    1956           True\n",
       "2  1610612737    1959           True\n",
       "3  1610612737    1962           True\n",
       "4  1610612737    1963           True"
      ]
     },
     "execution_count": 194,
     "metadata": {},
     "output_type": "execute_result"
    }
   ],
   "source": [
    "# Combine the home and away playoff statuses\n",
    "playoff_teams['prev_playoffs'] = playoff_teams[['made_playoffs_home', 'made_playoffs_away']].max(axis=1)\n",
    "\n",
    "# Drop the intermediate columns\n",
    "playoff_teams = playoff_teams.drop(columns=['made_playoffs_home', 'made_playoffs_away'])\n",
    "\n",
    "# Display the playoff_teams DataFrame\n",
    "playoff_teams.head()"
   ]
  },
  {
   "cell_type": "code",
   "execution_count": 195,
   "metadata": {},
   "outputs": [
    {
     "name": "stderr",
     "output_type": "stream",
     "text": [
      "/var/folders/7z/gr96tjyj6gb84p0c2xk4xfr40000gn/T/ipykernel_19064/2003544979.py:5: FutureWarning: Downcasting object dtype arrays on .fillna, .ffill, .bfill is deprecated and will change in a future version. Call result.infer_objects(copy=False) instead. To opt-in to the future behavior, set `pd.set_option('future.no_silent_downcasting', True)`\n",
      "  all_teams_seasons['prev_playoffs'] = all_teams_seasons['prev_playoffs'].fillna(False).astype(bool)\n"
     ]
    },
    {
     "data": {
      "text/html": [
       "<div>\n",
       "<style scoped>\n",
       "    .dataframe tbody tr th:only-of-type {\n",
       "        vertical-align: middle;\n",
       "    }\n",
       "\n",
       "    .dataframe tbody tr th {\n",
       "        vertical-align: top;\n",
       "    }\n",
       "\n",
       "    .dataframe thead th {\n",
       "        text-align: right;\n",
       "    }\n",
       "</style>\n",
       "<table border=\"1\" class=\"dataframe\">\n",
       "  <thead>\n",
       "    <tr style=\"text-align: right;\">\n",
       "      <th></th>\n",
       "      <th>team</th>\n",
       "      <th>season</th>\n",
       "      <th>merge_season</th>\n",
       "      <th>prev_playoffs</th>\n",
       "    </tr>\n",
       "  </thead>\n",
       "  <tbody>\n",
       "    <tr>\n",
       "      <th>0</th>\n",
       "      <td>1610612737</td>\n",
       "      <td>1946</td>\n",
       "      <td>1947</td>\n",
       "      <td>False</td>\n",
       "    </tr>\n",
       "    <tr>\n",
       "      <th>1</th>\n",
       "      <td>1610612737</td>\n",
       "      <td>1947</td>\n",
       "      <td>1948</td>\n",
       "      <td>False</td>\n",
       "    </tr>\n",
       "    <tr>\n",
       "      <th>2</th>\n",
       "      <td>1610612737</td>\n",
       "      <td>1948</td>\n",
       "      <td>1949</td>\n",
       "      <td>False</td>\n",
       "    </tr>\n",
       "    <tr>\n",
       "      <th>3</th>\n",
       "      <td>1610612737</td>\n",
       "      <td>1949</td>\n",
       "      <td>1950</td>\n",
       "      <td>False</td>\n",
       "    </tr>\n",
       "    <tr>\n",
       "      <th>4</th>\n",
       "      <td>1610612737</td>\n",
       "      <td>1950</td>\n",
       "      <td>1951</td>\n",
       "      <td>False</td>\n",
       "    </tr>\n",
       "  </tbody>\n",
       "</table>\n",
       "</div>"
      ],
      "text/plain": [
       "         team  season  merge_season  prev_playoffs\n",
       "0  1610612737    1946          1947          False\n",
       "1  1610612737    1947          1948          False\n",
       "2  1610612737    1948          1949          False\n",
       "3  1610612737    1949          1950          False\n",
       "4  1610612737    1950          1951          False"
      ]
     },
     "execution_count": 195,
     "metadata": {},
     "output_type": "execute_result"
    }
   ],
   "source": [
    "# Merge all teams and seasons with the playoff status\n",
    "all_teams_seasons = pd.merge(all_teams_seasons, playoff_teams, on=['team', 'season'], how='left')\n",
    "\n",
    "# Fill NaN values with False\n",
    "all_teams_seasons['prev_playoffs'] = all_teams_seasons['prev_playoffs'].fillna(False).astype(bool)\n",
    "\n",
    "# Display the all_teams_seasons DataFrame\n",
    "all_teams_seasons.head()"
   ]
  },
  {
   "cell_type": "code",
   "execution_count": 196,
   "metadata": {},
   "outputs": [],
   "source": [
    "# Drop season column\n",
    "all_teams_seasons.drop('season', axis=1, inplace=True)"
   ]
  },
  {
   "cell_type": "code",
   "execution_count": 198,
   "metadata": {},
   "outputs": [
    {
     "data": {
      "text/plain": [
       "(56362, 73)"
      ]
     },
     "execution_count": 198,
     "metadata": {},
     "output_type": "execute_result"
    }
   ],
   "source": [
    "combined_df.shape"
   ]
  },
  {
   "cell_type": "code",
   "execution_count": 199,
   "metadata": {},
   "outputs": [
    {
     "data": {
      "text/html": [
       "<div>\n",
       "<style scoped>\n",
       "    .dataframe tbody tr th:only-of-type {\n",
       "        vertical-align: middle;\n",
       "    }\n",
       "\n",
       "    .dataframe tbody tr th {\n",
       "        vertical-align: top;\n",
       "    }\n",
       "\n",
       "    .dataframe thead th {\n",
       "        text-align: right;\n",
       "    }\n",
       "</style>\n",
       "<table border=\"1\" class=\"dataframe\">\n",
       "  <thead>\n",
       "    <tr style=\"text-align: right;\">\n",
       "      <th></th>\n",
       "      <th>game_id</th>\n",
       "      <th>team_id_home</th>\n",
       "      <th>team_id_away</th>\n",
       "      <th>season_id</th>\n",
       "      <th>season_type</th>\n",
       "      <th>wl_home</th>\n",
       "      <th>wl_away</th>\n",
       "      <th>pts_home</th>\n",
       "      <th>pts_away</th>\n",
       "      <th>plus_minus_home</th>\n",
       "      <th>plus_minus_away</th>\n",
       "      <th>min</th>\n",
       "      <th>game_date</th>\n",
       "      <th>attendance</th>\n",
       "      <th>season</th>\n",
       "      <th>game_duration</th>\n",
       "      <th>day_of_week</th>\n",
       "      <th>month</th>\n",
       "      <th>full_name_home_team</th>\n",
       "      <th>abbreviation_home_team</th>\n",
       "      <th>city_home_team</th>\n",
       "      <th>state_home_team</th>\n",
       "      <th>year_founded_home_team</th>\n",
       "      <th>arena_home_team</th>\n",
       "      <th>arenacapacity_home_team</th>\n",
       "      <th>latitude_home_team</th>\n",
       "      <th>longitude_home_team</th>\n",
       "      <th>full_name_away_team</th>\n",
       "      <th>abbreviation_away_team</th>\n",
       "      <th>city_away_team</th>\n",
       "      <th>state_away_team</th>\n",
       "      <th>year_founded_away_team</th>\n",
       "      <th>arena_away_team</th>\n",
       "      <th>arenacapacity_away_team</th>\n",
       "      <th>latitude_away_team</th>\n",
       "      <th>longitude_away_team</th>\n",
       "      <th>avg_attendance_home_team</th>\n",
       "      <th>season_w_home_team</th>\n",
       "      <th>season_l_home_team</th>\n",
       "      <th>wins_at_home_home_team</th>\n",
       "      <th>losses_at_home_home_team</th>\n",
       "      <th>away_wins_home_team</th>\n",
       "      <th>away_losses_home_team</th>\n",
       "      <th>games_this_season_home_team</th>\n",
       "      <th>games_at_home_home_team</th>\n",
       "      <th>away_games_home_team</th>\n",
       "      <th>total_pts_at_home_home_team</th>\n",
       "      <th>total_away_pts_home_team</th>\n",
       "      <th>season_pts_pg_home_team</th>\n",
       "      <th>pts_pg_at_home_home_team</th>\n",
       "      <th>away_pts_pg_home_team</th>\n",
       "      <th>season_win_pct_home_team</th>\n",
       "      <th>season_win_pct_at_home_home_team</th>\n",
       "      <th>season_away_win_pct_home_team</th>\n",
       "      <th>avg_attendance_away_team</th>\n",
       "      <th>season_w_away_team</th>\n",
       "      <th>season_l_away_team</th>\n",
       "      <th>wins_at_home_away_team</th>\n",
       "      <th>losses_at_home_away_team</th>\n",
       "      <th>away_wins_away_team</th>\n",
       "      <th>away_losses_away_team</th>\n",
       "      <th>games_this_season_away_team</th>\n",
       "      <th>games_at_home_away_team</th>\n",
       "      <th>away_games_away_team</th>\n",
       "      <th>total_pts_at_home_away_team</th>\n",
       "      <th>total_away_pts_away_team</th>\n",
       "      <th>season_pts_pg_away_team</th>\n",
       "      <th>pts_pg_at_home_away_team</th>\n",
       "      <th>away_pts_pg_away_team</th>\n",
       "      <th>season_win_pct_away_team</th>\n",
       "      <th>season_win_pct_at_home_away_team</th>\n",
       "      <th>season_away_win_pct_away_team</th>\n",
       "      <th>distance_miles</th>\n",
       "      <th>prev_playoffs_home_team</th>\n",
       "      <th>prev_playoffs_away_team</th>\n",
       "    </tr>\n",
       "  </thead>\n",
       "  <tbody>\n",
       "    <tr>\n",
       "      <th>0</th>\n",
       "      <td>24700006</td>\n",
       "      <td>1610612738</td>\n",
       "      <td>1610612744</td>\n",
       "      <td>21947</td>\n",
       "      <td>Regular Season</td>\n",
       "      <td>L</td>\n",
       "      <td>W</td>\n",
       "      <td>74.0</td>\n",
       "      <td>79.0</td>\n",
       "      <td>-5</td>\n",
       "      <td>5</td>\n",
       "      <td>0</td>\n",
       "      <td>1947-11-14</td>\n",
       "      <td>NaN</td>\n",
       "      <td>1947</td>\n",
       "      <td>Regulation</td>\n",
       "      <td>Friday</td>\n",
       "      <td>11</td>\n",
       "      <td>Boston Celtics</td>\n",
       "      <td>BOS</td>\n",
       "      <td>Boston</td>\n",
       "      <td>Massachusetts</td>\n",
       "      <td>1946</td>\n",
       "      <td>TD Garden</td>\n",
       "      <td>18624.0</td>\n",
       "      <td>42.355433</td>\n",
       "      <td>-71.060511</td>\n",
       "      <td>Golden State Warriors</td>\n",
       "      <td>GSW</td>\n",
       "      <td>Golden State</td>\n",
       "      <td>California</td>\n",
       "      <td>1946</td>\n",
       "      <td>Chase Center</td>\n",
       "      <td>18064.0</td>\n",
       "      <td>16.803337</td>\n",
       "      <td>96.178660</td>\n",
       "      <td>NaN</td>\n",
       "      <td>4.0</td>\n",
       "      <td>9.0</td>\n",
       "      <td>2.0</td>\n",
       "      <td>4.0</td>\n",
       "      <td>2.0</td>\n",
       "      <td>5.0</td>\n",
       "      <td>13.0</td>\n",
       "      <td>6.0</td>\n",
       "      <td>7.0</td>\n",
       "      <td>413.0</td>\n",
       "      <td>438.0</td>\n",
       "      <td>65.5</td>\n",
       "      <td>68.8</td>\n",
       "      <td>62.6</td>\n",
       "      <td>0.308</td>\n",
       "      <td>0.333</td>\n",
       "      <td>0.286</td>\n",
       "      <td>NaN</td>\n",
       "      <td>8.0</td>\n",
       "      <td>7.0</td>\n",
       "      <td>3.0</td>\n",
       "      <td>4.0</td>\n",
       "      <td>5.0</td>\n",
       "      <td>3.0</td>\n",
       "      <td>15.0</td>\n",
       "      <td>7.0</td>\n",
       "      <td>8.0</td>\n",
       "      <td>471.0</td>\n",
       "      <td>554.0</td>\n",
       "      <td>68.3</td>\n",
       "      <td>67.3</td>\n",
       "      <td>69.2</td>\n",
       "      <td>0.533</td>\n",
       "      <td>0.429</td>\n",
       "      <td>0.625</td>\n",
       "      <td>8280.107619</td>\n",
       "      <td>False</td>\n",
       "      <td>True</td>\n",
       "    </tr>\n",
       "    <tr>\n",
       "      <th>1</th>\n",
       "      <td>24700020</td>\n",
       "      <td>1610612752</td>\n",
       "      <td>1610612744</td>\n",
       "      <td>21947</td>\n",
       "      <td>Regular Season</td>\n",
       "      <td>L</td>\n",
       "      <td>W</td>\n",
       "      <td>78.0</td>\n",
       "      <td>83.0</td>\n",
       "      <td>-5</td>\n",
       "      <td>5</td>\n",
       "      <td>0</td>\n",
       "      <td>1947-11-22</td>\n",
       "      <td>NaN</td>\n",
       "      <td>1947</td>\n",
       "      <td>Regulation</td>\n",
       "      <td>Saturday</td>\n",
       "      <td>11</td>\n",
       "      <td>New York Knicks</td>\n",
       "      <td>NYK</td>\n",
       "      <td>New York</td>\n",
       "      <td>New York</td>\n",
       "      <td>1946</td>\n",
       "      <td>Madison Square Garden</td>\n",
       "      <td>19763.0</td>\n",
       "      <td>40.712728</td>\n",
       "      <td>-74.006015</td>\n",
       "      <td>Golden State Warriors</td>\n",
       "      <td>GSW</td>\n",
       "      <td>Golden State</td>\n",
       "      <td>California</td>\n",
       "      <td>1946</td>\n",
       "      <td>Chase Center</td>\n",
       "      <td>18064.0</td>\n",
       "      <td>16.803337</td>\n",
       "      <td>96.178660</td>\n",
       "      <td>NaN</td>\n",
       "      <td>9.0</td>\n",
       "      <td>5.0</td>\n",
       "      <td>4.0</td>\n",
       "      <td>4.0</td>\n",
       "      <td>5.0</td>\n",
       "      <td>1.0</td>\n",
       "      <td>14.0</td>\n",
       "      <td>8.0</td>\n",
       "      <td>6.0</td>\n",
       "      <td>563.0</td>\n",
       "      <td>471.0</td>\n",
       "      <td>73.9</td>\n",
       "      <td>70.4</td>\n",
       "      <td>78.5</td>\n",
       "      <td>0.643</td>\n",
       "      <td>0.500</td>\n",
       "      <td>0.833</td>\n",
       "      <td>NaN</td>\n",
       "      <td>8.0</td>\n",
       "      <td>7.0</td>\n",
       "      <td>3.0</td>\n",
       "      <td>4.0</td>\n",
       "      <td>5.0</td>\n",
       "      <td>3.0</td>\n",
       "      <td>15.0</td>\n",
       "      <td>7.0</td>\n",
       "      <td>8.0</td>\n",
       "      <td>471.0</td>\n",
       "      <td>554.0</td>\n",
       "      <td>68.3</td>\n",
       "      <td>67.3</td>\n",
       "      <td>69.2</td>\n",
       "      <td>0.533</td>\n",
       "      <td>0.429</td>\n",
       "      <td>0.625</td>\n",
       "      <td>8423.892467</td>\n",
       "      <td>True</td>\n",
       "      <td>True</td>\n",
       "    </tr>\n",
       "    <tr>\n",
       "      <th>2</th>\n",
       "      <td>24700024</td>\n",
       "      <td>1610612738</td>\n",
       "      <td>1610612752</td>\n",
       "      <td>21947</td>\n",
       "      <td>Regular Season</td>\n",
       "      <td>L</td>\n",
       "      <td>W</td>\n",
       "      <td>75.0</td>\n",
       "      <td>91.0</td>\n",
       "      <td>-16</td>\n",
       "      <td>16</td>\n",
       "      <td>0</td>\n",
       "      <td>1947-11-25</td>\n",
       "      <td>NaN</td>\n",
       "      <td>1947</td>\n",
       "      <td>Regulation</td>\n",
       "      <td>Tuesday</td>\n",
       "      <td>11</td>\n",
       "      <td>Boston Celtics</td>\n",
       "      <td>BOS</td>\n",
       "      <td>Boston</td>\n",
       "      <td>Massachusetts</td>\n",
       "      <td>1946</td>\n",
       "      <td>TD Garden</td>\n",
       "      <td>18624.0</td>\n",
       "      <td>42.355433</td>\n",
       "      <td>-71.060511</td>\n",
       "      <td>New York Knicks</td>\n",
       "      <td>NYK</td>\n",
       "      <td>New York</td>\n",
       "      <td>New York</td>\n",
       "      <td>1946</td>\n",
       "      <td>Madison Square Garden</td>\n",
       "      <td>19763.0</td>\n",
       "      <td>40.712728</td>\n",
       "      <td>-74.006015</td>\n",
       "      <td>NaN</td>\n",
       "      <td>4.0</td>\n",
       "      <td>9.0</td>\n",
       "      <td>2.0</td>\n",
       "      <td>4.0</td>\n",
       "      <td>2.0</td>\n",
       "      <td>5.0</td>\n",
       "      <td>13.0</td>\n",
       "      <td>6.0</td>\n",
       "      <td>7.0</td>\n",
       "      <td>413.0</td>\n",
       "      <td>438.0</td>\n",
       "      <td>65.5</td>\n",
       "      <td>68.8</td>\n",
       "      <td>62.6</td>\n",
       "      <td>0.308</td>\n",
       "      <td>0.333</td>\n",
       "      <td>0.286</td>\n",
       "      <td>NaN</td>\n",
       "      <td>9.0</td>\n",
       "      <td>5.0</td>\n",
       "      <td>4.0</td>\n",
       "      <td>4.0</td>\n",
       "      <td>5.0</td>\n",
       "      <td>1.0</td>\n",
       "      <td>14.0</td>\n",
       "      <td>8.0</td>\n",
       "      <td>6.0</td>\n",
       "      <td>563.0</td>\n",
       "      <td>471.0</td>\n",
       "      <td>73.9</td>\n",
       "      <td>70.4</td>\n",
       "      <td>78.5</td>\n",
       "      <td>0.643</td>\n",
       "      <td>0.500</td>\n",
       "      <td>0.833</td>\n",
       "      <td>190.193347</td>\n",
       "      <td>False</td>\n",
       "      <td>True</td>\n",
       "    </tr>\n",
       "    <tr>\n",
       "      <th>3</th>\n",
       "      <td>24700026</td>\n",
       "      <td>1610612752</td>\n",
       "      <td>1610612738</td>\n",
       "      <td>21947</td>\n",
       "      <td>Regular Season</td>\n",
       "      <td>L</td>\n",
       "      <td>W</td>\n",
       "      <td>63.0</td>\n",
       "      <td>65.0</td>\n",
       "      <td>-2</td>\n",
       "      <td>2</td>\n",
       "      <td>0</td>\n",
       "      <td>1947-11-26</td>\n",
       "      <td>NaN</td>\n",
       "      <td>1947</td>\n",
       "      <td>Regulation</td>\n",
       "      <td>Wednesday</td>\n",
       "      <td>11</td>\n",
       "      <td>New York Knicks</td>\n",
       "      <td>NYK</td>\n",
       "      <td>New York</td>\n",
       "      <td>New York</td>\n",
       "      <td>1946</td>\n",
       "      <td>Madison Square Garden</td>\n",
       "      <td>19763.0</td>\n",
       "      <td>40.712728</td>\n",
       "      <td>-74.006015</td>\n",
       "      <td>Boston Celtics</td>\n",
       "      <td>BOS</td>\n",
       "      <td>Boston</td>\n",
       "      <td>Massachusetts</td>\n",
       "      <td>1946</td>\n",
       "      <td>TD Garden</td>\n",
       "      <td>18624.0</td>\n",
       "      <td>42.355433</td>\n",
       "      <td>-71.060511</td>\n",
       "      <td>NaN</td>\n",
       "      <td>9.0</td>\n",
       "      <td>5.0</td>\n",
       "      <td>4.0</td>\n",
       "      <td>4.0</td>\n",
       "      <td>5.0</td>\n",
       "      <td>1.0</td>\n",
       "      <td>14.0</td>\n",
       "      <td>8.0</td>\n",
       "      <td>6.0</td>\n",
       "      <td>563.0</td>\n",
       "      <td>471.0</td>\n",
       "      <td>73.9</td>\n",
       "      <td>70.4</td>\n",
       "      <td>78.5</td>\n",
       "      <td>0.643</td>\n",
       "      <td>0.500</td>\n",
       "      <td>0.833</td>\n",
       "      <td>NaN</td>\n",
       "      <td>4.0</td>\n",
       "      <td>9.0</td>\n",
       "      <td>2.0</td>\n",
       "      <td>4.0</td>\n",
       "      <td>2.0</td>\n",
       "      <td>5.0</td>\n",
       "      <td>13.0</td>\n",
       "      <td>6.0</td>\n",
       "      <td>7.0</td>\n",
       "      <td>413.0</td>\n",
       "      <td>438.0</td>\n",
       "      <td>65.5</td>\n",
       "      <td>68.8</td>\n",
       "      <td>62.6</td>\n",
       "      <td>0.308</td>\n",
       "      <td>0.333</td>\n",
       "      <td>0.286</td>\n",
       "      <td>190.193347</td>\n",
       "      <td>True</td>\n",
       "      <td>False</td>\n",
       "    </tr>\n",
       "    <tr>\n",
       "      <th>4</th>\n",
       "      <td>24700028</td>\n",
       "      <td>1610612744</td>\n",
       "      <td>1610612752</td>\n",
       "      <td>21947</td>\n",
       "      <td>Regular Season</td>\n",
       "      <td>L</td>\n",
       "      <td>W</td>\n",
       "      <td>59.0</td>\n",
       "      <td>81.0</td>\n",
       "      <td>-22</td>\n",
       "      <td>22</td>\n",
       "      <td>0</td>\n",
       "      <td>1947-11-27</td>\n",
       "      <td>NaN</td>\n",
       "      <td>1947</td>\n",
       "      <td>Regulation</td>\n",
       "      <td>Thursday</td>\n",
       "      <td>11</td>\n",
       "      <td>Golden State Warriors</td>\n",
       "      <td>GSW</td>\n",
       "      <td>Golden State</td>\n",
       "      <td>California</td>\n",
       "      <td>1946</td>\n",
       "      <td>Chase Center</td>\n",
       "      <td>18064.0</td>\n",
       "      <td>16.803337</td>\n",
       "      <td>96.178660</td>\n",
       "      <td>New York Knicks</td>\n",
       "      <td>NYK</td>\n",
       "      <td>New York</td>\n",
       "      <td>New York</td>\n",
       "      <td>1946</td>\n",
       "      <td>Madison Square Garden</td>\n",
       "      <td>19763.0</td>\n",
       "      <td>40.712728</td>\n",
       "      <td>-74.006015</td>\n",
       "      <td>NaN</td>\n",
       "      <td>8.0</td>\n",
       "      <td>7.0</td>\n",
       "      <td>3.0</td>\n",
       "      <td>4.0</td>\n",
       "      <td>5.0</td>\n",
       "      <td>3.0</td>\n",
       "      <td>15.0</td>\n",
       "      <td>7.0</td>\n",
       "      <td>8.0</td>\n",
       "      <td>471.0</td>\n",
       "      <td>554.0</td>\n",
       "      <td>68.3</td>\n",
       "      <td>67.3</td>\n",
       "      <td>69.2</td>\n",
       "      <td>0.533</td>\n",
       "      <td>0.429</td>\n",
       "      <td>0.625</td>\n",
       "      <td>NaN</td>\n",
       "      <td>9.0</td>\n",
       "      <td>5.0</td>\n",
       "      <td>4.0</td>\n",
       "      <td>4.0</td>\n",
       "      <td>5.0</td>\n",
       "      <td>1.0</td>\n",
       "      <td>14.0</td>\n",
       "      <td>8.0</td>\n",
       "      <td>6.0</td>\n",
       "      <td>563.0</td>\n",
       "      <td>471.0</td>\n",
       "      <td>73.9</td>\n",
       "      <td>70.4</td>\n",
       "      <td>78.5</td>\n",
       "      <td>0.643</td>\n",
       "      <td>0.500</td>\n",
       "      <td>0.833</td>\n",
       "      <td>8423.892467</td>\n",
       "      <td>True</td>\n",
       "      <td>True</td>\n",
       "    </tr>\n",
       "  </tbody>\n",
       "</table>\n",
       "</div>"
      ],
      "text/plain": [
       "    game_id  team_id_home  team_id_away  season_id     season_type wl_home wl_away  pts_home  pts_away  plus_minus_home  plus_minus_away  min  game_date  attendance  season game_duration day_of_week  month    full_name_home_team abbreviation_home_team city_home_team state_home_team  year_founded_home_team        arena_home_team  arenacapacity_home_team  latitude_home_team  longitude_home_team    full_name_away_team abbreviation_away_team city_away_team state_away_team  year_founded_away_team        arena_away_team  arenacapacity_away_team  latitude_away_team  longitude_away_team  avg_attendance_home_team  season_w_home_team  season_l_home_team  wins_at_home_home_team  losses_at_home_home_team  away_wins_home_team  away_losses_home_team  games_this_season_home_team  games_at_home_home_team  away_games_home_team  total_pts_at_home_home_team  total_away_pts_home_team  season_pts_pg_home_team  pts_pg_at_home_home_team  away_pts_pg_home_team  season_win_pct_home_team  \\\n",
       "0  24700006    1610612738    1610612744      21947  Regular Season       L       W      74.0      79.0               -5                5    0 1947-11-14         NaN    1947    Regulation      Friday     11         Boston Celtics                    BOS         Boston   Massachusetts                    1946              TD Garden                  18624.0           42.355433           -71.060511  Golden State Warriors                    GSW   Golden State      California                    1946           Chase Center                  18064.0           16.803337            96.178660                       NaN                 4.0                 9.0                     2.0                       4.0                  2.0                    5.0                         13.0                      6.0                   7.0                        413.0                     438.0                     65.5                      68.8                   62.6                     0.308   \n",
       "1  24700020    1610612752    1610612744      21947  Regular Season       L       W      78.0      83.0               -5                5    0 1947-11-22         NaN    1947    Regulation    Saturday     11        New York Knicks                    NYK       New York        New York                    1946  Madison Square Garden                  19763.0           40.712728           -74.006015  Golden State Warriors                    GSW   Golden State      California                    1946           Chase Center                  18064.0           16.803337            96.178660                       NaN                 9.0                 5.0                     4.0                       4.0                  5.0                    1.0                         14.0                      8.0                   6.0                        563.0                     471.0                     73.9                      70.4                   78.5                     0.643   \n",
       "2  24700024    1610612738    1610612752      21947  Regular Season       L       W      75.0      91.0              -16               16    0 1947-11-25         NaN    1947    Regulation     Tuesday     11         Boston Celtics                    BOS         Boston   Massachusetts                    1946              TD Garden                  18624.0           42.355433           -71.060511        New York Knicks                    NYK       New York        New York                    1946  Madison Square Garden                  19763.0           40.712728           -74.006015                       NaN                 4.0                 9.0                     2.0                       4.0                  2.0                    5.0                         13.0                      6.0                   7.0                        413.0                     438.0                     65.5                      68.8                   62.6                     0.308   \n",
       "3  24700026    1610612752    1610612738      21947  Regular Season       L       W      63.0      65.0               -2                2    0 1947-11-26         NaN    1947    Regulation   Wednesday     11        New York Knicks                    NYK       New York        New York                    1946  Madison Square Garden                  19763.0           40.712728           -74.006015         Boston Celtics                    BOS         Boston   Massachusetts                    1946              TD Garden                  18624.0           42.355433           -71.060511                       NaN                 9.0                 5.0                     4.0                       4.0                  5.0                    1.0                         14.0                      8.0                   6.0                        563.0                     471.0                     73.9                      70.4                   78.5                     0.643   \n",
       "4  24700028    1610612744    1610612752      21947  Regular Season       L       W      59.0      81.0              -22               22    0 1947-11-27         NaN    1947    Regulation    Thursday     11  Golden State Warriors                    GSW   Golden State      California                    1946           Chase Center                  18064.0           16.803337            96.178660        New York Knicks                    NYK       New York        New York                    1946  Madison Square Garden                  19763.0           40.712728           -74.006015                       NaN                 8.0                 7.0                     3.0                       4.0                  5.0                    3.0                         15.0                      7.0                   8.0                        471.0                     554.0                     68.3                      67.3                   69.2                     0.533   \n",
       "\n",
       "   season_win_pct_at_home_home_team  season_away_win_pct_home_team  avg_attendance_away_team  season_w_away_team  season_l_away_team  wins_at_home_away_team  losses_at_home_away_team  away_wins_away_team  away_losses_away_team  games_this_season_away_team  games_at_home_away_team  away_games_away_team  total_pts_at_home_away_team  total_away_pts_away_team  season_pts_pg_away_team  pts_pg_at_home_away_team  away_pts_pg_away_team  season_win_pct_away_team  season_win_pct_at_home_away_team  season_away_win_pct_away_team  distance_miles  prev_playoffs_home_team  prev_playoffs_away_team  \n",
       "0                             0.333                          0.286                       NaN                 8.0                 7.0                     3.0                       4.0                  5.0                    3.0                         15.0                      7.0                   8.0                        471.0                     554.0                     68.3                      67.3                   69.2                     0.533                             0.429                          0.625     8280.107619                    False                     True  \n",
       "1                             0.500                          0.833                       NaN                 8.0                 7.0                     3.0                       4.0                  5.0                    3.0                         15.0                      7.0                   8.0                        471.0                     554.0                     68.3                      67.3                   69.2                     0.533                             0.429                          0.625     8423.892467                     True                     True  \n",
       "2                             0.333                          0.286                       NaN                 9.0                 5.0                     4.0                       4.0                  5.0                    1.0                         14.0                      8.0                   6.0                        563.0                     471.0                     73.9                      70.4                   78.5                     0.643                             0.500                          0.833      190.193347                    False                     True  \n",
       "3                             0.500                          0.833                       NaN                 4.0                 9.0                     2.0                       4.0                  2.0                    5.0                         13.0                      6.0                   7.0                        413.0                     438.0                     65.5                      68.8                   62.6                     0.308                             0.333                          0.286      190.193347                     True                    False  \n",
       "4                             0.429                          0.625                       NaN                 9.0                 5.0                     4.0                       4.0                  5.0                    1.0                         14.0                      8.0                   6.0                        563.0                     471.0                     73.9                      70.4                   78.5                     0.643                             0.500                          0.833     8423.892467                     True                     True  "
      ]
     },
     "execution_count": 199,
     "metadata": {},
     "output_type": "execute_result"
    }
   ],
   "source": [
    "# Merge to add all home team data\n",
    "combined_df = pd.merge(combined_df, all_teams_seasons, \n",
    "                               left_on=['team_id_home', 'season'], right_on=['team', 'merge_season'], suffixes=('', '_home_team'))\n",
    "\n",
    "# Drop the redundant team_id column from the home merge\n",
    "combined_df.drop('team', axis=1, inplace=True)\n",
    "# Drop the redundant prev_season column from the home merge\n",
    "combined_df.drop('merge_season', axis=1, inplace=True)\n",
    "\n",
    "# Merge to add all away team data\n",
    "combined_df = pd.merge(combined_df, all_teams_seasons, \n",
    "                           left_on=['team_id_away', 'season'], right_on=['team', 'merge_season'], suffixes=('_home_team', '_away_team'))\n",
    "\n",
    "# Drop the redundant team_id column from the away merge\n",
    "combined_df.drop('team', axis=1, inplace=True)\n",
    "# Drop the redundant prev_season column from the away merge\n",
    "combined_df.drop('merge_season', axis=1, inplace=True)\n",
    "\n",
    "# Updated dataframe\n",
    "combined_df.head()"
   ]
  },
  {
   "cell_type": "code",
   "execution_count": 200,
   "metadata": {},
   "outputs": [
    {
     "data": {
      "text/plain": [
       "(56323, 75)"
      ]
     },
     "execution_count": 200,
     "metadata": {},
     "output_type": "execute_result"
    }
   ],
   "source": [
    "# Merging effectively drops first season games with no previous season stats available\n",
    "combined_df.shape"
   ]
  },
  {
   "cell_type": "markdown",
   "metadata": {},
   "source": [
    "##### Attendance Metrics\n",
    "- Defining sell-out games (since I'm missing ticket sales, I'm using attendance to roughly calculate which games were sold likley \"sold-out\")\n",
    "- Calculating average attendance each season and classifying each games attendance as above or below average "
   ]
  },
  {
   "cell_type": "markdown",
   "metadata": {},
   "source": [
    "Attendance Ratio and Classifier"
   ]
  },
  {
   "cell_type": "code",
   "execution_count": 205,
   "metadata": {},
   "outputs": [
    {
     "data": {
      "text/html": [
       "<div>\n",
       "<style scoped>\n",
       "    .dataframe tbody tr th:only-of-type {\n",
       "        vertical-align: middle;\n",
       "    }\n",
       "\n",
       "    .dataframe tbody tr th {\n",
       "        vertical-align: top;\n",
       "    }\n",
       "\n",
       "    .dataframe thead th {\n",
       "        text-align: right;\n",
       "    }\n",
       "</style>\n",
       "<table border=\"1\" class=\"dataframe\">\n",
       "  <thead>\n",
       "    <tr style=\"text-align: right;\">\n",
       "      <th></th>\n",
       "      <th>attendance</th>\n",
       "      <th>arenacapacity_home_team</th>\n",
       "      <th>attendance_ratio</th>\n",
       "      <th>near_sell_out</th>\n",
       "    </tr>\n",
       "  </thead>\n",
       "  <tbody>\n",
       "    <tr>\n",
       "      <th>56318</th>\n",
       "      <td>19528.0</td>\n",
       "      <td>19520.0</td>\n",
       "      <td>1.000410</td>\n",
       "      <td>1</td>\n",
       "    </tr>\n",
       "    <tr>\n",
       "      <th>56319</th>\n",
       "      <td>19537.0</td>\n",
       "      <td>19520.0</td>\n",
       "      <td>1.000871</td>\n",
       "      <td>1</td>\n",
       "    </tr>\n",
       "    <tr>\n",
       "      <th>56320</th>\n",
       "      <td>20019.0</td>\n",
       "      <td>19600.0</td>\n",
       "      <td>1.021378</td>\n",
       "      <td>1</td>\n",
       "    </tr>\n",
       "    <tr>\n",
       "      <th>56321</th>\n",
       "      <td>20184.0</td>\n",
       "      <td>19600.0</td>\n",
       "      <td>1.029796</td>\n",
       "      <td>1</td>\n",
       "    </tr>\n",
       "    <tr>\n",
       "      <th>56322</th>\n",
       "      <td>19537.0</td>\n",
       "      <td>19520.0</td>\n",
       "      <td>1.000871</td>\n",
       "      <td>1</td>\n",
       "    </tr>\n",
       "  </tbody>\n",
       "</table>\n",
       "</div>"
      ],
      "text/plain": [
       "       attendance  arenacapacity_home_team  attendance_ratio  near_sell_out\n",
       "56318     19528.0                  19520.0          1.000410              1\n",
       "56319     19537.0                  19520.0          1.000871              1\n",
       "56320     20019.0                  19600.0          1.021378              1\n",
       "56321     20184.0                  19600.0          1.029796              1\n",
       "56322     19537.0                  19520.0          1.000871              1"
      ]
     },
     "execution_count": 205,
     "metadata": {},
     "output_type": "execute_result"
    }
   ],
   "source": [
    "# Calculate the attendance ratio using .loc\n",
    "combined_df.loc[:, 'attendance_ratio'] = combined_df['attendance'] / combined_df['arenacapacity_home_team']\n",
    "\n",
    "# Defining near sell-out as 90% or higher attendance using .loc\n",
    "combined_df.loc[:, 'near_sell_out'] = (combined_df['attendance_ratio'] >= 0.95).astype(int)\n",
    "\n",
    "# Display the first few rows to check the result\n",
    "combined_df[['attendance', 'arenacapacity_home_team', 'attendance_ratio', 'near_sell_out']].tail()"
   ]
  },
  {
   "cell_type": "markdown",
   "metadata": {},
   "source": [
    "Above average attendance classifier"
   ]
  },
  {
   "cell_type": "code",
   "execution_count": 206,
   "metadata": {},
   "outputs": [
    {
     "data": {
      "text/html": [
       "<div>\n",
       "<style scoped>\n",
       "    .dataframe tbody tr th:only-of-type {\n",
       "        vertical-align: middle;\n",
       "    }\n",
       "\n",
       "    .dataframe tbody tr th {\n",
       "        vertical-align: top;\n",
       "    }\n",
       "\n",
       "    .dataframe thead th {\n",
       "        text-align: right;\n",
       "    }\n",
       "</style>\n",
       "<table border=\"1\" class=\"dataframe\">\n",
       "  <thead>\n",
       "    <tr style=\"text-align: right;\">\n",
       "      <th></th>\n",
       "      <th>attendance</th>\n",
       "      <th>arenacapacity_home_team</th>\n",
       "      <th>avg_attendance_home_team</th>\n",
       "      <th>above_avg_attendance</th>\n",
       "    </tr>\n",
       "  </thead>\n",
       "  <tbody>\n",
       "    <tr>\n",
       "      <th>56318</th>\n",
       "      <td>19528.0</td>\n",
       "      <td>19520.0</td>\n",
       "      <td>19646.0</td>\n",
       "      <td>0</td>\n",
       "    </tr>\n",
       "    <tr>\n",
       "      <th>56319</th>\n",
       "      <td>19537.0</td>\n",
       "      <td>19520.0</td>\n",
       "      <td>19646.0</td>\n",
       "      <td>0</td>\n",
       "    </tr>\n",
       "    <tr>\n",
       "      <th>56320</th>\n",
       "      <td>20019.0</td>\n",
       "      <td>19600.0</td>\n",
       "      <td>19942.0</td>\n",
       "      <td>1</td>\n",
       "    </tr>\n",
       "    <tr>\n",
       "      <th>56321</th>\n",
       "      <td>20184.0</td>\n",
       "      <td>19600.0</td>\n",
       "      <td>19942.0</td>\n",
       "      <td>1</td>\n",
       "    </tr>\n",
       "    <tr>\n",
       "      <th>56322</th>\n",
       "      <td>19537.0</td>\n",
       "      <td>19520.0</td>\n",
       "      <td>19646.0</td>\n",
       "      <td>0</td>\n",
       "    </tr>\n",
       "  </tbody>\n",
       "</table>\n",
       "</div>"
      ],
      "text/plain": [
       "       attendance  arenacapacity_home_team  avg_attendance_home_team  above_avg_attendance\n",
       "56318     19528.0                  19520.0                   19646.0                     0\n",
       "56319     19537.0                  19520.0                   19646.0                     0\n",
       "56320     20019.0                  19600.0                   19942.0                     1\n",
       "56321     20184.0                  19600.0                   19942.0                     1\n",
       "56322     19537.0                  19520.0                   19646.0                     0"
      ]
     },
     "execution_count": 206,
     "metadata": {},
     "output_type": "execute_result"
    }
   ],
   "source": [
    "# Define new classification column for games with above average attendance\n",
    "combined_df.loc[:, 'above_avg_attendance'] = (combined_df['attendance'] > combined_df['avg_attendance_home_team']).astype(int)\n",
    "\n",
    "# Display the last few rows to check the result\n",
    "combined_df[['attendance', 'arenacapacity_home_team', 'avg_attendance_home_team', 'above_avg_attendance']].tail()"
   ]
  },
  {
   "cell_type": "markdown",
   "metadata": {},
   "source": [
    "## Exporting All Data"
   ]
  },
  {
   "cell_type": "code",
   "execution_count": null,
   "metadata": {},
   "outputs": [],
   "source": [
    "# # Optional\n",
    "# # Export team location info \n",
    "# team_location_df.to_csv('data/team_location.csv', index=False)\n",
    "\n",
    "# # Export transformed team and game data \n",
    "# game_df.to_csv('data/games.csv', index=False)\n",
    "# team_df.to_csv('data/teams.csv', index=False)\n",
    "\n",
    "# # Export new season stats data\n",
    "# season_stats.to_csv('data/season_stats.csv', index=False)"
   ]
  },
  {
   "cell_type": "markdown",
   "metadata": {},
   "source": [
    "Dropping columns\n",
    "- arena_away_team\n",
    "- arenacapacity_away_team\n",
    "- avg_attendance_away_team\n",
    "- min\n",
    "\n",
    "Reordering for readablity "
   ]
  },
  {
   "cell_type": "code",
   "execution_count": null,
   "metadata": {},
   "outputs": [],
   "source": [
    "combined_df.shape"
   ]
  },
  {
   "cell_type": "code",
   "execution_count": 209,
   "metadata": {},
   "outputs": [],
   "source": [
    "# Reorder and dropping columns\n",
    "combined_df = combined_df[['game_id', 'team_id_home', 'team_id_away', 'full_name_home_team', 'full_name_away_team', 'wl_home', 'wl_away',\n",
    "                             'game_date', 'day_of_week', 'month', 'game_duration',\n",
    "                             'season_id', 'season', 'season_type',\n",
    "                             'attendance', 'avg_attendance_home_team', 'above_avg_attendance', 'arenacapacity_home_team', 'attendance_ratio', 'near_sell_out',  \n",
    "                             'pts_home', 'pts_away', 'plus_minus_home', 'plus_minus_away', \n",
    "                             'abbreviation_home_team', 'city_home_team', 'state_home_team', 'year_founded_home_team', 'arena_home_team', 'latitude_home_team', 'longitude_home_team', 'distance_miles',\n",
    "                             'abbreviation_away_team', 'city_away_team', 'state_away_team', 'year_founded_away_team', 'latitude_away_team', 'longitude_away_team',  \n",
    "                             'season_w_home_team', 'season_l_home_team', 'wins_at_home_home_team', 'losses_at_home_home_team', 'away_wins_home_team', 'away_losses_home_team', 'games_this_season_home_team', 'games_at_home_home_team', 'away_games_home_team', 'total_pts_at_home_home_team', 'total_away_pts_home_team', 'season_pts_pg_home_team','pts_pg_at_home_home_team', 'away_pts_pg_home_team', 'season_win_pct_home_team', 'season_win_pct_at_home_home_team', 'season_away_win_pct_home_team', \n",
    "                             'season_w_away_team', 'season_l_away_team', 'wins_at_home_away_team', 'losses_at_home_away_team', 'away_wins_away_team', 'away_losses_away_team', 'games_this_season_away_team', 'games_at_home_away_team', 'away_games_away_team', 'total_pts_at_home_away_team', 'total_away_pts_away_team', 'season_pts_pg_away_team', 'pts_pg_at_home_away_team', 'away_pts_pg_away_team', 'season_win_pct_away_team', 'season_win_pct_at_home_away_team', 'season_away_win_pct_away_team',  \n",
    "                             'prev_playoffs_home_team', 'prev_playoffs_away_team']]\n",
    "combined_df.shape"
   ]
  },
  {
   "cell_type": "code",
   "execution_count": 210,
   "metadata": {},
   "outputs": [],
   "source": [
    "# Must export combined data for further analysis and modeling\n",
    "combined_df.to_csv('data/combined_data.csv', index=False)"
   ]
  },
  {
   "cell_type": "markdown",
   "metadata": {},
   "source": [
    "## Close Database Connection\n",
    "- Ensure connection has been closed if not closed earlier"
   ]
  },
  {
   "cell_type": "code",
   "execution_count": 9,
   "metadata": {},
   "outputs": [],
   "source": [
    "# Double check connection is closed\n",
    "close_connection()"
   ]
  }
 ],
 "metadata": {
  "kernelspec": {
   "display_name": "nba",
   "language": "python",
   "name": "python3"
  },
  "language_info": {
   "codemirror_mode": {
    "name": "ipython",
    "version": 3
   },
   "file_extension": ".py",
   "mimetype": "text/x-python",
   "name": "python",
   "nbconvert_exporter": "python",
   "pygments_lexer": "ipython3",
   "version": "3.12.4"
  }
 },
 "nbformat": 4,
 "nbformat_minor": 2
}
