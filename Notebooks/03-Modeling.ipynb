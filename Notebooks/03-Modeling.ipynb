{
 "cells": [
  {
   "cell_type": "markdown",
   "metadata": {},
   "source": [
    "# NBA Project Data Modeling\n",
    "Notebook 3"
   ]
  },
  {
   "cell_type": "markdown",
   "metadata": {},
   "source": [
    "## Purpose\n",
    "This notebook focuses on building and evaluating a predictive model to identify key factors that influence NBA game attendance. The analysis involves several steps:\n",
    "\n",
    "1. **Data Preprocessing:** Cleaning and preparing the dataset for modeling, including filtering out specific seasons and removing irrelevant or redundant features. Creating new features and reducing dimensionality to improve model performance.\n",
    "3. **Model Development:** Implementing a Logistic Regression model to predict game attendance, using a pipeline approach with hyperparameter tuning.\n",
    "4. **Model Evaluation:** Assessing the performance of the model through various metrics to determine its accuracy and predictive power.\n",
    "\n",
    "The ultimate goal is to identify the most significant predictors of game attendance, providing insights that can inform strategic decisions within the NBA."
   ]
  },
  {
   "cell_type": "markdown",
   "metadata": {},
   "source": [
    "## Table of Contents\n",
    "  - [Setup](#setup)\n",
    "  - [Processing Data for Modeling](#processing-data-for-modeling)\n",
    "    - [Preprocessing](#preprocessing)\n",
    "    - [Dimensionality Reduction](#dimensionality-reduction)\n",
    "  - [Identifying Attendance Predictors](#identifying-attendance-predictors)\n",
    "    - [Logistic Regression Model](#implementing-logistic-regression-model)\n",
    "    - [Evaluating Model](#evaluating-the-model)\n",
    "    - [Findings](#findings)\n",
    "  - [Summary](#summary)"
   ]
  },
  {
   "cell_type": "markdown",
   "metadata": {},
   "source": [
    "## Setup"
   ]
  },
  {
   "cell_type": "code",
   "execution_count": 1,
   "metadata": {},
   "outputs": [],
   "source": [
    "# Package Imports\n",
    "import pandas as pd\n",
    "import numpy as np\n",
    "import seaborn as sns\n",
    "import matplotlib.pyplot as plt\n",
    "from collections import Counter\n",
    "import os\n",
    "\n",
    "from sklearn.model_selection import train_test_split\n",
    "from sklearn.linear_model import LogisticRegression\n",
    "from sklearn.pipeline import Pipeline\n",
    "from sklearn.model_selection import GridSearchCV\n",
    "from sklearn.preprocessing import StandardScaler, MinMaxScaler, RobustScaler\n",
    "from sklearn.metrics import classification_report, confusion_matrix, accuracy_score\n"
   ]
  },
  {
   "cell_type": "code",
   "execution_count": 2,
   "metadata": {},
   "outputs": [],
   "source": [
    "# Pandas Options\n",
    "pd.set_option('display.max_columns', 100)\n",
    "pd.set_option('display.max_rows', 50)\n",
    "pd.set_option('display.max_colwidth', 100)\n",
    "pd.set_option('display.width', 1000)"
   ]
  },
  {
   "cell_type": "code",
   "execution_count": 3,
   "metadata": {},
   "outputs": [],
   "source": [
    "# Specify the directory where you want to save the Visuals\n",
    "save_dir = '../Visuals'\n",
    "os.makedirs(save_dir, exist_ok=True)  # Create the directory if it doesn't exist "
   ]
  },
  {
   "cell_type": "code",
   "execution_count": 4,
   "metadata": {},
   "outputs": [
    {
     "data": {
      "text/plain": [
       "(56323, 74)"
      ]
     },
     "execution_count": 4,
     "metadata": {},
     "output_type": "execute_result"
    }
   ],
   "source": [
    "# Read combined NBA data saved from EDA notebook\n",
    "combined_df = pd.read_csv('data/combined_data.csv')\n",
    "combined_df.shape"
   ]
  },
  {
   "cell_type": "markdown",
   "metadata": {},
   "source": [
    "## Processing Data for Modeling"
   ]
  },
  {
   "cell_type": "markdown",
   "metadata": {},
   "source": [
    "### Preprocessing"
   ]
  },
  {
   "cell_type": "markdown",
   "metadata": {},
   "source": [
    "##### Filtering Data Set"
   ]
  },
  {
   "cell_type": "markdown",
   "metadata": {},
   "source": [
    "Note: Filtering out seasons that were identified during data analysis that may affect modeling"
   ]
  },
  {
   "cell_type": "code",
   "execution_count": 5,
   "metadata": {},
   "outputs": [
    {
     "data": {
      "text/plain": [
       "(21932, 74)"
      ]
     },
     "execution_count": 5,
     "metadata": {},
     "output_type": "execute_result"
    }
   ],
   "source": [
    "# Filtering data to exclude certain seasons\n",
    "filtered_df = combined_df[\n",
    "    (combined_df['season'] > 2000) &\n",
    "    (combined_df['season'] != 2019) &\n",
    "    (combined_df['season'] != 2020) &\n",
    "    (combined_df['season'] != 2021) &\n",
    "    (combined_df['season'] != 2012)\n",
    "]\n",
    "filtered_df.shape"
   ]
  },
  {
   "cell_type": "code",
   "execution_count": 6,
   "metadata": {},
   "outputs": [
    {
     "data": {
      "text/plain": [
       "(21858, 74)"
      ]
     },
     "execution_count": 6,
     "metadata": {},
     "output_type": "execute_result"
    }
   ],
   "source": [
    "# Drop rows where values are missing in column 'attendance' in place\n",
    "filtered_df = filtered_df.dropna(subset=['attendance'])\n",
    "filtered_df.shape"
   ]
  },
  {
   "cell_type": "code",
   "execution_count": 7,
   "metadata": {},
   "outputs": [
    {
     "data": {
      "text/plain": [
       "Index(['game_id', 'team_id_home', 'team_id_away', 'full_name_home_team', 'full_name_away_team', 'wl_home', 'wl_away', 'game_date', 'day_of_week', 'month', 'game_duration', 'season_id', 'season', 'season_type', 'attendance', 'avg_attendance_home_team', 'above_avg_attendance', 'arenacapacity_home_team', 'attendance_ratio', 'near_sell_out', 'pts_home', 'pts_away', 'plus_minus_home', 'plus_minus_away', 'abbreviation_home_team', 'city_home_team', 'state_home_team', 'year_founded_home_team', 'arena_home_team', 'latitude_home_team', 'longitude_home_team', 'distance_miles', 'abbreviation_away_team', 'city_away_team', 'state_away_team', 'year_founded_away_team', 'latitude_away_team', 'longitude_away_team', 'season_w_home_team', 'season_l_home_team', 'wins_at_home_home_team', 'losses_at_home_home_team', 'away_wins_home_team', 'away_losses_home_team', 'games_this_season_home_team', 'games_at_home_home_team', 'away_games_home_team', 'total_pts_at_home_home_team', 'total_away_pts_home_team',\n",
       "       'season_pts_pg_home_team', 'pts_pg_at_home_home_team', 'away_pts_pg_home_team', 'season_win_pct_home_team', 'season_win_pct_at_home_home_team', 'season_away_win_pct_home_team', 'season_w_away_team', 'season_l_away_team', 'wins_at_home_away_team', 'losses_at_home_away_team', 'away_wins_away_team', 'away_losses_away_team', 'games_this_season_away_team', 'games_at_home_away_team', 'away_games_away_team', 'total_pts_at_home_away_team', 'total_away_pts_away_team', 'season_pts_pg_away_team', 'pts_pg_at_home_away_team', 'away_pts_pg_away_team', 'season_win_pct_away_team', 'season_win_pct_at_home_away_team', 'season_away_win_pct_away_team', 'prev_playoffs_home_team', 'prev_playoffs_away_team'],\n",
       "      dtype='object')"
      ]
     },
     "execution_count": 7,
     "metadata": {},
     "output_type": "execute_result"
    }
   ],
   "source": [
    "filtered_df.columns"
   ]
  },
  {
   "cell_type": "markdown",
   "metadata": {},
   "source": [
    "**Features to be Removed:** <br>\n",
    "\n",
    "Data not relevant to attendance:\n",
    "- year_founded_home_team\n",
    "- year_founded_away_team\n",
    "- game_id\n",
    "- game_duration\n",
    "\n",
    "Redundant Data:\n",
    "- season_id\n",
    "- attendance\n",
    "- attendance_ratio\n",
    "- near_sell_out\n",
    "- plus_minus_away\n",
    "- away_wins_home_team\n",
    "- away_losses_home_team\n",
    "- away_games_home_team\n",
    "- away_pts_pg_home_team\n",
    "- season_away_win_pct_home_team\n",
    "- wins_at_home_away_team\n",
    "- losses_at_home_away_team\n",
    "- games_at_home_away_team\n",
    "- total_pts_at_home_away_team\n",
    "- pts_pg_at_home_away_team\n",
    "- season_win_pct_at_home_away_team\n",
    "- latitude_home_team\n",
    "- longitude_home_team\n",
    "- latitude_away_team\n",
    "- longitude_away_team\n",
    "- avg_attendance_home_team\n",
    "\n",
    "\n",
    "Non-numerical data:\n",
    "- full_name_home_team\n",
    "- full_name_away_team\n",
    "- game_date\n",
    "- city_home_team\n",
    "- state_home_team\n",
    "- arena_home_team\n",
    "- abbreviation_home_team\n",
    "- city_away_team\n",
    "- state_away_team\n",
    "- abbreviation_away_team"
   ]
  },
  {
   "cell_type": "code",
   "execution_count": 8,
   "metadata": {},
   "outputs": [],
   "source": [
    "# Selecting relevant features\n",
    "features = ['team_id_home', 'team_id_away', 'wl_home', 'wl_away', 'distance_miles',\n",
    "            'day_of_week', 'month', 'season', 'season_type',\n",
    "            'above_avg_attendance', 'arenacapacity_home_team', \n",
    "            'pts_home', 'pts_away', 'plus_minus_home',\n",
    "            'season_w_home_team', 'season_l_home_team', 'wins_at_home_home_team', 'losses_at_home_home_team', 'games_this_season_home_team', 'games_at_home_home_team', 'total_pts_at_home_home_team', 'total_away_pts_home_team', 'season_pts_pg_home_team','pts_pg_at_home_home_team', 'season_win_pct_home_team', 'season_win_pct_at_home_home_team', \n",
    "            'season_w_away_team', 'season_l_away_team', 'away_wins_away_team', 'away_losses_away_team', 'games_this_season_away_team', 'away_games_away_team', 'total_away_pts_away_team', 'season_pts_pg_away_team', 'away_pts_pg_away_team', 'season_win_pct_away_team', 'season_away_win_pct_away_team',  \n",
    "            'prev_playoffs_home_team', 'prev_playoffs_away_team']"
   ]
  },
  {
   "cell_type": "code",
   "execution_count": 9,
   "metadata": {},
   "outputs": [
    {
     "data": {
      "text/plain": [
       "(21858, 39)"
      ]
     },
     "execution_count": 9,
     "metadata": {},
     "output_type": "execute_result"
    }
   ],
   "source": [
    "# Dropping irrelevant columns\n",
    "filtered_df = filtered_df[features]\n",
    "filtered_df.shape"
   ]
  },
  {
   "cell_type": "markdown",
   "metadata": {},
   "source": [
    "##### Mapping Values"
   ]
  },
  {
   "cell_type": "code",
   "execution_count": 10,
   "metadata": {},
   "outputs": [],
   "source": [
    "# Mapping numerical months to month names\n",
    "month_mapping = {\n",
    "    1: 'January', 2: 'February', 3: 'March', 4: 'April',\n",
    "    5: 'May', 6: 'June', 7: 'July', 8: 'August',\n",
    "    9: 'September', 10: 'October', 11: 'November', 12: 'December'\n",
    "}\n",
    "# Adding Month Name Column\n",
    "filtered_df.loc[:, 'month_name'] = filtered_df['month'].map(month_mapping)\n",
    "# Dropping associated month column\n",
    "filtered_df = filtered_df.drop('month', axis=1)"
   ]
  },
  {
   "cell_type": "markdown",
   "metadata": {},
   "source": [
    "##### One Hot Encoding\n",
    "- wl_home\n",
    "- season_type\n",
    "- day_of_week\n",
    "- month_name"
   ]
  },
  {
   "cell_type": "code",
   "execution_count": 11,
   "metadata": {},
   "outputs": [],
   "source": [
    "wl_home_ohe = pd.get_dummies(filtered_df[\"wl_home\"], dtype=int)\n",
    "season_type_ohe = pd.get_dummies(filtered_df[\"season_type\"], dtype=int)\n",
    "day_of_week_ohe = pd.get_dummies(filtered_df[\"day_of_week\"], dtype=int)\n",
    "month_ohe = pd.get_dummies(filtered_df[\"month_name\"], dtype=int)\n"
   ]
  },
  {
   "cell_type": "markdown",
   "metadata": {},
   "source": [
    "Convert Booleans"
   ]
  },
  {
   "cell_type": "code",
   "execution_count": 12,
   "metadata": {},
   "outputs": [],
   "source": [
    "filtered_df[\"prev_playoffs_home_team\"] = filtered_df[\"prev_playoffs_home_team\"].astype(int)\n",
    "filtered_df[\"prev_playoffs_away_team\"] = filtered_df[\"prev_playoffs_away_team\"].astype(int)"
   ]
  },
  {
   "cell_type": "markdown",
   "metadata": {},
   "source": [
    "##### Merging new features"
   ]
  },
  {
   "cell_type": "code",
   "execution_count": 13,
   "metadata": {},
   "outputs": [],
   "source": [
    "to_concat = [filtered_df.select_dtypes(\"number\"),\n",
    "             wl_home_ohe.add_prefix(\"result_home_\"),\n",
    "             day_of_week_ohe.add_prefix(\"day_of_week_\"),\n",
    "             month_ohe.add_prefix(\"month_\")]"
   ]
  },
  {
   "cell_type": "code",
   "execution_count": 14,
   "metadata": {},
   "outputs": [
    {
     "data": {
      "text/plain": [
       "(21858, 53)"
      ]
     },
     "execution_count": 14,
     "metadata": {},
     "output_type": "execute_result"
    }
   ],
   "source": [
    "correlation_df = pd.concat(to_concat, axis=1)\n",
    "correlation_df.shape"
   ]
  },
  {
   "cell_type": "markdown",
   "metadata": {},
   "source": [
    "### Dimensionality Reduction\n",
    "Correlation Analysis: \n",
    "- Calculate correlations between different features to identify strong relationships.\n",
    "- Removing highly correlated features"
   ]
  },
  {
   "cell_type": "markdown",
   "metadata": {},
   "source": [
    "##### Identifying Multicollinearity "
   ]
  },
  {
   "cell_type": "code",
   "execution_count": 15,
   "metadata": {},
   "outputs": [],
   "source": [
    "# Calculating the correlation matrix and saving it to a data frame\n",
    "correlation_matrix = correlation_df.corr()"
   ]
  },
  {
   "cell_type": "code",
   "execution_count": 16,
   "metadata": {},
   "outputs": [],
   "source": [
    "# Filtering the correlation matrix to show only high correlations (|correlation coefficient| > 0.8)\n",
    "threshold = 0.8"
   ]
  },
  {
   "cell_type": "code",
   "execution_count": 17,
   "metadata": {},
   "outputs": [
    {
     "data": {
      "text/plain": [
       "(32, 3)"
      ]
     },
     "execution_count": 17,
     "metadata": {},
     "output_type": "execute_result"
    }
   ],
   "source": [
    "# Extracting pairs of highly correlated features\n",
    "correlated_features = []\n",
    "for i in range(len(correlation_matrix.columns)):\n",
    "    for j in range(i):\n",
    "        if abs(correlation_matrix.iloc[i, j]) > threshold:\n",
    "            correlated_features.append({\n",
    "                'Feature 1': correlation_matrix.columns[i],\n",
    "                'Feature 2': correlation_matrix.columns[j],\n",
    "                'Correlation': correlation_matrix.iloc[i, j]\n",
    "            })\n",
    "\n",
    "# Converting to DataFrame and sort by correlation\n",
    "high_corr_df = pd.DataFrame(correlated_features)\n",
    "high_corr_df = high_corr_df.sort_values(by='Correlation', ascending=False)\n",
    "\n",
    "high_corr_df.shape"
   ]
  },
  {
   "cell_type": "markdown",
   "metadata": {},
   "source": [
    "##### Removing Highly Correlated Features"
   ]
  },
  {
   "cell_type": "code",
   "execution_count": 18,
   "metadata": {},
   "outputs": [],
   "source": [
    "# Combining all features from both columns into a single list\n",
    "features = list(high_corr_df['Feature 1']) + list(high_corr_df['Feature 2'])\n",
    "\n",
    "# Counting occurrences of each feature\n",
    "feature_counts = Counter(features)\n",
    "\n",
    "# Extracting features that appear more than once\n",
    "features_more_than_once = [feature for feature, count in feature_counts.items() if count > 1]"
   ]
  },
  {
   "cell_type": "code",
   "execution_count": 19,
   "metadata": {},
   "outputs": [
    {
     "data": {
      "text/plain": [
       "(21858, 43)"
      ]
     },
     "execution_count": 19,
     "metadata": {},
     "output_type": "execute_result"
    }
   ],
   "source": [
    "# Dropping the identified features from the dataset\n",
    "data_reduced = correlation_df.drop(columns=features_more_than_once)\n",
    "data_reduced.shape"
   ]
  },
  {
   "cell_type": "code",
   "execution_count": 20,
   "metadata": {},
   "outputs": [],
   "source": [
    "# Recalculating the correlation matrix and saving it to a data frame\n",
    "correlation_matrix = data_reduced.corr()"
   ]
  },
  {
   "cell_type": "code",
   "execution_count": 21,
   "metadata": {},
   "outputs": [
    {
     "data": {
      "text/plain": [
       "(8, 3)"
      ]
     },
     "execution_count": 21,
     "metadata": {},
     "output_type": "execute_result"
    }
   ],
   "source": [
    "# Extracting remaining pairs of highly correlated features\n",
    "correlated_features = []\n",
    "for i in range(len(correlation_matrix.columns)):\n",
    "    for j in range(i):\n",
    "        if abs(correlation_matrix.iloc[i, j]) > threshold:\n",
    "            correlated_features.append({\n",
    "                'Feature 1': correlation_matrix.columns[i],\n",
    "                'Feature 2': correlation_matrix.columns[j],\n",
    "                'Correlation': correlation_matrix.iloc[i, j]\n",
    "            })\n",
    "\n",
    "# Converting to DataFrame and sort by correlation\n",
    "high_corr_df = pd.DataFrame(correlated_features)\n",
    "high_corr_df.shape"
   ]
  },
  {
   "cell_type": "code",
   "execution_count": 22,
   "metadata": {},
   "outputs": [
    {
     "data": {
      "text/html": [
       "<div>\n",
       "<style scoped>\n",
       "    .dataframe tbody tr th:only-of-type {\n",
       "        vertical-align: middle;\n",
       "    }\n",
       "\n",
       "    .dataframe tbody tr th {\n",
       "        vertical-align: top;\n",
       "    }\n",
       "\n",
       "    .dataframe thead th {\n",
       "        text-align: right;\n",
       "    }\n",
       "</style>\n",
       "<table border=\"1\" class=\"dataframe\">\n",
       "  <thead>\n",
       "    <tr style=\"text-align: right;\">\n",
       "      <th></th>\n",
       "      <th>Feature 1</th>\n",
       "      <th>Feature 2</th>\n",
       "      <th>Correlation</th>\n",
       "    </tr>\n",
       "  </thead>\n",
       "  <tbody>\n",
       "    <tr>\n",
       "      <th>0</th>\n",
       "      <td>wins_at_home_home_team</td>\n",
       "      <td>season_w_home_team</td>\n",
       "      <td>0.963698</td>\n",
       "    </tr>\n",
       "    <tr>\n",
       "      <th>1</th>\n",
       "      <td>losses_at_home_home_team</td>\n",
       "      <td>season_l_home_team</td>\n",
       "      <td>0.947708</td>\n",
       "    </tr>\n",
       "    <tr>\n",
       "      <th>2</th>\n",
       "      <td>pts_pg_at_home_home_team</td>\n",
       "      <td>season_pts_pg_home_team</td>\n",
       "      <td>0.965169</td>\n",
       "    </tr>\n",
       "    <tr>\n",
       "      <th>3</th>\n",
       "      <td>season_win_pct_at_home_home_team</td>\n",
       "      <td>season_win_pct_home_team</td>\n",
       "      <td>0.898761</td>\n",
       "    </tr>\n",
       "    <tr>\n",
       "      <th>4</th>\n",
       "      <td>away_wins_away_team</td>\n",
       "      <td>season_w_away_team</td>\n",
       "      <td>0.944279</td>\n",
       "    </tr>\n",
       "    <tr>\n",
       "      <th>5</th>\n",
       "      <td>away_losses_away_team</td>\n",
       "      <td>season_l_away_team</td>\n",
       "      <td>0.960716</td>\n",
       "    </tr>\n",
       "    <tr>\n",
       "      <th>6</th>\n",
       "      <td>away_pts_pg_away_team</td>\n",
       "      <td>season_pts_pg_away_team</td>\n",
       "      <td>0.965211</td>\n",
       "    </tr>\n",
       "    <tr>\n",
       "      <th>7</th>\n",
       "      <td>season_away_win_pct_away_team</td>\n",
       "      <td>season_win_pct_away_team</td>\n",
       "      <td>0.890059</td>\n",
       "    </tr>\n",
       "  </tbody>\n",
       "</table>\n",
       "</div>"
      ],
      "text/plain": [
       "                          Feature 1                 Feature 2  Correlation\n",
       "0            wins_at_home_home_team        season_w_home_team     0.963698\n",
       "1          losses_at_home_home_team        season_l_home_team     0.947708\n",
       "2          pts_pg_at_home_home_team   season_pts_pg_home_team     0.965169\n",
       "3  season_win_pct_at_home_home_team  season_win_pct_home_team     0.898761\n",
       "4               away_wins_away_team        season_w_away_team     0.944279\n",
       "5             away_losses_away_team        season_l_away_team     0.960716\n",
       "6             away_pts_pg_away_team   season_pts_pg_away_team     0.965211\n",
       "7     season_away_win_pct_away_team  season_win_pct_away_team     0.890059"
      ]
     },
     "execution_count": 22,
     "metadata": {},
     "output_type": "execute_result"
    }
   ],
   "source": [
    "high_corr_df.head(10)"
   ]
  },
  {
   "cell_type": "code",
   "execution_count": 23,
   "metadata": {},
   "outputs": [],
   "source": [
    "features_to_remove = ['wins_at_home_home_team', 'losses_at_home_home_team', 'pts_pg_at_home_home_team', \n",
    "                      'season_win_pct_at_home_home_team', 'away_wins_away_team', 'away_losses_away_team', \n",
    "                      'away_pts_pg_away_team', 'season_away_win_pct_away_team']"
   ]
  },
  {
   "cell_type": "code",
   "execution_count": 24,
   "metadata": {},
   "outputs": [
    {
     "data": {
      "text/plain": [
       "(21858, 35)"
      ]
     },
     "execution_count": 24,
     "metadata": {},
     "output_type": "execute_result"
    }
   ],
   "source": [
    "# Dropping the identified features from the dataset\n",
    "cleaned_data = data_reduced.drop(columns=features_to_remove)\n",
    "cleaned_data.shape"
   ]
  },
  {
   "cell_type": "code",
   "execution_count": 25,
   "metadata": {},
   "outputs": [],
   "source": [
    "# Uncomment to save cleaned data\n",
    "#cleaned_data.to_csv('data/cleaned_data.csv', index=False)"
   ]
  },
  {
   "cell_type": "markdown",
   "metadata": {},
   "source": [
    "## Identifying Attendance Predictors"
   ]
  },
  {
   "cell_type": "markdown",
   "metadata": {},
   "source": [
    "#### Implementing Logistic Regression Model\n",
    "- Using grid search to find optimal parameters to maximize accuracy\n",
    "- Evaluate model performance by analyzing key metrics\n",
    "- Identify top positive and negative predictors of above average game attendance"
   ]
  },
  {
   "cell_type": "markdown",
   "metadata": {},
   "source": [
    "Splitting Dataset"
   ]
  },
  {
   "cell_type": "code",
   "execution_count": 26,
   "metadata": {},
   "outputs": [],
   "source": [
    "X = cleaned_data.drop(columns=['above_avg_attendance'])\n",
    "y = cleaned_data['above_avg_attendance']\n",
    "\n",
    "# Splitting the data into training and testing sets (80% training, 20% testing)\n",
    "X_train, X_test, y_train, y_test = train_test_split(X, y, test_size=0.2, stratify=y, random_state=25)"
   ]
  },
  {
   "cell_type": "markdown",
   "metadata": {},
   "source": [
    "Defining the parameter grid"
   ]
  },
  {
   "cell_type": "code",
   "execution_count": 27,
   "metadata": {},
   "outputs": [],
   "source": [
    "param_grid = {\n",
    "    'scaler': [StandardScaler(), MinMaxScaler(), RobustScaler()],  # Different scalers\n",
    "    'logistic_regression__C': np.logspace(-3, 3, 10),  # Controls the inverse of regularization strength. Smaller values specify stronger regularization.\n",
    "    'logistic_regression__penalty': ['l1', 'l2'],  # Type of regularization: L1 (Lasso), L2 (Ridge)\n",
    "    'logistic_regression__solver': ['liblinear', 'saga'],  # Solvers that support l1 penalties\n",
    "    'logistic_regression__max_iter': [1000]  # Iteration limit for all configurations\n",
    "}"
   ]
  },
  {
   "cell_type": "markdown",
   "metadata": {},
   "source": [
    "Creating a pipeline to include the scaler and logistic regression"
   ]
  },
  {
   "cell_type": "code",
   "execution_count": 28,
   "metadata": {},
   "outputs": [],
   "source": [
    "pipeline = Pipeline([\n",
    "    ('scaler', StandardScaler()),  # Initial scaler, will be overridden by GridSearchCV\n",
    "    ('logistic_regression', LogisticRegression(random_state=25, solver='saga')) \n",
    "])"
   ]
  },
  {
   "cell_type": "markdown",
   "metadata": {},
   "source": [
    "Training Logistic Regression Model"
   ]
  },
  {
   "cell_type": "code",
   "execution_count": null,
   "metadata": {},
   "outputs": [],
   "source": [
    "# Initialize Grid Search\n",
    "grid_search = GridSearchCV(estimator=pipeline, param_grid=param_grid, cv=5, scoring='accuracy')\n",
    "\n",
    "# Fit Grid Search on the training data\n",
    "grid_search.fit(X_train, y_train) \n",
    "\n",
    "# Extract the best model\n",
    "best_model = grid_search.best_estimator_"
   ]
  },
  {
   "cell_type": "markdown",
   "metadata": {},
   "source": [
    "#### Evaluating the Model"
   ]
  },
  {
   "cell_type": "markdown",
   "metadata": {},
   "source": [
    "Accuracy"
   ]
  },
  {
   "cell_type": "code",
   "execution_count": 30,
   "metadata": {},
   "outputs": [
    {
     "name": "stdout",
     "output_type": "stream",
     "text": [
      "Best Parameters found by Grid Search: {'logistic_regression__C': 0.021544346900318832, 'logistic_regression__max_iter': 1000, 'logistic_regression__penalty': 'l1', 'logistic_regression__solver': 'saga', 'scaler': StandardScaler()}\n",
      "Accuracy of the best model: 0.656907593778591\n"
     ]
    }
   ],
   "source": [
    "y_pred_best = best_model.predict(X_test)\n",
    "\n",
    "# Evaluate the model performance\n",
    "print(\"Best Parameters found by Grid Search:\", grid_search.best_params_)\n",
    "print(\"Accuracy of the best model:\", accuracy_score(y_test, y_pred_best))"
   ]
  },
  {
   "cell_type": "markdown",
   "metadata": {},
   "source": [
    "The model correctly predicts whether a game will have above-average attendance about 66% of the time. While not very high, it indicates that the model is better than random guessing"
   ]
  },
  {
   "cell_type": "markdown",
   "metadata": {},
   "source": [
    "Confusion Matrix"
   ]
  },
  {
   "cell_type": "code",
   "execution_count": 36,
   "metadata": {},
   "outputs": [
    {
     "data": {
      "image/png": "[encoded data removed]",
      "text/plain": [
       "<Figure size 400x300 with 1 Axes>"
      ]
     },
     "metadata": {},
     "output_type": "display_data"
    }
   ],
   "source": [
    "# Confusion Matrix\n",
    "conf_matrix = confusion_matrix(y_test, y_pred_best)\n",
    "plt.figure(figsize=(4, 3))\n",
    "sns.heatmap(conf_matrix, annot=True, fmt=\"d\", cmap=\"Blues\", cbar=False)\n",
    "plt.title(\"Confusion Matrix\")\n",
    "plt.xlabel(\"Predicted Label\")\n",
    "plt.ylabel(\"True Label\")\n",
    "\n",
    "# Save visual\n",
    "plt.savefig(os.path.join(save_dir, 'confusion_matrix.png'))\n",
    "\n",
    "plt.show()"
   ]
  },
  {
   "cell_type": "markdown",
   "metadata": {},
   "source": [
    "The model has more True Negatives and True Positives than False Positives and False Negatives, which is good. However, the number of False Negatives (854) is relatively high, indicating that the model struggles more with predicting above-average attendance correctly.<br>"
   ]
  },
  {
   "cell_type": "markdown",
   "metadata": {},
   "source": [
    "Classification Report"
   ]
  },
  {
   "cell_type": "code",
   "execution_count": 33,
   "metadata": {},
   "outputs": [
    {
     "name": "stdout",
     "output_type": "stream",
     "text": [
      "Classification Report:\n",
      "               precision    recall  f1-score   support\n",
      "\n",
      "           0       0.67      0.72      0.69      2345\n",
      "           1       0.64      0.58      0.61      2027\n",
      "\n",
      "    accuracy                           0.66      4372\n",
      "   macro avg       0.66      0.65      0.65      4372\n",
      "weighted avg       0.66      0.66      0.65      4372\n",
      "\n"
     ]
    }
   ],
   "source": [
    "# Classification Report\n",
    "class_report = classification_report(y_test, y_pred_best)\n",
    "print(\"Classification Report:\\n\", class_report)"
   ]
  },
  {
   "cell_type": "markdown",
   "metadata": {},
   "source": [
    "The model has a higher precision and recall for class 0 (below-average attendance) compared to class 1 (above-average attendance). This suggests the model is more conservative and tends to predict games as below-average attendance more often than not, potentially missing some games that would actually have above-average attendance.<br>\n",
    "\n",
    "Macro Avg & Weighted Avg:\n",
    "Both the macro and weighted averages are around 0.65, consistent with the accuracy. It confirms that the model's performance is relatively consistent across classes, but there’s room for improvement."
   ]
  },
  {
   "cell_type": "markdown",
   "metadata": {},
   "source": [
    "#### Findings"
   ]
  },
  {
   "cell_type": "markdown",
   "metadata": {},
   "source": [
    "Extracting coefficients"
   ]
  },
  {
   "cell_type": "code",
   "execution_count": 34,
   "metadata": {},
   "outputs": [
    {
     "name": "stdout",
     "output_type": "stream",
     "text": [
      "Top Positive Predictors:\n",
      "                          Coefficient\n",
      "season_w_away_team          0.423785\n",
      "day_of_week_Saturday        0.350248\n",
      "day_of_week_Friday          0.294719\n",
      "month_October               0.197018\n",
      "month_April                 0.155200\n",
      "month_March                 0.119865\n",
      "season_l_home_team          0.075399\n",
      "day_of_week_Sunday          0.055844\n",
      "prev_playoffs_away_team     0.047045\n",
      "pts_away                    0.024963\n"
     ]
    }
   ],
   "source": [
    "log_reg = best_model.named_steps['logistic_regression']\n",
    "coefficients = pd.DataFrame(log_reg.coef_.flatten(), index=X.columns, columns=['Coefficient'])\n",
    "coefficients = coefficients.sort_values(by='Coefficient', ascending=False)\n",
    "\n",
    "print(\"Top Positive Predictors:\\n\", coefficients.head(10))"
   ]
  },
  {
   "cell_type": "markdown",
   "metadata": {},
   "source": [
    "**Top Positive Predictors:**\n",
    "- **season_w_away_team**:\n",
    "  - As the number of wins for the away team in the season increases, the likelihood of above-average attendance increases. This suggests that stronger away teams draw more fans.\n",
    "\n",
    "- **day_of_week_Saturday, Friday, Sunday**:\n",
    "  - Games played on Saturdays & Sundays are more likely to have above-average attendance. This is likely because more people are available to attend games on weekends. Similarly, Fridays are also associated with higher attendance, likely due to the start of the weekend.\n",
    "\n",
    "- **month_October, April, March**:\n",
    "  - These months correspond to the start and end of the regular season and are associated with higher attendance.\n",
    "\n",
    "- **season_l_home_team**:\n",
    "  - Interestingly, the more losses the home team has in the season, the more likely it is to have above-average attendance. This could be interpreted as fans being more likely to attend games to support a struggling team, though this could also reflect some other underlying factor.\n",
    "\n",
    "- **prev_playoffs_away_team**:\n",
    "  - If the away team was in the playoffs the previous season, it slightly increases the chance of above-average attendance, possibly because of their perceived competitiveness or fan interest."
   ]
  },
  {
   "cell_type": "code",
   "execution_count": 35,
   "metadata": {},
   "outputs": [
    {
     "name": "stdout",
     "output_type": "stream",
     "text": [
      "Top Negative Predictors:\n",
      "                        Coefficient\n",
      "month_November           -0.198258\n",
      "distance_miles           -0.138886\n",
      "day_of_week_Tuesday      -0.127407\n",
      "day_of_week_Monday       -0.125717\n",
      "team_id_away             -0.124285\n",
      "month_December           -0.108050\n",
      "day_of_week_Wednesday    -0.095971\n",
      "season                   -0.082144\n",
      "month_January            -0.065824\n",
      "team_id_home             -0.026817\n"
     ]
    }
   ],
   "source": [
    "coefficients = coefficients.sort_values(by='Coefficient')\n",
    "print(\"Top Negative Predictors:\\n\", coefficients.head(10))"
   ]
  },
  {
   "cell_type": "markdown",
   "metadata": {},
   "source": [
    "**Top Negative Predictors:**\n",
    "- **month_November, December, January**:\n",
    "  - Games in November, December, and January are less likely to have above-average attendance, possibly due to competing holiday activities or the early stage of the season.\n",
    "\n",
    "- **distance_miles**:\n",
    "  - The greater the distance the away team has to travel, the less likely it is that the game will have above-average attendance. This could be due to the reduced interest in games with less well-known or local rival teams.\n",
    "\n",
    "- **day_of_week_Wednesday, Monday, Tuesday**:\n",
    "  - Games on these weekdays are less likely to have above-average attendance, likely because they are midweek and less convenient for fans to attend.\n",
    "\n",
    "- **team_id_away, home**:\n",
    "  - The specific ID of the teams playing negatively impacts attendance. This likely reflects the effect of certain less popular teams on drawing crowds. Might be worth exploring in the future to see which teams negatively affect attendance.\n",
    "\n",
    "- **season**:\n",
    "  - The specific season, has a negative impact on attendance, later seasons could have lower interest.\n"
   ]
  },
  {
   "cell_type": "markdown",
   "metadata": {},
   "source": [
    "## Summary\n",
    "- **Key Influencers**: The day of the week, the success of both the home and away teams, and the month of the game are key factors influencing attendance.\n",
    "- **Potential Considerations**: Factors like distance and specific team IDs suggest some games are less attractive to fans, particularly those involving less competitive or geographically distant teams.\n",
    "\n",
    "These insights can help guide strategies to boost attendance, such as scheduling key matchups on weekends or focusing marketing efforts on games with potentially lower draw due to timing or team dynamics."
   ]
  }
 ],
 "metadata": {
  "kernelspec": {
   "display_name": "nba",
   "language": "python",
   "name": "python3"
  },
  "language_info": {
   "codemirror_mode": {
    "name": "ipython",
    "version": 3
   },
   "file_extension": ".py",
   "mimetype": "text/x-python",
   "name": "python",
   "nbconvert_exporter": "python",
   "pygments_lexer": "ipython3",
   "version": "3.12.4"
  }
 },
 "nbformat": 4,
 "nbformat_minor": 2
}
